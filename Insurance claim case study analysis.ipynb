{
 "cells": [
  {
   "cell_type": "code",
   "execution_count": 1,
   "id": "91dd9083-34d8-42a2-bc33-1b626fade3d5",
   "metadata": {},
   "outputs": [],
   "source": [
    "import pandas as pd \n",
    "import numpy as np \n",
    "import matplotlib.pyplot as plt \n",
    "%matplotlib inline \n",
    "import os\n",
    "import seaborn as sns\n",
    "import warnings\n",
    "import scipy.stats as stats"
   ]
  },
  {
   "cell_type": "markdown",
   "id": "19420756-4618-417a-9881-903eabfffe00",
   "metadata": {},
   "source": [
    "# 1. Import claims_data.csv and cust_data.csv which is provided to you and combine the two datasets appropriately to create a 360-degree view of \n",
    "# the data, Use the same for the subsequent questions"
   ]
  },
  {
   "cell_type": "code",
   "execution_count": 3,
   "id": "eba66223-3c05-4b56-98e0-c0350512b997",
   "metadata": {},
   "outputs": [],
   "source": [
    "os.chdir('C:\\\\Users\\\\nikit\\\\Desktop\\\\ALABS\\\\PYTHON CASE STUDIES\\\\CASE studies\\\\Case Study 3 - Insurance Claims Case Study')"
   ]
  },
  {
   "cell_type": "code",
   "execution_count": 5,
   "id": "0ba872f3-8df5-4e52-89c6-195360416da3",
   "metadata": {},
   "outputs": [],
   "source": [
    "claims = pd.read_csv('claims.csv')\n",
    "Demographics = pd.read_csv('cust_demographics.csv')"
   ]
  },
  {
   "cell_type": "code",
   "execution_count": 266,
   "id": "02228193-fef3-45b3-a925-8536079a1b38",
   "metadata": {},
   "outputs": [
    {
     "name": "stdout",
     "output_type": "stream",
     "text": [
      "<class 'pandas.core.frame.DataFrame'>\n",
      "RangeIndex: 1100 entries, 0 to 1099\n",
      "Data columns (total 10 columns):\n",
      " #   Column               Non-Null Count  Dtype         \n",
      "---  ------               --------------  -----         \n",
      " 0   claim_id             1100 non-null   int64         \n",
      " 1   customer_id          1100 non-null   int64         \n",
      " 2   incident_cause       1100 non-null   object        \n",
      " 3   claim_date           1100 non-null   datetime64[ns]\n",
      " 4   claim_area           1100 non-null   object        \n",
      " 5   police_report        1100 non-null   object        \n",
      " 6   claim_type           1100 non-null   object        \n",
      " 7   claim_amount         1100 non-null   float64       \n",
      " 8   total_policy_claims  1100 non-null   float64       \n",
      " 9   fraudulent           1100 non-null   object        \n",
      "dtypes: datetime64[ns](1), float64(2), int64(2), object(5)\n",
      "memory usage: 86.1+ KB\n"
     ]
    }
   ],
   "source": [
    "claims.info()"
   ]
  },
  {
   "cell_type": "code",
   "execution_count": 11,
   "id": "89393eb9-b383-4613-a189-20b0c5be3a31",
   "metadata": {},
   "outputs": [
    {
     "name": "stdout",
     "output_type": "stream",
     "text": [
      "<class 'pandas.core.frame.DataFrame'>\n",
      "RangeIndex: 1085 entries, 0 to 1084\n",
      "Data columns (total 6 columns):\n",
      " #   Column       Non-Null Count  Dtype \n",
      "---  ------       --------------  ----- \n",
      " 0   CUST_ID      1085 non-null   int64 \n",
      " 1   gender       1085 non-null   object\n",
      " 2   DateOfBirth  1085 non-null   object\n",
      " 3   State        1085 non-null   object\n",
      " 4   Contact      1085 non-null   object\n",
      " 5   Segment      1085 non-null   object\n",
      "dtypes: int64(1), object(5)\n",
      "memory usage: 51.0+ KB\n"
     ]
    }
   ],
   "source": [
    "Demographics.info()"
   ]
  },
  {
   "cell_type": "code",
   "execution_count": 19,
   "id": "5a1eefd1-d717-4a86-84af-8e0616902be9",
   "metadata": {},
   "outputs": [
    {
     "name": "stdout",
     "output_type": "stream",
     "text": [
      "The claims table contains 1100 rows and 10 columns\n",
      "The Customer Demographics table contains 1085 rows and 6 columns\n"
     ]
    }
   ],
   "source": [
    "print ('The claims table contains',claims.shape[0],'rows and',claims.shape[1],'columns')\n",
    "print ('The Customer Demographics table contains', Demographics.shape[0],'rows and',Demographics.shape[1],'columns')"
   ]
  },
  {
   "cell_type": "code",
   "execution_count": 7,
   "id": "a8cc0b68-ed7f-4897-b774-feadf4ded99e",
   "metadata": {},
   "outputs": [
    {
     "data": {
      "text/html": [
       "<div>\n",
       "<style scoped>\n",
       "    .dataframe tbody tr th:only-of-type {\n",
       "        vertical-align: middle;\n",
       "    }\n",
       "\n",
       "    .dataframe tbody tr th {\n",
       "        vertical-align: top;\n",
       "    }\n",
       "\n",
       "    .dataframe thead th {\n",
       "        text-align: right;\n",
       "    }\n",
       "</style>\n",
       "<table border=\"1\" class=\"dataframe\">\n",
       "  <thead>\n",
       "    <tr style=\"text-align: right;\">\n",
       "      <th></th>\n",
       "      <th>count</th>\n",
       "      <th>mean</th>\n",
       "      <th>std</th>\n",
       "      <th>min</th>\n",
       "      <th>25%</th>\n",
       "      <th>50%</th>\n",
       "      <th>75%</th>\n",
       "      <th>max</th>\n",
       "    </tr>\n",
       "  </thead>\n",
       "  <tbody>\n",
       "    <tr>\n",
       "      <th>claim_id</th>\n",
       "      <td>1100.0</td>\n",
       "      <td>4.883819e+07</td>\n",
       "      <td>2.918806e+07</td>\n",
       "      <td>26832.0</td>\n",
       "      <td>23815805.0</td>\n",
       "      <td>48539331.0</td>\n",
       "      <td>74074466.00</td>\n",
       "      <td>99775483.0</td>\n",
       "    </tr>\n",
       "    <tr>\n",
       "      <th>customer_id</th>\n",
       "      <td>1100.0</td>\n",
       "      <td>5.079954e+07</td>\n",
       "      <td>2.847727e+07</td>\n",
       "      <td>154557.0</td>\n",
       "      <td>26479506.5</td>\n",
       "      <td>49790067.0</td>\n",
       "      <td>76019781.25</td>\n",
       "      <td>99961993.0</td>\n",
       "    </tr>\n",
       "    <tr>\n",
       "      <th>total_policy_claims</th>\n",
       "      <td>1090.0</td>\n",
       "      <td>1.591743e+00</td>\n",
       "      <td>1.147251e+00</td>\n",
       "      <td>1.0</td>\n",
       "      <td>1.0</td>\n",
       "      <td>1.0</td>\n",
       "      <td>2.00</td>\n",
       "      <td>8.0</td>\n",
       "    </tr>\n",
       "  </tbody>\n",
       "</table>\n",
       "</div>"
      ],
      "text/plain": [
       "                      count          mean           std       min         25%  \\\n",
       "claim_id             1100.0  4.883819e+07  2.918806e+07   26832.0  23815805.0   \n",
       "customer_id          1100.0  5.079954e+07  2.847727e+07  154557.0  26479506.5   \n",
       "total_policy_claims  1090.0  1.591743e+00  1.147251e+00       1.0         1.0   \n",
       "\n",
       "                            50%          75%         max  \n",
       "claim_id             48539331.0  74074466.00  99775483.0  \n",
       "customer_id          49790067.0  76019781.25  99961993.0  \n",
       "total_policy_claims         1.0         2.00         8.0  "
      ]
     },
     "execution_count": 7,
     "metadata": {},
     "output_type": "execute_result"
    }
   ],
   "source": [
    "claims.describe().T"
   ]
  },
  {
   "cell_type": "code",
   "execution_count": 9,
   "id": "0c2de725-fcac-4cdd-90fa-fe567100ad5d",
   "metadata": {},
   "outputs": [
    {
     "data": {
      "text/html": [
       "<div>\n",
       "<style scoped>\n",
       "    .dataframe tbody tr th:only-of-type {\n",
       "        vertical-align: middle;\n",
       "    }\n",
       "\n",
       "    .dataframe tbody tr th {\n",
       "        vertical-align: top;\n",
       "    }\n",
       "\n",
       "    .dataframe thead th {\n",
       "        text-align: right;\n",
       "    }\n",
       "</style>\n",
       "<table border=\"1\" class=\"dataframe\">\n",
       "  <thead>\n",
       "    <tr style=\"text-align: right;\">\n",
       "      <th></th>\n",
       "      <th>count</th>\n",
       "      <th>mean</th>\n",
       "      <th>std</th>\n",
       "      <th>min</th>\n",
       "      <th>25%</th>\n",
       "      <th>50%</th>\n",
       "      <th>75%</th>\n",
       "      <th>max</th>\n",
       "    </tr>\n",
       "  </thead>\n",
       "  <tbody>\n",
       "    <tr>\n",
       "      <th>CUST_ID</th>\n",
       "      <td>1085.0</td>\n",
       "      <td>5.084410e+07</td>\n",
       "      <td>2.847987e+07</td>\n",
       "      <td>154557.0</td>\n",
       "      <td>26734721.0</td>\n",
       "      <td>49820646.0</td>\n",
       "      <td>75995055.0</td>\n",
       "      <td>99961993.0</td>\n",
       "    </tr>\n",
       "  </tbody>\n",
       "</table>\n",
       "</div>"
      ],
      "text/plain": [
       "          count          mean           std       min         25%         50%  \\\n",
       "CUST_ID  1085.0  5.084410e+07  2.847987e+07  154557.0  26734721.0  49820646.0   \n",
       "\n",
       "                75%         max  \n",
       "CUST_ID  75995055.0  99961993.0  "
      ]
     },
     "execution_count": 9,
     "metadata": {},
     "output_type": "execute_result"
    }
   ],
   "source": [
    "Demographics.describe().T"
   ]
  },
  {
   "cell_type": "markdown",
   "id": "ec580cb6-70f1-4e99-89a4-05c5e825e7e3",
   "metadata": {},
   "source": [
    "# 2. Perform a data audit for the datatypes and find out if there are any mismatch within the current datatypes of the columns and their business significance"
   ]
  },
  {
   "cell_type": "markdown",
   "id": "b1da2328-b50f-4555-ac8a-8a0bcf151d96",
   "metadata": {},
   "source": [
    "# DATA INCONSISTENCIES"
   ]
  },
  {
   "cell_type": "code",
   "execution_count": 41,
   "id": "953c1469-16ff-4323-9d3c-ac166ed3642f",
   "metadata": {},
   "outputs": [
    {
     "name": "stdout",
     "output_type": "stream",
     "text": [
      "incident_cause\n",
      "Other causes          290\n",
      "Driver error          262\n",
      "Other driver error    249\n",
      "Natural causes        189\n",
      "Crime                 110\n",
      "Name: count, dtype: int64\n",
      "claim_date\n",
      "04/04/2018    18\n",
      "10/17/2017    17\n",
      "07/07/2018    17\n",
      "01/13/2018    17\n",
      "10/03/2018    16\n",
      "              ..\n",
      "06/10/2018     6\n",
      "01/26/2018     6\n",
      "08/04/2017     6\n",
      "08/18/2017     6\n",
      "08/23/2018     5\n",
      "Name: count, Length: 100, dtype: int64\n",
      "claim_area\n",
      "Auto    985\n",
      "Home    115\n",
      "Name: count, dtype: int64\n",
      "police_report\n",
      "No         630\n",
      "Unknown    300\n",
      "Yes        170\n",
      "Name: count, dtype: int64\n",
      "claim_type\n",
      "Material only          663\n",
      "Material and injury    241\n",
      "Injury only            196\n",
      "Name: count, dtype: int64\n",
      "claim_amount\n",
      "$2090       7\n",
      "$2070       7\n",
      "$1630       7\n",
      "$1860       7\n",
      "$2320       7\n",
      "           ..\n",
      "$40210      1\n",
      "$27002      1\n",
      "$33030      1\n",
      "$31498.5    1\n",
      "$36685      1\n",
      "Name: count, Length: 683, dtype: int64\n",
      "fraudulent\n",
      "No     846\n",
      "Yes    254\n",
      "Name: count, dtype: int64\n"
     ]
    }
   ],
   "source": [
    "Claims_cat = claims.select_dtypes(include = 'object')\n",
    "for i in Claims_cat:\n",
    "     print(Claims_cat[i].value_counts())"
   ]
  },
  {
   "cell_type": "code",
   "execution_count": 53,
   "id": "8b8a13d6-6e3a-4df6-816e-70f75d7b3e44",
   "metadata": {},
   "outputs": [
    {
     "name": "stdout",
     "output_type": "stream",
     "text": [
      "gender\n",
      "Male      553\n",
      "Female    532\n",
      "Name: count, dtype: int64\n",
      "DateOfBirth\n",
      "12-Jan-79    1\n",
      "26-May-74    1\n",
      "08-Sep-79    1\n",
      "18-Jun-87    1\n",
      "16-Mar-78    1\n",
      "            ..\n",
      "20-Jul-82    1\n",
      "28-Aug-99    1\n",
      "28-Mar-96    1\n",
      "21-Dec-84    1\n",
      "12-Jul-95    1\n",
      "Name: count, Length: 1085, dtype: int64\n",
      "State\n",
      "NY    31\n",
      "DE    29\n",
      "AR    29\n",
      "ME    28\n",
      "AL    28\n",
      "ID    27\n",
      "ND    27\n",
      "RI    26\n",
      "CO    26\n",
      "TN    26\n",
      "IA    26\n",
      "FL    25\n",
      "NV    25\n",
      "SD    25\n",
      "MA    25\n",
      "CT    25\n",
      "NC    24\n",
      "WI    24\n",
      "IL    23\n",
      "MO    23\n",
      "IN    22\n",
      "TX    22\n",
      "OH    22\n",
      "VT    22\n",
      "OK    21\n",
      "NE    21\n",
      "MD    21\n",
      "MT    20\n",
      "WV    20\n",
      "PA    20\n",
      "SC    20\n",
      "LA    20\n",
      "KS    19\n",
      "AK    19\n",
      "WA    19\n",
      "GA    19\n",
      "NM    19\n",
      "UT    18\n",
      "VA    18\n",
      "MI    18\n",
      "NH    18\n",
      "CA    17\n",
      "HI    17\n",
      "NJ    17\n",
      "MN    17\n",
      "MS    17\n",
      "WY    17\n",
      "AZ    15\n",
      "OR    14\n",
      "KY    14\n",
      "Name: count, dtype: int64\n",
      "Contact\n",
      "789-916-8172    1\n",
      "327-934-6843    1\n",
      "154-695-4765    1\n",
      "196-126-1725    1\n",
      "972-651-4751    1\n",
      "               ..\n",
      "349-214-6872    1\n",
      "624-716-1427    1\n",
      "734-137-4865    1\n",
      "194-786-8173    1\n",
      "182-385-1392    1\n",
      "Name: count, Length: 1085, dtype: int64\n",
      "Segment\n",
      "Gold        372\n",
      "Platinum    364\n",
      "Silver      349\n",
      "Name: count, dtype: int64\n"
     ]
    }
   ],
   "source": [
    "Demographics_cat = Demographics.select_dtypes(include = 'object')\n",
    "for i in Demographics_cat:\n",
    "    print(Demographics_cat[i].value_counts())"
   ]
  },
  {
   "cell_type": "code",
   "execution_count": null,
   "id": "51c16fa2-624b-4aa2-a36e-f6196fe49b1d",
   "metadata": {},
   "outputs": [],
   "source": [
    "# Based on the above observation few inconsistencies to be fixed :\n",
    "- Converting the data type of claim date in claim table  and DOB in customer demographic table to Datetime format.\n",
    "-Convert the column claim_amount to numeric using the appropriate modules/attributes to remove the $ sign."
   ]
  },
  {
   "cell_type": "markdown",
   "id": "764687d7-e1de-4acb-bdcc-6413e28e8e96",
   "metadata": {},
   "source": [
    "## Fixing data inconsistencies:"
   ]
  },
  {
   "cell_type": "markdown",
   "id": "352abe7c-bef2-4021-894a-bc393af05880",
   "metadata": {},
   "source": [
    "###  Converting the data type of claim date in claim table  and DOB in customer demographic table to Datetime format."
   ]
  },
  {
   "cell_type": "code",
   "execution_count": 7,
   "id": "4ff05e08-8102-43a5-8d90-78562a43a7db",
   "metadata": {},
   "outputs": [],
   "source": [
    "\n",
    "claims.claim_date = claims.claim_date.str.replace('/','-')\n",
    "Demographics.DateOfBirth= Demographics.DateOfBirth.str.replace('/','-')"
   ]
  },
  {
   "cell_type": "code",
   "execution_count": 9,
   "id": "f2ecb7f2-d039-435f-905c-d0d4c9d6ddc8",
   "metadata": {},
   "outputs": [],
   "source": [
    "claims.claim_date= pd.to_datetime(claims.claim_date, format = '%m-%d-%Y' )"
   ]
  },
  {
   "cell_type": "code",
   "execution_count": 11,
   "id": "96f9a520-515b-4d7f-ba92-772f2be9fcc7",
   "metadata": {},
   "outputs": [],
   "source": [
    "Demographics.DateOfBirth=pd.to_datetime(Demographics.DateOfBirth, format = '%d-%b-%y')"
   ]
  },
  {
   "cell_type": "code",
   "execution_count": 13,
   "id": "b0466d79-8411-48b1-a42b-0b1302a0bf3a",
   "metadata": {},
   "outputs": [
    {
     "data": {
      "text/html": [
       "<div>\n",
       "<style scoped>\n",
       "    .dataframe tbody tr th:only-of-type {\n",
       "        vertical-align: middle;\n",
       "    }\n",
       "\n",
       "    .dataframe tbody tr th {\n",
       "        vertical-align: top;\n",
       "    }\n",
       "\n",
       "    .dataframe thead th {\n",
       "        text-align: right;\n",
       "    }\n",
       "</style>\n",
       "<table border=\"1\" class=\"dataframe\">\n",
       "  <thead>\n",
       "    <tr style=\"text-align: right;\">\n",
       "      <th></th>\n",
       "      <th>CUST_ID</th>\n",
       "      <th>gender</th>\n",
       "      <th>DateOfBirth</th>\n",
       "      <th>State</th>\n",
       "      <th>Contact</th>\n",
       "      <th>Segment</th>\n",
       "    </tr>\n",
       "  </thead>\n",
       "  <tbody>\n",
       "    <tr>\n",
       "      <th>9</th>\n",
       "      <td>33507197</td>\n",
       "      <td>Female</td>\n",
       "      <td>2066-09-09</td>\n",
       "      <td>RI</td>\n",
       "      <td>165-519-4583</td>\n",
       "      <td>Gold</td>\n",
       "    </tr>\n",
       "    <tr>\n",
       "      <th>13</th>\n",
       "      <td>21240703</td>\n",
       "      <td>Male</td>\n",
       "      <td>2063-07-22</td>\n",
       "      <td>MD</td>\n",
       "      <td>473-561-2675</td>\n",
       "      <td>Silver</td>\n",
       "    </tr>\n",
       "    <tr>\n",
       "      <th>17</th>\n",
       "      <td>63916778</td>\n",
       "      <td>Male</td>\n",
       "      <td>2066-09-07</td>\n",
       "      <td>IL</td>\n",
       "      <td>146-157-4572</td>\n",
       "      <td>Platinum</td>\n",
       "    </tr>\n",
       "    <tr>\n",
       "      <th>18</th>\n",
       "      <td>17004138</td>\n",
       "      <td>Female</td>\n",
       "      <td>2065-08-13</td>\n",
       "      <td>WA</td>\n",
       "      <td>436-354-4682</td>\n",
       "      <td>Silver</td>\n",
       "    </tr>\n",
       "    <tr>\n",
       "      <th>20</th>\n",
       "      <td>75584003</td>\n",
       "      <td>Female</td>\n",
       "      <td>2067-04-22</td>\n",
       "      <td>OK</td>\n",
       "      <td>723-418-3248</td>\n",
       "      <td>Silver</td>\n",
       "    </tr>\n",
       "    <tr>\n",
       "      <th>...</th>\n",
       "      <td>...</td>\n",
       "      <td>...</td>\n",
       "      <td>...</td>\n",
       "      <td>...</td>\n",
       "      <td>...</td>\n",
       "      <td>...</td>\n",
       "    </tr>\n",
       "    <tr>\n",
       "      <th>1058</th>\n",
       "      <td>56425562</td>\n",
       "      <td>Female</td>\n",
       "      <td>2063-03-18</td>\n",
       "      <td>GA</td>\n",
       "      <td>823-712-3528</td>\n",
       "      <td>Platinum</td>\n",
       "    </tr>\n",
       "    <tr>\n",
       "      <th>1074</th>\n",
       "      <td>87596868</td>\n",
       "      <td>Male</td>\n",
       "      <td>2061-11-18</td>\n",
       "      <td>AZ</td>\n",
       "      <td>573-396-3182</td>\n",
       "      <td>Silver</td>\n",
       "    </tr>\n",
       "    <tr>\n",
       "      <th>1077</th>\n",
       "      <td>65208809</td>\n",
       "      <td>Male</td>\n",
       "      <td>2064-04-22</td>\n",
       "      <td>VA</td>\n",
       "      <td>286-128-6132</td>\n",
       "      <td>Platinum</td>\n",
       "    </tr>\n",
       "    <tr>\n",
       "      <th>1079</th>\n",
       "      <td>46850495</td>\n",
       "      <td>Male</td>\n",
       "      <td>2062-08-21</td>\n",
       "      <td>NV</td>\n",
       "      <td>761-193-2346</td>\n",
       "      <td>Platinum</td>\n",
       "    </tr>\n",
       "    <tr>\n",
       "      <th>1083</th>\n",
       "      <td>11256802</td>\n",
       "      <td>Female</td>\n",
       "      <td>2064-10-22</td>\n",
       "      <td>LA</td>\n",
       "      <td>469-345-5617</td>\n",
       "      <td>Silver</td>\n",
       "    </tr>\n",
       "  </tbody>\n",
       "</table>\n",
       "<p>246 rows × 6 columns</p>\n",
       "</div>"
      ],
      "text/plain": [
       "       CUST_ID  gender DateOfBirth State       Contact   Segment\n",
       "9     33507197  Female  2066-09-09    RI  165-519-4583      Gold\n",
       "13    21240703    Male  2063-07-22    MD  473-561-2675    Silver\n",
       "17    63916778    Male  2066-09-07    IL  146-157-4572  Platinum\n",
       "18    17004138  Female  2065-08-13    WA  436-354-4682    Silver\n",
       "20    75584003  Female  2067-04-22    OK  723-418-3248    Silver\n",
       "...        ...     ...         ...   ...           ...       ...\n",
       "1058  56425562  Female  2063-03-18    GA  823-712-3528  Platinum\n",
       "1074  87596868    Male  2061-11-18    AZ  573-396-3182    Silver\n",
       "1077  65208809    Male  2064-04-22    VA  286-128-6132  Platinum\n",
       "1079  46850495    Male  2062-08-21    NV  761-193-2346  Platinum\n",
       "1083  11256802  Female  2064-10-22    LA  469-345-5617    Silver\n",
       "\n",
       "[246 rows x 6 columns]"
      ]
     },
     "execution_count": 13,
     "metadata": {},
     "output_type": "execute_result"
    }
   ],
   "source": [
    "Demographics[Demographics.DateOfBirth.dt.year >=2000]"
   ]
  },
  {
   "cell_type": "code",
   "execution_count": 15,
   "id": "0ec37f8b-f9d0-4d13-aa78-3e4211884e4d",
   "metadata": {},
   "outputs": [],
   "source": [
    "# some DOB's in Demographics have the year in 2000s which is not possible , thus need to substract a century.\n",
    "Demographics.DateOfBirth = np.where(Demographics.DateOfBirth.dt.year >=2000,Demographics.DateOfBirth - pd.DateOffset(years = 100),Demographics.DateOfBirth)"
   ]
  },
  {
   "cell_type": "code",
   "execution_count": 17,
   "id": "5aabae84-9870-4f64-ba1a-3852aa303fef",
   "metadata": {},
   "outputs": [
    {
     "data": {
      "text/html": [
       "<div>\n",
       "<style scoped>\n",
       "    .dataframe tbody tr th:only-of-type {\n",
       "        vertical-align: middle;\n",
       "    }\n",
       "\n",
       "    .dataframe tbody tr th {\n",
       "        vertical-align: top;\n",
       "    }\n",
       "\n",
       "    .dataframe thead th {\n",
       "        text-align: right;\n",
       "    }\n",
       "</style>\n",
       "<table border=\"1\" class=\"dataframe\">\n",
       "  <thead>\n",
       "    <tr style=\"text-align: right;\">\n",
       "      <th></th>\n",
       "      <th>CUST_ID</th>\n",
       "      <th>gender</th>\n",
       "      <th>DateOfBirth</th>\n",
       "      <th>State</th>\n",
       "      <th>Contact</th>\n",
       "      <th>Segment</th>\n",
       "    </tr>\n",
       "  </thead>\n",
       "  <tbody>\n",
       "  </tbody>\n",
       "</table>\n",
       "</div>"
      ],
      "text/plain": [
       "Empty DataFrame\n",
       "Columns: [CUST_ID, gender, DateOfBirth, State, Contact, Segment]\n",
       "Index: []"
      ]
     },
     "execution_count": 17,
     "metadata": {},
     "output_type": "execute_result"
    }
   ],
   "source": [
    "Demographics[Demographics.DateOfBirth.dt.year >=2000]"
   ]
  },
  {
   "cell_type": "markdown",
   "id": "0adf46ba-95ce-4b29-9892-50f2fa576701",
   "metadata": {},
   "source": [
    "### 3. Convert the column claim_amount to numeric using the appropriate modules/attributes to remove the $ sign.\n",
    " \n"
   ]
  },
  {
   "cell_type": "code",
   "execution_count": 19,
   "id": "114b0913-e138-42fd-b3e7-4db6b35bd00f",
   "metadata": {},
   "outputs": [],
   "source": [
    "claims.claim_amount= claims.claim_amount.str.replace('$','').astype(float)"
   ]
  },
  {
   "cell_type": "code",
   "execution_count": 21,
   "id": "4b84104f-d073-4073-b6f0-5dde6f6a2e02",
   "metadata": {},
   "outputs": [
    {
     "data": {
      "text/html": [
       "<div>\n",
       "<style scoped>\n",
       "    .dataframe tbody tr th:only-of-type {\n",
       "        vertical-align: middle;\n",
       "    }\n",
       "\n",
       "    .dataframe tbody tr th {\n",
       "        vertical-align: top;\n",
       "    }\n",
       "\n",
       "    .dataframe thead th {\n",
       "        text-align: right;\n",
       "    }\n",
       "</style>\n",
       "<table border=\"1\" class=\"dataframe\">\n",
       "  <thead>\n",
       "    <tr style=\"text-align: right;\">\n",
       "      <th></th>\n",
       "      <th>claim_id</th>\n",
       "      <th>customer_id</th>\n",
       "      <th>incident_cause</th>\n",
       "      <th>claim_date</th>\n",
       "      <th>claim_area</th>\n",
       "      <th>police_report</th>\n",
       "      <th>claim_type</th>\n",
       "      <th>claim_amount</th>\n",
       "      <th>total_policy_claims</th>\n",
       "      <th>fraudulent</th>\n",
       "    </tr>\n",
       "  </thead>\n",
       "  <tbody>\n",
       "    <tr>\n",
       "      <th>0</th>\n",
       "      <td>54004764</td>\n",
       "      <td>21868593</td>\n",
       "      <td>Driver error</td>\n",
       "      <td>2017-11-27</td>\n",
       "      <td>Auto</td>\n",
       "      <td>No</td>\n",
       "      <td>Material only</td>\n",
       "      <td>2980.0</td>\n",
       "      <td>1.0</td>\n",
       "      <td>No</td>\n",
       "    </tr>\n",
       "    <tr>\n",
       "      <th>1</th>\n",
       "      <td>33985796</td>\n",
       "      <td>75740424</td>\n",
       "      <td>Crime</td>\n",
       "      <td>2018-10-03</td>\n",
       "      <td>Home</td>\n",
       "      <td>Unknown</td>\n",
       "      <td>Material only</td>\n",
       "      <td>2980.0</td>\n",
       "      <td>3.0</td>\n",
       "      <td>No</td>\n",
       "    </tr>\n",
       "    <tr>\n",
       "      <th>2</th>\n",
       "      <td>53522022</td>\n",
       "      <td>30308357</td>\n",
       "      <td>Other driver error</td>\n",
       "      <td>2018-02-02</td>\n",
       "      <td>Auto</td>\n",
       "      <td>No</td>\n",
       "      <td>Material only</td>\n",
       "      <td>3369.5</td>\n",
       "      <td>1.0</td>\n",
       "      <td>Yes</td>\n",
       "    </tr>\n",
       "    <tr>\n",
       "      <th>3</th>\n",
       "      <td>13015401</td>\n",
       "      <td>47830476</td>\n",
       "      <td>Natural causes</td>\n",
       "      <td>2018-06-17</td>\n",
       "      <td>Auto</td>\n",
       "      <td>No</td>\n",
       "      <td>Material only</td>\n",
       "      <td>1680.0</td>\n",
       "      <td>1.0</td>\n",
       "      <td>No</td>\n",
       "    </tr>\n",
       "    <tr>\n",
       "      <th>4</th>\n",
       "      <td>22890252</td>\n",
       "      <td>19269962</td>\n",
       "      <td>Crime</td>\n",
       "      <td>2018-01-13</td>\n",
       "      <td>Auto</td>\n",
       "      <td>No</td>\n",
       "      <td>Material only</td>\n",
       "      <td>2680.0</td>\n",
       "      <td>1.0</td>\n",
       "      <td>No</td>\n",
       "    </tr>\n",
       "    <tr>\n",
       "      <th>...</th>\n",
       "      <td>...</td>\n",
       "      <td>...</td>\n",
       "      <td>...</td>\n",
       "      <td>...</td>\n",
       "      <td>...</td>\n",
       "      <td>...</td>\n",
       "      <td>...</td>\n",
       "      <td>...</td>\n",
       "      <td>...</td>\n",
       "      <td>...</td>\n",
       "    </tr>\n",
       "    <tr>\n",
       "      <th>1095</th>\n",
       "      <td>97727122</td>\n",
       "      <td>35951012</td>\n",
       "      <td>Other driver error</td>\n",
       "      <td>2017-06-11</td>\n",
       "      <td>Auto</td>\n",
       "      <td>No</td>\n",
       "      <td>Material only</td>\n",
       "      <td>3059.0</td>\n",
       "      <td>4.0</td>\n",
       "      <td>Yes</td>\n",
       "    </tr>\n",
       "    <tr>\n",
       "      <th>1096</th>\n",
       "      <td>10247193</td>\n",
       "      <td>14818669</td>\n",
       "      <td>Natural causes</td>\n",
       "      <td>2018-03-14</td>\n",
       "      <td>Auto</td>\n",
       "      <td>No</td>\n",
       "      <td>Material only</td>\n",
       "      <td>1520.0</td>\n",
       "      <td>2.0</td>\n",
       "      <td>No</td>\n",
       "    </tr>\n",
       "    <tr>\n",
       "      <th>1097</th>\n",
       "      <td>79807493</td>\n",
       "      <td>85322831</td>\n",
       "      <td>Other driver error</td>\n",
       "      <td>2018-02-09</td>\n",
       "      <td>Auto</td>\n",
       "      <td>No</td>\n",
       "      <td>Material and injury</td>\n",
       "      <td>23575.0</td>\n",
       "      <td>2.0</td>\n",
       "      <td>Yes</td>\n",
       "    </tr>\n",
       "    <tr>\n",
       "      <th>1098</th>\n",
       "      <td>69299345</td>\n",
       "      <td>73449366</td>\n",
       "      <td>Other causes</td>\n",
       "      <td>2018-03-21</td>\n",
       "      <td>Auto</td>\n",
       "      <td>Unknown</td>\n",
       "      <td>Material and injury</td>\n",
       "      <td>25120.0</td>\n",
       "      <td>1.0</td>\n",
       "      <td>No</td>\n",
       "    </tr>\n",
       "    <tr>\n",
       "      <th>1099</th>\n",
       "      <td>58809728</td>\n",
       "      <td>43020876</td>\n",
       "      <td>Other driver error</td>\n",
       "      <td>2017-06-04</td>\n",
       "      <td>Auto</td>\n",
       "      <td>Yes</td>\n",
       "      <td>Material and injury</td>\n",
       "      <td>36685.0</td>\n",
       "      <td>3.0</td>\n",
       "      <td>Yes</td>\n",
       "    </tr>\n",
       "  </tbody>\n",
       "</table>\n",
       "<p>1100 rows × 10 columns</p>\n",
       "</div>"
      ],
      "text/plain": [
       "      claim_id  customer_id      incident_cause claim_date claim_area  \\\n",
       "0     54004764     21868593        Driver error 2017-11-27       Auto   \n",
       "1     33985796     75740424               Crime 2018-10-03       Home   \n",
       "2     53522022     30308357  Other driver error 2018-02-02       Auto   \n",
       "3     13015401     47830476      Natural causes 2018-06-17       Auto   \n",
       "4     22890252     19269962               Crime 2018-01-13       Auto   \n",
       "...        ...          ...                 ...        ...        ...   \n",
       "1095  97727122     35951012  Other driver error 2017-06-11       Auto   \n",
       "1096  10247193     14818669      Natural causes 2018-03-14       Auto   \n",
       "1097  79807493     85322831  Other driver error 2018-02-09       Auto   \n",
       "1098  69299345     73449366        Other causes 2018-03-21       Auto   \n",
       "1099  58809728     43020876  Other driver error 2017-06-04       Auto   \n",
       "\n",
       "     police_report           claim_type  claim_amount  total_policy_claims  \\\n",
       "0               No        Material only        2980.0                  1.0   \n",
       "1          Unknown        Material only        2980.0                  3.0   \n",
       "2               No        Material only        3369.5                  1.0   \n",
       "3               No        Material only        1680.0                  1.0   \n",
       "4               No        Material only        2680.0                  1.0   \n",
       "...            ...                  ...           ...                  ...   \n",
       "1095            No        Material only        3059.0                  4.0   \n",
       "1096            No        Material only        1520.0                  2.0   \n",
       "1097            No  Material and injury       23575.0                  2.0   \n",
       "1098       Unknown  Material and injury       25120.0                  1.0   \n",
       "1099           Yes  Material and injury       36685.0                  3.0   \n",
       "\n",
       "     fraudulent  \n",
       "0            No  \n",
       "1            No  \n",
       "2           Yes  \n",
       "3            No  \n",
       "4            No  \n",
       "...         ...  \n",
       "1095        Yes  \n",
       "1096         No  \n",
       "1097        Yes  \n",
       "1098         No  \n",
       "1099        Yes  \n",
       "\n",
       "[1100 rows x 10 columns]"
      ]
     },
     "execution_count": 21,
     "metadata": {},
     "output_type": "execute_result"
    }
   ],
   "source": [
    "claims"
   ]
  },
  {
   "cell_type": "markdown",
   "id": "198c64aa-aec1-4fe4-b25a-d13b0160f9d8",
   "metadata": {},
   "source": [
    "# Duplicate values check :"
   ]
  },
  {
   "cell_type": "code",
   "execution_count": null,
   "id": "0924af6e-3970-4cd3-8999-16ebb4a48d9b",
   "metadata": {},
   "outputs": [],
   "source": [
    "claims.duplicated().sum()"
   ]
  },
  {
   "cell_type": "code",
   "execution_count": null,
   "id": "62a35172-4e76-4ae0-878f-9d34c67869c1",
   "metadata": {},
   "outputs": [],
   "source": [
    "Demographics.duplicated().sum()"
   ]
  },
  {
   "cell_type": "code",
   "execution_count": null,
   "id": "418ccdb2-8377-47b7-be1d-e118aba68aa4",
   "metadata": {},
   "outputs": [],
   "source": [
    "## No duplicate records forund in both tables."
   ]
  },
  {
   "cell_type": "markdown",
   "id": "840e390e-14ae-47f9-a23a-d39e26b96295",
   "metadata": {},
   "source": [
    "# MISSING VALUES"
   ]
  },
  {
   "cell_type": "code",
   "execution_count": 43,
   "id": "211bd93b-9cb6-4b60-9fc0-400c6230f795",
   "metadata": {},
   "outputs": [],
   "source": [
    "## The Customer Demographics tables lack any null values and is our dimension table in this scenario what claims table is the fact  table.\n",
    "## The Claims table have 65 null values in the claim amount and 10 null values in the column total_policy_claims\n"
   ]
  },
  {
   "cell_type": "code",
   "execution_count": null,
   "id": "ab07c797-2c09-4d82-8500-9131ad084f50",
   "metadata": {},
   "outputs": [],
   "source": [
    "# The missing values need to be imputated before moving ahead .\n",
    "## Colmns having categorical values, their missing values to be replaced with mode while in case of continous variables the missing value to be replaced with mean if no outlier present and with median if an outlier is present."
   ]
  },
  {
   "cell_type": "code",
   "execution_count": 25,
   "id": "c52cfbd0-b26a-4ad4-8792-ef2c702a8efc",
   "metadata": {},
   "outputs": [
    {
     "data": {
      "text/plain": [
       "<Axes: xlabel='claim_amount'>"
      ]
     },
     "execution_count": 25,
     "metadata": {},
     "output_type": "execute_result"
    },
    {
     "data": {
      "image/png": "[encoded data removed]",
      "text/plain": [
       "<Figure size 640x480 with 1 Axes>"
      ]
     },
     "metadata": {},
     "output_type": "display_data"
    }
   ],
   "source": [
    "### checking outliers before filling the missing values:\n",
    "sns.boxplot(claims,x = claims.claim_amount)\n",
    "\n",
    "# No outliers found in claim amount column .\n"
   ]
  },
  {
   "cell_type": "code",
   "execution_count": 27,
   "id": "95ee6dd4-acc7-4dd9-9df9-4e5dce093350",
   "metadata": {},
   "outputs": [
    {
     "data": {
      "text/plain": [
       "<Axes: xlabel='total_policy_claims'>"
      ]
     },
     "execution_count": 27,
     "metadata": {},
     "output_type": "execute_result"
    },
    {
     "data": {
      "image/png": "[encoded data removed]",
      "text/plain": [
       "<Figure size 640x480 with 1 Axes>"
      ]
     },
     "metadata": {},
     "output_type": "display_data"
    }
   ],
   "source": [
    "sns.boxplot(claims, x= claims.total_policy_claims)\n",
    "# It was observed that in total_policy_claims column of claims table positive outliers were present. \n",
    "#Thus we will use median  to fill null / missing values  in this column"
   ]
  },
  {
   "cell_type": "code",
   "execution_count": 137,
   "id": "6e47260c-e640-4eb7-bbf5-2a5336006017",
   "metadata": {},
   "outputs": [
    {
     "data": {
      "text/plain": [
       "12442.125120772947"
      ]
     },
     "execution_count": 137,
     "metadata": {},
     "output_type": "execute_result"
    }
   ],
   "source": [
    "claims.claim_amount.mean()"
   ]
  },
  {
   "cell_type": "code",
   "execution_count": 23,
   "id": "54f6d0cd-54df-4028-8f9d-cd69d4968005",
   "metadata": {},
   "outputs": [],
   "source": [
    "# Imputing missing values in claims amount column with mean\n",
    "claims.claim_amount= claims.claim_amount.fillna(claims.claim_amount.mean()) "
   ]
  },
  {
   "cell_type": "code",
   "execution_count": 25,
   "id": "9316199a-2bef-4cc5-98b2-38bd02fb7048",
   "metadata": {},
   "outputs": [
    {
     "data": {
      "text/html": [
       "<div>\n",
       "<style scoped>\n",
       "    .dataframe tbody tr th:only-of-type {\n",
       "        vertical-align: middle;\n",
       "    }\n",
       "\n",
       "    .dataframe tbody tr th {\n",
       "        vertical-align: top;\n",
       "    }\n",
       "\n",
       "    .dataframe thead th {\n",
       "        text-align: right;\n",
       "    }\n",
       "</style>\n",
       "<table border=\"1\" class=\"dataframe\">\n",
       "  <thead>\n",
       "    <tr style=\"text-align: right;\">\n",
       "      <th></th>\n",
       "      <th>claim_id</th>\n",
       "      <th>customer_id</th>\n",
       "      <th>incident_cause</th>\n",
       "      <th>claim_date</th>\n",
       "      <th>claim_area</th>\n",
       "      <th>police_report</th>\n",
       "      <th>claim_type</th>\n",
       "      <th>claim_amount</th>\n",
       "      <th>total_policy_claims</th>\n",
       "      <th>fraudulent</th>\n",
       "    </tr>\n",
       "  </thead>\n",
       "  <tbody>\n",
       "    <tr>\n",
       "      <th>20</th>\n",
       "      <td>32630720</td>\n",
       "      <td>75584003</td>\n",
       "      <td>Crime</td>\n",
       "      <td>2017-02-03</td>\n",
       "      <td>Auto</td>\n",
       "      <td>No</td>\n",
       "      <td>Material only</td>\n",
       "      <td>12442.125121</td>\n",
       "      <td>1.0</td>\n",
       "      <td>No</td>\n",
       "    </tr>\n",
       "    <tr>\n",
       "      <th>22</th>\n",
       "      <td>46956597</td>\n",
       "      <td>10665308</td>\n",
       "      <td>Natural causes</td>\n",
       "      <td>2018-07-20</td>\n",
       "      <td>Auto</td>\n",
       "      <td>No</td>\n",
       "      <td>Material only</td>\n",
       "      <td>12442.125121</td>\n",
       "      <td>1.0</td>\n",
       "      <td>No</td>\n",
       "    </tr>\n",
       "    <tr>\n",
       "      <th>47</th>\n",
       "      <td>28636278</td>\n",
       "      <td>31012778</td>\n",
       "      <td>Other causes</td>\n",
       "      <td>2018-03-01</td>\n",
       "      <td>Auto</td>\n",
       "      <td>No</td>\n",
       "      <td>Material only</td>\n",
       "      <td>12442.125121</td>\n",
       "      <td>5.0</td>\n",
       "      <td>Yes</td>\n",
       "    </tr>\n",
       "    <tr>\n",
       "      <th>48</th>\n",
       "      <td>96749077</td>\n",
       "      <td>84571128</td>\n",
       "      <td>Natural causes</td>\n",
       "      <td>2017-05-15</td>\n",
       "      <td>Auto</td>\n",
       "      <td>No</td>\n",
       "      <td>Material only</td>\n",
       "      <td>12442.125121</td>\n",
       "      <td>1.0</td>\n",
       "      <td>Yes</td>\n",
       "    </tr>\n",
       "    <tr>\n",
       "      <th>66</th>\n",
       "      <td>43973221</td>\n",
       "      <td>83290720</td>\n",
       "      <td>Driver error</td>\n",
       "      <td>2018-09-26</td>\n",
       "      <td>Auto</td>\n",
       "      <td>Yes</td>\n",
       "      <td>Material and injury</td>\n",
       "      <td>12442.125121</td>\n",
       "      <td>1.0</td>\n",
       "      <td>No</td>\n",
       "    </tr>\n",
       "    <tr>\n",
       "      <th>...</th>\n",
       "      <td>...</td>\n",
       "      <td>...</td>\n",
       "      <td>...</td>\n",
       "      <td>...</td>\n",
       "      <td>...</td>\n",
       "      <td>...</td>\n",
       "      <td>...</td>\n",
       "      <td>...</td>\n",
       "      <td>...</td>\n",
       "      <td>...</td>\n",
       "    </tr>\n",
       "    <tr>\n",
       "      <th>989</th>\n",
       "      <td>78685929</td>\n",
       "      <td>29459103</td>\n",
       "      <td>Natural causes</td>\n",
       "      <td>2017-07-01</td>\n",
       "      <td>Auto</td>\n",
       "      <td>No</td>\n",
       "      <td>Injury only</td>\n",
       "      <td>12442.125121</td>\n",
       "      <td>1.0</td>\n",
       "      <td>Yes</td>\n",
       "    </tr>\n",
       "    <tr>\n",
       "      <th>1016</th>\n",
       "      <td>12612736</td>\n",
       "      <td>74787956</td>\n",
       "      <td>Driver error</td>\n",
       "      <td>2017-09-14</td>\n",
       "      <td>Auto</td>\n",
       "      <td>Unknown</td>\n",
       "      <td>Material only</td>\n",
       "      <td>12442.125121</td>\n",
       "      <td>1.0</td>\n",
       "      <td>No</td>\n",
       "    </tr>\n",
       "    <tr>\n",
       "      <th>1025</th>\n",
       "      <td>54291209</td>\n",
       "      <td>28528424</td>\n",
       "      <td>Other causes</td>\n",
       "      <td>2018-07-14</td>\n",
       "      <td>Auto</td>\n",
       "      <td>No</td>\n",
       "      <td>Material only</td>\n",
       "      <td>12442.125121</td>\n",
       "      <td>1.0</td>\n",
       "      <td>No</td>\n",
       "    </tr>\n",
       "    <tr>\n",
       "      <th>1036</th>\n",
       "      <td>83884815</td>\n",
       "      <td>71676845</td>\n",
       "      <td>Other driver error</td>\n",
       "      <td>2018-07-27</td>\n",
       "      <td>Auto</td>\n",
       "      <td>No</td>\n",
       "      <td>Material only</td>\n",
       "      <td>12442.125121</td>\n",
       "      <td>3.0</td>\n",
       "      <td>No</td>\n",
       "    </tr>\n",
       "    <tr>\n",
       "      <th>1051</th>\n",
       "      <td>93043462</td>\n",
       "      <td>81634435</td>\n",
       "      <td>Other driver error</td>\n",
       "      <td>2017-01-27</td>\n",
       "      <td>Home</td>\n",
       "      <td>Unknown</td>\n",
       "      <td>Material and injury</td>\n",
       "      <td>12442.125121</td>\n",
       "      <td>1.0</td>\n",
       "      <td>No</td>\n",
       "    </tr>\n",
       "  </tbody>\n",
       "</table>\n",
       "<p>65 rows × 10 columns</p>\n",
       "</div>"
      ],
      "text/plain": [
       "      claim_id  customer_id      incident_cause claim_date claim_area  \\\n",
       "20    32630720     75584003               Crime 2017-02-03       Auto   \n",
       "22    46956597     10665308      Natural causes 2018-07-20       Auto   \n",
       "47    28636278     31012778        Other causes 2018-03-01       Auto   \n",
       "48    96749077     84571128      Natural causes 2017-05-15       Auto   \n",
       "66    43973221     83290720        Driver error 2018-09-26       Auto   \n",
       "...        ...          ...                 ...        ...        ...   \n",
       "989   78685929     29459103      Natural causes 2017-07-01       Auto   \n",
       "1016  12612736     74787956        Driver error 2017-09-14       Auto   \n",
       "1025  54291209     28528424        Other causes 2018-07-14       Auto   \n",
       "1036  83884815     71676845  Other driver error 2018-07-27       Auto   \n",
       "1051  93043462     81634435  Other driver error 2017-01-27       Home   \n",
       "\n",
       "     police_report           claim_type  claim_amount  total_policy_claims  \\\n",
       "20              No        Material only  12442.125121                  1.0   \n",
       "22              No        Material only  12442.125121                  1.0   \n",
       "47              No        Material only  12442.125121                  5.0   \n",
       "48              No        Material only  12442.125121                  1.0   \n",
       "66             Yes  Material and injury  12442.125121                  1.0   \n",
       "...            ...                  ...           ...                  ...   \n",
       "989             No          Injury only  12442.125121                  1.0   \n",
       "1016       Unknown        Material only  12442.125121                  1.0   \n",
       "1025            No        Material only  12442.125121                  1.0   \n",
       "1036            No        Material only  12442.125121                  3.0   \n",
       "1051       Unknown  Material and injury  12442.125121                  1.0   \n",
       "\n",
       "     fraudulent  \n",
       "20           No  \n",
       "22           No  \n",
       "47          Yes  \n",
       "48          Yes  \n",
       "66           No  \n",
       "...         ...  \n",
       "989         Yes  \n",
       "1016         No  \n",
       "1025         No  \n",
       "1036         No  \n",
       "1051         No  \n",
       "\n",
       "[65 rows x 10 columns]"
      ]
     },
     "execution_count": 25,
     "metadata": {},
     "output_type": "execute_result"
    }
   ],
   "source": [
    "claims[claims.claim_amount ==  12442.125120772947 ]"
   ]
  },
  {
   "cell_type": "code",
   "execution_count": 151,
   "id": "ce43c4bb-a4f8-4bdc-ac4e-c6a6dd0736ad",
   "metadata": {},
   "outputs": [
    {
     "data": {
      "text/plain": [
       "1.0"
      ]
     },
     "execution_count": 151,
     "metadata": {},
     "output_type": "execute_result"
    }
   ],
   "source": [
    "claims.total_policy_claims.median()"
   ]
  },
  {
   "cell_type": "code",
   "execution_count": 27,
   "id": "d3ebfdfb-50b6-45a9-83de-c967024a45aa",
   "metadata": {},
   "outputs": [],
   "source": [
    " # Imputing missing values in total_policy_claims with median:\n",
    "claims.total_policy_claims = claims.total_policy_claims.fillna(claims.total_policy_claims.median()) "
   ]
  },
  {
   "cell_type": "code",
   "execution_count": 29,
   "id": "bebeaffc-f8e0-4597-8b07-619f9fc70ed7",
   "metadata": {},
   "outputs": [
    {
     "data": {
      "text/html": [
       "<div>\n",
       "<style scoped>\n",
       "    .dataframe tbody tr th:only-of-type {\n",
       "        vertical-align: middle;\n",
       "    }\n",
       "\n",
       "    .dataframe tbody tr th {\n",
       "        vertical-align: top;\n",
       "    }\n",
       "\n",
       "    .dataframe thead th {\n",
       "        text-align: right;\n",
       "    }\n",
       "</style>\n",
       "<table border=\"1\" class=\"dataframe\">\n",
       "  <thead>\n",
       "    <tr style=\"text-align: right;\">\n",
       "      <th></th>\n",
       "      <th>claim_id</th>\n",
       "      <th>customer_id</th>\n",
       "      <th>incident_cause</th>\n",
       "      <th>claim_date</th>\n",
       "      <th>claim_area</th>\n",
       "      <th>police_report</th>\n",
       "      <th>claim_type</th>\n",
       "      <th>claim_amount</th>\n",
       "      <th>total_policy_claims</th>\n",
       "      <th>fraudulent</th>\n",
       "    </tr>\n",
       "  </thead>\n",
       "  <tbody>\n",
       "    <tr>\n",
       "      <th>0</th>\n",
       "      <td>54004764</td>\n",
       "      <td>21868593</td>\n",
       "      <td>Driver error</td>\n",
       "      <td>2017-11-27</td>\n",
       "      <td>Auto</td>\n",
       "      <td>No</td>\n",
       "      <td>Material only</td>\n",
       "      <td>2980.0</td>\n",
       "      <td>1.0</td>\n",
       "      <td>No</td>\n",
       "    </tr>\n",
       "    <tr>\n",
       "      <th>2</th>\n",
       "      <td>53522022</td>\n",
       "      <td>30308357</td>\n",
       "      <td>Other driver error</td>\n",
       "      <td>2018-02-02</td>\n",
       "      <td>Auto</td>\n",
       "      <td>No</td>\n",
       "      <td>Material only</td>\n",
       "      <td>3369.5</td>\n",
       "      <td>1.0</td>\n",
       "      <td>Yes</td>\n",
       "    </tr>\n",
       "    <tr>\n",
       "      <th>3</th>\n",
       "      <td>13015401</td>\n",
       "      <td>47830476</td>\n",
       "      <td>Natural causes</td>\n",
       "      <td>2018-06-17</td>\n",
       "      <td>Auto</td>\n",
       "      <td>No</td>\n",
       "      <td>Material only</td>\n",
       "      <td>1680.0</td>\n",
       "      <td>1.0</td>\n",
       "      <td>No</td>\n",
       "    </tr>\n",
       "    <tr>\n",
       "      <th>4</th>\n",
       "      <td>22890252</td>\n",
       "      <td>19269962</td>\n",
       "      <td>Crime</td>\n",
       "      <td>2018-01-13</td>\n",
       "      <td>Auto</td>\n",
       "      <td>No</td>\n",
       "      <td>Material only</td>\n",
       "      <td>2680.0</td>\n",
       "      <td>1.0</td>\n",
       "      <td>No</td>\n",
       "    </tr>\n",
       "    <tr>\n",
       "      <th>8</th>\n",
       "      <td>43908336</td>\n",
       "      <td>32813689</td>\n",
       "      <td>Crime</td>\n",
       "      <td>2018-02-15</td>\n",
       "      <td>Auto</td>\n",
       "      <td>Unknown</td>\n",
       "      <td>Material only</td>\n",
       "      <td>2620.0</td>\n",
       "      <td>1.0</td>\n",
       "      <td>No</td>\n",
       "    </tr>\n",
       "    <tr>\n",
       "      <th>...</th>\n",
       "      <td>...</td>\n",
       "      <td>...</td>\n",
       "      <td>...</td>\n",
       "      <td>...</td>\n",
       "      <td>...</td>\n",
       "      <td>...</td>\n",
       "      <td>...</td>\n",
       "      <td>...</td>\n",
       "      <td>...</td>\n",
       "      <td>...</td>\n",
       "    </tr>\n",
       "    <tr>\n",
       "      <th>1088</th>\n",
       "      <td>87003624</td>\n",
       "      <td>99120304</td>\n",
       "      <td>Other causes</td>\n",
       "      <td>2017-03-22</td>\n",
       "      <td>Auto</td>\n",
       "      <td>No</td>\n",
       "      <td>Material only</td>\n",
       "      <td>1710.0</td>\n",
       "      <td>1.0</td>\n",
       "      <td>No</td>\n",
       "    </tr>\n",
       "    <tr>\n",
       "      <th>1090</th>\n",
       "      <td>56626640</td>\n",
       "      <td>82584690</td>\n",
       "      <td>Other driver error</td>\n",
       "      <td>2017-08-24</td>\n",
       "      <td>Auto</td>\n",
       "      <td>Unknown</td>\n",
       "      <td>Material only</td>\n",
       "      <td>2288.5</td>\n",
       "      <td>1.0</td>\n",
       "      <td>Yes</td>\n",
       "    </tr>\n",
       "    <tr>\n",
       "      <th>1092</th>\n",
       "      <td>74995596</td>\n",
       "      <td>55765343</td>\n",
       "      <td>Crime</td>\n",
       "      <td>2018-06-30</td>\n",
       "      <td>Auto</td>\n",
       "      <td>Unknown</td>\n",
       "      <td>Material only</td>\n",
       "      <td>1805.5</td>\n",
       "      <td>1.0</td>\n",
       "      <td>Yes</td>\n",
       "    </tr>\n",
       "    <tr>\n",
       "      <th>1094</th>\n",
       "      <td>33194240</td>\n",
       "      <td>18332683</td>\n",
       "      <td>Other causes</td>\n",
       "      <td>2017-11-13</td>\n",
       "      <td>Auto</td>\n",
       "      <td>Yes</td>\n",
       "      <td>Material and injury</td>\n",
       "      <td>24850.0</td>\n",
       "      <td>1.0</td>\n",
       "      <td>No</td>\n",
       "    </tr>\n",
       "    <tr>\n",
       "      <th>1098</th>\n",
       "      <td>69299345</td>\n",
       "      <td>73449366</td>\n",
       "      <td>Other causes</td>\n",
       "      <td>2018-03-21</td>\n",
       "      <td>Auto</td>\n",
       "      <td>Unknown</td>\n",
       "      <td>Material and injury</td>\n",
       "      <td>25120.0</td>\n",
       "      <td>1.0</td>\n",
       "      <td>No</td>\n",
       "    </tr>\n",
       "  </tbody>\n",
       "</table>\n",
       "<p>803 rows × 10 columns</p>\n",
       "</div>"
      ],
      "text/plain": [
       "      claim_id  customer_id      incident_cause claim_date claim_area  \\\n",
       "0     54004764     21868593        Driver error 2017-11-27       Auto   \n",
       "2     53522022     30308357  Other driver error 2018-02-02       Auto   \n",
       "3     13015401     47830476      Natural causes 2018-06-17       Auto   \n",
       "4     22890252     19269962               Crime 2018-01-13       Auto   \n",
       "8     43908336     32813689               Crime 2018-02-15       Auto   \n",
       "...        ...          ...                 ...        ...        ...   \n",
       "1088  87003624     99120304        Other causes 2017-03-22       Auto   \n",
       "1090  56626640     82584690  Other driver error 2017-08-24       Auto   \n",
       "1092  74995596     55765343               Crime 2018-06-30       Auto   \n",
       "1094  33194240     18332683        Other causes 2017-11-13       Auto   \n",
       "1098  69299345     73449366        Other causes 2018-03-21       Auto   \n",
       "\n",
       "     police_report           claim_type  claim_amount  total_policy_claims  \\\n",
       "0               No        Material only        2980.0                  1.0   \n",
       "2               No        Material only        3369.5                  1.0   \n",
       "3               No        Material only        1680.0                  1.0   \n",
       "4               No        Material only        2680.0                  1.0   \n",
       "8          Unknown        Material only        2620.0                  1.0   \n",
       "...            ...                  ...           ...                  ...   \n",
       "1088            No        Material only        1710.0                  1.0   \n",
       "1090       Unknown        Material only        2288.5                  1.0   \n",
       "1092       Unknown        Material only        1805.5                  1.0   \n",
       "1094           Yes  Material and injury       24850.0                  1.0   \n",
       "1098       Unknown  Material and injury       25120.0                  1.0   \n",
       "\n",
       "     fraudulent  \n",
       "0            No  \n",
       "2           Yes  \n",
       "3            No  \n",
       "4            No  \n",
       "8            No  \n",
       "...         ...  \n",
       "1088         No  \n",
       "1090        Yes  \n",
       "1092        Yes  \n",
       "1094         No  \n",
       "1098         No  \n",
       "\n",
       "[803 rows x 10 columns]"
      ]
     },
     "execution_count": 29,
     "metadata": {},
     "output_type": "execute_result"
    }
   ],
   "source": [
    "claims[claims.total_policy_claims ==  1.0 ]"
   ]
  },
  {
   "cell_type": "code",
   "execution_count": 31,
   "id": "fee4bb8a-8ead-4b8a-820d-480e44416634",
   "metadata": {},
   "outputs": [
    {
     "data": {
      "text/plain": [
       "claim_id               0\n",
       "customer_id            0\n",
       "incident_cause         0\n",
       "claim_date             0\n",
       "claim_area             0\n",
       "police_report          0\n",
       "claim_type             0\n",
       "claim_amount           0\n",
       "total_policy_claims    0\n",
       "fraudulent             0\n",
       "dtype: int64"
      ]
     },
     "execution_count": 31,
     "metadata": {},
     "output_type": "execute_result"
    }
   ],
   "source": [
    " claims.isna().sum()"
   ]
  },
  {
   "cell_type": "code",
   "execution_count": null,
   "id": "7f191923-8a78-4791-a9c7-b817fe4acf03",
   "metadata": {},
   "outputs": [],
   "source": [
    "# No missing values left in claims table."
   ]
  },
  {
   "cell_type": "markdown",
   "id": "527a8853-b741-40bc-a722-c2ec216bbee5",
   "metadata": {},
   "source": [
    "# MERGING THE GIVEN DATASETS:"
   ]
  },
  {
   "cell_type": "code",
   "execution_count": 33,
   "id": "0ac133f6-7f45-4504-acb0-fd9951d2f009",
   "metadata": {},
   "outputs": [
    {
     "data": {
      "text/plain": [
       "claim_id                0\n",
       "customer_id             0\n",
       "incident_cause          0\n",
       "claim_date              0\n",
       "claim_area              0\n",
       "police_report           0\n",
       "claim_type              0\n",
       "claim_amount            0\n",
       "total_policy_claims     0\n",
       "fraudulent              0\n",
       "CUST_ID                15\n",
       "gender                 15\n",
       "DateOfBirth            15\n",
       "State                  15\n",
       "Contact                15\n",
       "Segment                15\n",
       "dtype: int64"
      ]
     },
     "execution_count": 33,
     "metadata": {},
     "output_type": "execute_result"
    }
   ],
   "source": [
    "\n",
    "pd.merge(left = claims, right = Demographics,how= 'left', left_on= 'customer_id', right_on = 'CUST_ID').isna().sum()"
   ]
  },
  {
   "cell_type": "code",
   "execution_count": null,
   "id": "44823af4-a8a6-436c-ad94-2b2bbda8b69a",
   "metadata": {},
   "outputs": [],
   "source": [
    "# After merging the dataset it was observed that demographics data of 15 customers were missing in Demographics table but entries of such customer available in claims table.\n",
    "# Thus we will drop these missing values as they are less than 5 % as per industry standards."
   ]
  },
  {
   "cell_type": "code",
   "execution_count": 35,
   "id": "a52a25ad-0a24-4177-9e23-ef1fb4b07fe8",
   "metadata": {},
   "outputs": [],
   "source": [
    "Final_dataset= pd.merge(left = claims, right = Demographics,how= 'inner', left_on= 'customer_id', right_on = 'CUST_ID') "
   ]
  },
  {
   "cell_type": "code",
   "execution_count": 31,
   "id": "b5ef420d-4fd5-4fc6-b154-151b49324af9",
   "metadata": {},
   "outputs": [
    {
     "data": {
      "text/plain": [
       "claim_id               0\n",
       "customer_id            0\n",
       "incident_cause         0\n",
       "claim_date             0\n",
       "claim_area             0\n",
       "police_report          0\n",
       "claim_type             0\n",
       "claim_amount           0\n",
       "total_policy_claims    0\n",
       "fraudulent             0\n",
       "CUST_ID                0\n",
       "gender                 0\n",
       "DateOfBirth            0\n",
       "State                  0\n",
       "Contact                0\n",
       "Segment                0\n",
       "dtype: int64"
      ]
     },
     "execution_count": 31,
     "metadata": {},
     "output_type": "execute_result"
    }
   ],
   "source": [
    "Final_dataset.isna().sum()"
   ]
  },
  {
   "cell_type": "markdown",
   "id": "c03f4e88-c04c-4691-8faa-be3409770ac0",
   "metadata": {},
   "source": [
    "# 4. Of all the injury claims, some of them have gone unreported with the \n",
    "# police. Create an alert flag (1,0) for all such claims"
   ]
  },
  {
   "cell_type": "code",
   "execution_count": 37,
   "id": "8d35b67f-947c-4207-9311-5a9645729c8a",
   "metadata": {},
   "outputs": [],
   "source": [
    "Final_dataset['Report_flag'] = np.where(Final_dataset.police_report=='Yes', 1, 0)"
   ]
  },
  {
   "cell_type": "code",
   "execution_count": 39,
   "id": "5bb945d7-e197-4420-b6bc-9f01fdea1159",
   "metadata": {},
   "outputs": [
    {
     "data": {
      "text/html": [
       "<div>\n",
       "<style scoped>\n",
       "    .dataframe tbody tr th:only-of-type {\n",
       "        vertical-align: middle;\n",
       "    }\n",
       "\n",
       "    .dataframe tbody tr th {\n",
       "        vertical-align: top;\n",
       "    }\n",
       "\n",
       "    .dataframe thead th {\n",
       "        text-align: right;\n",
       "    }\n",
       "</style>\n",
       "<table border=\"1\" class=\"dataframe\">\n",
       "  <thead>\n",
       "    <tr style=\"text-align: right;\">\n",
       "      <th></th>\n",
       "      <th>claim_id</th>\n",
       "      <th>customer_id</th>\n",
       "      <th>incident_cause</th>\n",
       "      <th>claim_date</th>\n",
       "      <th>claim_area</th>\n",
       "      <th>police_report</th>\n",
       "      <th>claim_type</th>\n",
       "      <th>claim_amount</th>\n",
       "      <th>total_policy_claims</th>\n",
       "      <th>fraudulent</th>\n",
       "      <th>CUST_ID</th>\n",
       "      <th>gender</th>\n",
       "      <th>DateOfBirth</th>\n",
       "      <th>State</th>\n",
       "      <th>Contact</th>\n",
       "      <th>Segment</th>\n",
       "      <th>Report_flag</th>\n",
       "    </tr>\n",
       "  </thead>\n",
       "  <tbody>\n",
       "    <tr>\n",
       "      <th>0</th>\n",
       "      <td>54004764</td>\n",
       "      <td>21868593</td>\n",
       "      <td>Driver error</td>\n",
       "      <td>2017-11-27</td>\n",
       "      <td>Auto</td>\n",
       "      <td>No</td>\n",
       "      <td>Material only</td>\n",
       "      <td>2980.0</td>\n",
       "      <td>1.0</td>\n",
       "      <td>No</td>\n",
       "      <td>21868593</td>\n",
       "      <td>Female</td>\n",
       "      <td>1979-01-12</td>\n",
       "      <td>VT</td>\n",
       "      <td>789-916-8172</td>\n",
       "      <td>Platinum</td>\n",
       "      <td>0</td>\n",
       "    </tr>\n",
       "    <tr>\n",
       "      <th>1</th>\n",
       "      <td>33985796</td>\n",
       "      <td>75740424</td>\n",
       "      <td>Crime</td>\n",
       "      <td>2018-10-03</td>\n",
       "      <td>Home</td>\n",
       "      <td>Unknown</td>\n",
       "      <td>Material only</td>\n",
       "      <td>2980.0</td>\n",
       "      <td>3.0</td>\n",
       "      <td>No</td>\n",
       "      <td>75740424</td>\n",
       "      <td>Female</td>\n",
       "      <td>1970-01-13</td>\n",
       "      <td>ME</td>\n",
       "      <td>265-543-1264</td>\n",
       "      <td>Silver</td>\n",
       "      <td>0</td>\n",
       "    </tr>\n",
       "    <tr>\n",
       "      <th>2</th>\n",
       "      <td>53522022</td>\n",
       "      <td>30308357</td>\n",
       "      <td>Other driver error</td>\n",
       "      <td>2018-02-02</td>\n",
       "      <td>Auto</td>\n",
       "      <td>No</td>\n",
       "      <td>Material only</td>\n",
       "      <td>3369.5</td>\n",
       "      <td>1.0</td>\n",
       "      <td>Yes</td>\n",
       "      <td>30308357</td>\n",
       "      <td>Female</td>\n",
       "      <td>1984-03-11</td>\n",
       "      <td>TN</td>\n",
       "      <td>798-631-4758</td>\n",
       "      <td>Silver</td>\n",
       "      <td>0</td>\n",
       "    </tr>\n",
       "    <tr>\n",
       "      <th>3</th>\n",
       "      <td>13015401</td>\n",
       "      <td>47830476</td>\n",
       "      <td>Natural causes</td>\n",
       "      <td>2018-06-17</td>\n",
       "      <td>Auto</td>\n",
       "      <td>No</td>\n",
       "      <td>Material only</td>\n",
       "      <td>1680.0</td>\n",
       "      <td>1.0</td>\n",
       "      <td>No</td>\n",
       "      <td>47830476</td>\n",
       "      <td>Female</td>\n",
       "      <td>1986-05-01</td>\n",
       "      <td>MA</td>\n",
       "      <td>413-187-7945</td>\n",
       "      <td>Silver</td>\n",
       "      <td>0</td>\n",
       "    </tr>\n",
       "    <tr>\n",
       "      <th>4</th>\n",
       "      <td>22890252</td>\n",
       "      <td>19269962</td>\n",
       "      <td>Crime</td>\n",
       "      <td>2018-01-13</td>\n",
       "      <td>Auto</td>\n",
       "      <td>No</td>\n",
       "      <td>Material only</td>\n",
       "      <td>2680.0</td>\n",
       "      <td>1.0</td>\n",
       "      <td>No</td>\n",
       "      <td>19269962</td>\n",
       "      <td>Male</td>\n",
       "      <td>1977-05-13</td>\n",
       "      <td>NV</td>\n",
       "      <td>956-871-8691</td>\n",
       "      <td>Gold</td>\n",
       "      <td>0</td>\n",
       "    </tr>\n",
       "    <tr>\n",
       "      <th>...</th>\n",
       "      <td>...</td>\n",
       "      <td>...</td>\n",
       "      <td>...</td>\n",
       "      <td>...</td>\n",
       "      <td>...</td>\n",
       "      <td>...</td>\n",
       "      <td>...</td>\n",
       "      <td>...</td>\n",
       "      <td>...</td>\n",
       "      <td>...</td>\n",
       "      <td>...</td>\n",
       "      <td>...</td>\n",
       "      <td>...</td>\n",
       "      <td>...</td>\n",
       "      <td>...</td>\n",
       "      <td>...</td>\n",
       "      <td>...</td>\n",
       "    </tr>\n",
       "    <tr>\n",
       "      <th>1080</th>\n",
       "      <td>62020796</td>\n",
       "      <td>79539873</td>\n",
       "      <td>Other driver error</td>\n",
       "      <td>2018-09-06</td>\n",
       "      <td>Auto</td>\n",
       "      <td>Yes</td>\n",
       "      <td>Material only</td>\n",
       "      <td>1770.0</td>\n",
       "      <td>1.0</td>\n",
       "      <td>No</td>\n",
       "      <td>79539873</td>\n",
       "      <td>Female</td>\n",
       "      <td>1981-03-15</td>\n",
       "      <td>ND</td>\n",
       "      <td>459-425-4319</td>\n",
       "      <td>Platinum</td>\n",
       "      <td>1</td>\n",
       "    </tr>\n",
       "    <tr>\n",
       "      <th>1081</th>\n",
       "      <td>63269067</td>\n",
       "      <td>42364152</td>\n",
       "      <td>Other causes</td>\n",
       "      <td>2017-05-09</td>\n",
       "      <td>Home</td>\n",
       "      <td>No</td>\n",
       "      <td>Material only</td>\n",
       "      <td>2800.0</td>\n",
       "      <td>1.0</td>\n",
       "      <td>No</td>\n",
       "      <td>42364152</td>\n",
       "      <td>Female</td>\n",
       "      <td>1996-07-07</td>\n",
       "      <td>ID</td>\n",
       "      <td>529-462-1635</td>\n",
       "      <td>Silver</td>\n",
       "      <td>0</td>\n",
       "    </tr>\n",
       "    <tr>\n",
       "      <th>1082</th>\n",
       "      <td>22690595</td>\n",
       "      <td>19888166</td>\n",
       "      <td>Other driver error</td>\n",
       "      <td>2017-05-15</td>\n",
       "      <td>Auto</td>\n",
       "      <td>Yes</td>\n",
       "      <td>Injury only</td>\n",
       "      <td>33080.0</td>\n",
       "      <td>2.0</td>\n",
       "      <td>No</td>\n",
       "      <td>19888166</td>\n",
       "      <td>Male</td>\n",
       "      <td>1990-04-11</td>\n",
       "      <td>WI</td>\n",
       "      <td>712-651-9613</td>\n",
       "      <td>Gold</td>\n",
       "      <td>1</td>\n",
       "    </tr>\n",
       "    <tr>\n",
       "      <th>1083</th>\n",
       "      <td>12376894</td>\n",
       "      <td>11256802</td>\n",
       "      <td>Other driver error</td>\n",
       "      <td>2017-04-18</td>\n",
       "      <td>Auto</td>\n",
       "      <td>No</td>\n",
       "      <td>Material only</td>\n",
       "      <td>2840.0</td>\n",
       "      <td>4.0</td>\n",
       "      <td>No</td>\n",
       "      <td>11256802</td>\n",
       "      <td>Female</td>\n",
       "      <td>1964-10-22</td>\n",
       "      <td>LA</td>\n",
       "      <td>469-345-5617</td>\n",
       "      <td>Silver</td>\n",
       "      <td>0</td>\n",
       "    </tr>\n",
       "    <tr>\n",
       "      <th>1084</th>\n",
       "      <td>63226031</td>\n",
       "      <td>61575264</td>\n",
       "      <td>Natural causes</td>\n",
       "      <td>2017-03-16</td>\n",
       "      <td>Auto</td>\n",
       "      <td>No</td>\n",
       "      <td>Material only</td>\n",
       "      <td>1490.0</td>\n",
       "      <td>1.0</td>\n",
       "      <td>No</td>\n",
       "      <td>61575264</td>\n",
       "      <td>Male</td>\n",
       "      <td>1995-07-12</td>\n",
       "      <td>WY</td>\n",
       "      <td>182-385-1392</td>\n",
       "      <td>Gold</td>\n",
       "      <td>0</td>\n",
       "    </tr>\n",
       "  </tbody>\n",
       "</table>\n",
       "<p>1085 rows × 17 columns</p>\n",
       "</div>"
      ],
      "text/plain": [
       "      claim_id  customer_id      incident_cause claim_date claim_area  \\\n",
       "0     54004764     21868593        Driver error 2017-11-27       Auto   \n",
       "1     33985796     75740424               Crime 2018-10-03       Home   \n",
       "2     53522022     30308357  Other driver error 2018-02-02       Auto   \n",
       "3     13015401     47830476      Natural causes 2018-06-17       Auto   \n",
       "4     22890252     19269962               Crime 2018-01-13       Auto   \n",
       "...        ...          ...                 ...        ...        ...   \n",
       "1080  62020796     79539873  Other driver error 2018-09-06       Auto   \n",
       "1081  63269067     42364152        Other causes 2017-05-09       Home   \n",
       "1082  22690595     19888166  Other driver error 2017-05-15       Auto   \n",
       "1083  12376894     11256802  Other driver error 2017-04-18       Auto   \n",
       "1084  63226031     61575264      Natural causes 2017-03-16       Auto   \n",
       "\n",
       "     police_report     claim_type  claim_amount  total_policy_claims  \\\n",
       "0               No  Material only        2980.0                  1.0   \n",
       "1          Unknown  Material only        2980.0                  3.0   \n",
       "2               No  Material only        3369.5                  1.0   \n",
       "3               No  Material only        1680.0                  1.0   \n",
       "4               No  Material only        2680.0                  1.0   \n",
       "...            ...            ...           ...                  ...   \n",
       "1080           Yes  Material only        1770.0                  1.0   \n",
       "1081            No  Material only        2800.0                  1.0   \n",
       "1082           Yes    Injury only       33080.0                  2.0   \n",
       "1083            No  Material only        2840.0                  4.0   \n",
       "1084            No  Material only        1490.0                  1.0   \n",
       "\n",
       "     fraudulent   CUST_ID  gender DateOfBirth State       Contact   Segment  \\\n",
       "0            No  21868593  Female  1979-01-12    VT  789-916-8172  Platinum   \n",
       "1            No  75740424  Female  1970-01-13    ME  265-543-1264    Silver   \n",
       "2           Yes  30308357  Female  1984-03-11    TN  798-631-4758    Silver   \n",
       "3            No  47830476  Female  1986-05-01    MA  413-187-7945    Silver   \n",
       "4            No  19269962    Male  1977-05-13    NV  956-871-8691      Gold   \n",
       "...         ...       ...     ...         ...   ...           ...       ...   \n",
       "1080         No  79539873  Female  1981-03-15    ND  459-425-4319  Platinum   \n",
       "1081         No  42364152  Female  1996-07-07    ID  529-462-1635    Silver   \n",
       "1082         No  19888166    Male  1990-04-11    WI  712-651-9613      Gold   \n",
       "1083         No  11256802  Female  1964-10-22    LA  469-345-5617    Silver   \n",
       "1084         No  61575264    Male  1995-07-12    WY  182-385-1392      Gold   \n",
       "\n",
       "      Report_flag  \n",
       "0               0  \n",
       "1               0  \n",
       "2               0  \n",
       "3               0  \n",
       "4               0  \n",
       "...           ...  \n",
       "1080            1  \n",
       "1081            0  \n",
       "1082            1  \n",
       "1083            0  \n",
       "1084            0  \n",
       "\n",
       "[1085 rows x 17 columns]"
      ]
     },
     "execution_count": 39,
     "metadata": {},
     "output_type": "execute_result"
    }
   ],
   "source": [
    "Final_dataset"
   ]
  },
  {
   "cell_type": "markdown",
   "id": "6af56bd4-78e7-42dd-a663-494d49194cb1",
   "metadata": {},
   "source": [
    "# 5. Retain the most recent observation and delete any duplicated records in  the data based on the customer ID column"
   ]
  },
  {
   "cell_type": "code",
   "execution_count": 56,
   "id": "fb48ed20-d41e-4bcb-96b6-de49fd590854",
   "metadata": {},
   "outputs": [
    {
     "data": {
      "text/html": [
       "<div>\n",
       "<style scoped>\n",
       "    .dataframe tbody tr th:only-of-type {\n",
       "        vertical-align: middle;\n",
       "    }\n",
       "\n",
       "    .dataframe tbody tr th {\n",
       "        vertical-align: top;\n",
       "    }\n",
       "\n",
       "    .dataframe thead th {\n",
       "        text-align: right;\n",
       "    }\n",
       "</style>\n",
       "<table border=\"1\" class=\"dataframe\">\n",
       "  <thead>\n",
       "    <tr style=\"text-align: right;\">\n",
       "      <th></th>\n",
       "      <th>claim_id</th>\n",
       "      <th>customer_id</th>\n",
       "      <th>incident_cause</th>\n",
       "      <th>claim_date</th>\n",
       "      <th>claim_area</th>\n",
       "      <th>police_report</th>\n",
       "      <th>claim_type</th>\n",
       "      <th>claim_amount</th>\n",
       "      <th>total_policy_claims</th>\n",
       "      <th>fraudulent</th>\n",
       "      <th>CUST_ID</th>\n",
       "      <th>gender</th>\n",
       "      <th>DateOfBirth</th>\n",
       "      <th>State</th>\n",
       "      <th>Contact</th>\n",
       "      <th>Segment</th>\n",
       "      <th>Report_flag</th>\n",
       "    </tr>\n",
       "  </thead>\n",
       "  <tbody>\n",
       "    <tr>\n",
       "      <th>4</th>\n",
       "      <td>22890252</td>\n",
       "      <td>19269962</td>\n",
       "      <td>Crime</td>\n",
       "      <td>2018-01-13</td>\n",
       "      <td>Auto</td>\n",
       "      <td>No</td>\n",
       "      <td>Material only</td>\n",
       "      <td>2680.0</td>\n",
       "      <td>1.0</td>\n",
       "      <td>No</td>\n",
       "      <td>19269962.0</td>\n",
       "      <td>Male</td>\n",
       "      <td>1977-05-13</td>\n",
       "      <td>NV</td>\n",
       "      <td>956-871-8691</td>\n",
       "      <td>Gold</td>\n",
       "      <td>0</td>\n",
       "    </tr>\n",
       "    <tr>\n",
       "      <th>631</th>\n",
       "      <td>39219616</td>\n",
       "      <td>19269962</td>\n",
       "      <td>Other causes</td>\n",
       "      <td>2018-09-26</td>\n",
       "      <td>Auto</td>\n",
       "      <td>No</td>\n",
       "      <td>Material only</td>\n",
       "      <td>2240.0</td>\n",
       "      <td>2.0</td>\n",
       "      <td>No</td>\n",
       "      <td>19269962.0</td>\n",
       "      <td>Male</td>\n",
       "      <td>1977-05-13</td>\n",
       "      <td>NV</td>\n",
       "      <td>956-871-8691</td>\n",
       "      <td>Gold</td>\n",
       "      <td>0</td>\n",
       "    </tr>\n",
       "  </tbody>\n",
       "</table>\n",
       "</div>"
      ],
      "text/plain": [
       "     claim_id  customer_id incident_cause claim_date claim_area police_report  \\\n",
       "4    22890252     19269962          Crime 2018-01-13       Auto            No   \n",
       "631  39219616     19269962   Other causes 2018-09-26       Auto            No   \n",
       "\n",
       "        claim_type  claim_amount  total_policy_claims fraudulent     CUST_ID  \\\n",
       "4    Material only        2680.0                  1.0         No  19269962.0   \n",
       "631  Material only        2240.0                  2.0         No  19269962.0   \n",
       "\n",
       "    gender DateOfBirth State       Contact Segment  Report_flag  \n",
       "4     Male  1977-05-13    NV  956-871-8691    Gold            0  \n",
       "631   Male  1977-05-13    NV  956-871-8691    Gold            0  "
      ]
     },
     "execution_count": 56,
     "metadata": {},
     "output_type": "execute_result"
    }
   ],
   "source": [
    "Final_dataset[Final_dataset.customer_id ==19269962]"
   ]
  },
  {
   "cell_type": "code",
   "execution_count": null,
   "id": "50087e1b-3d92-4773-96c2-ec9798ea3517",
   "metadata": {},
   "outputs": [],
   "source": []
  },
  {
   "cell_type": "code",
   "execution_count": 41,
   "id": "c58cb635-818b-4359-9a90-6cc46af167c4",
   "metadata": {},
   "outputs": [],
   "source": [
    "Max_date = Final_dataset.pivot_table(index='customer_id' ,values='claim_date', aggfunc='max').reset_index()"
   ]
  },
  {
   "cell_type": "code",
   "execution_count": 43,
   "id": "2e535409-0e9f-48fc-9ee3-57723a8b5eb6",
   "metadata": {},
   "outputs": [
    {
     "data": {
      "text/html": [
       "<div>\n",
       "<style scoped>\n",
       "    .dataframe tbody tr th:only-of-type {\n",
       "        vertical-align: middle;\n",
       "    }\n",
       "\n",
       "    .dataframe tbody tr th {\n",
       "        vertical-align: top;\n",
       "    }\n",
       "\n",
       "    .dataframe thead th {\n",
       "        text-align: right;\n",
       "    }\n",
       "</style>\n",
       "<table border=\"1\" class=\"dataframe\">\n",
       "  <thead>\n",
       "    <tr style=\"text-align: right;\">\n",
       "      <th></th>\n",
       "      <th>customer_id</th>\n",
       "      <th>claim_date</th>\n",
       "    </tr>\n",
       "  </thead>\n",
       "  <tbody>\n",
       "    <tr>\n",
       "      <th>0</th>\n",
       "      <td>154557</td>\n",
       "      <td>2018-04-10</td>\n",
       "    </tr>\n",
       "    <tr>\n",
       "      <th>1</th>\n",
       "      <td>263204</td>\n",
       "      <td>2018-04-04</td>\n",
       "    </tr>\n",
       "    <tr>\n",
       "      <th>2</th>\n",
       "      <td>287476</td>\n",
       "      <td>2017-10-17</td>\n",
       "    </tr>\n",
       "    <tr>\n",
       "      <th>3</th>\n",
       "      <td>441097</td>\n",
       "      <td>2018-03-21</td>\n",
       "    </tr>\n",
       "    <tr>\n",
       "      <th>4</th>\n",
       "      <td>524545</td>\n",
       "      <td>2018-07-27</td>\n",
       "    </tr>\n",
       "    <tr>\n",
       "      <th>...</th>\n",
       "      <td>...</td>\n",
       "      <td>...</td>\n",
       "    </tr>\n",
       "    <tr>\n",
       "      <th>1073</th>\n",
       "      <td>99674324</td>\n",
       "      <td>2018-07-07</td>\n",
       "    </tr>\n",
       "    <tr>\n",
       "      <th>1074</th>\n",
       "      <td>99723844</td>\n",
       "      <td>2018-01-06</td>\n",
       "    </tr>\n",
       "    <tr>\n",
       "      <th>1075</th>\n",
       "      <td>99761663</td>\n",
       "      <td>2018-04-04</td>\n",
       "    </tr>\n",
       "    <tr>\n",
       "      <th>1076</th>\n",
       "      <td>99892000</td>\n",
       "      <td>2017-11-13</td>\n",
       "    </tr>\n",
       "    <tr>\n",
       "      <th>1077</th>\n",
       "      <td>99961993</td>\n",
       "      <td>2018-10-23</td>\n",
       "    </tr>\n",
       "  </tbody>\n",
       "</table>\n",
       "<p>1078 rows × 2 columns</p>\n",
       "</div>"
      ],
      "text/plain": [
       "      customer_id claim_date\n",
       "0          154557 2018-04-10\n",
       "1          263204 2018-04-04\n",
       "2          287476 2017-10-17\n",
       "3          441097 2018-03-21\n",
       "4          524545 2018-07-27\n",
       "...           ...        ...\n",
       "1073     99674324 2018-07-07\n",
       "1074     99723844 2018-01-06\n",
       "1075     99761663 2018-04-04\n",
       "1076     99892000 2017-11-13\n",
       "1077     99961993 2018-10-23\n",
       "\n",
       "[1078 rows x 2 columns]"
      ]
     },
     "execution_count": 43,
     "metadata": {},
     "output_type": "execute_result"
    }
   ],
   "source": [
    "Max_date "
   ]
  },
  {
   "cell_type": "code",
   "execution_count": 45,
   "id": "7b5f60cf-8537-4633-a177-8a9fe61b935d",
   "metadata": {},
   "outputs": [],
   "source": [
    "Customer_claim_data= pd.merge(left = Max_date, right = Final_dataset ,how= 'inner', on = ['customer_id','claim_date'] )"
   ]
  },
  {
   "cell_type": "code",
   "execution_count": 47,
   "id": "6925de84-de93-40ab-a7ac-0d0b9fa79103",
   "metadata": {},
   "outputs": [],
   "source": [
    "Customer_claim_data.drop('CUST_ID', axis = 1, inplace = True )"
   ]
  },
  {
   "cell_type": "code",
   "execution_count": null,
   "id": "283d1740-c72d-4666-b93a-62519d65fb22",
   "metadata": {},
   "outputs": [],
   "source": []
  },
  {
   "cell_type": "code",
   "execution_count": 49,
   "id": "e2b2b67e-bf9d-4055-9d7f-f122b27530df",
   "metadata": {},
   "outputs": [
    {
     "data": {
      "text/html": [
       "<div>\n",
       "<style scoped>\n",
       "    .dataframe tbody tr th:only-of-type {\n",
       "        vertical-align: middle;\n",
       "    }\n",
       "\n",
       "    .dataframe tbody tr th {\n",
       "        vertical-align: top;\n",
       "    }\n",
       "\n",
       "    .dataframe thead th {\n",
       "        text-align: right;\n",
       "    }\n",
       "</style>\n",
       "<table border=\"1\" class=\"dataframe\">\n",
       "  <thead>\n",
       "    <tr style=\"text-align: right;\">\n",
       "      <th></th>\n",
       "      <th>customer_id</th>\n",
       "      <th>claim_date</th>\n",
       "      <th>claim_id</th>\n",
       "      <th>incident_cause</th>\n",
       "      <th>claim_area</th>\n",
       "      <th>police_report</th>\n",
       "      <th>claim_type</th>\n",
       "      <th>claim_amount</th>\n",
       "      <th>total_policy_claims</th>\n",
       "      <th>fraudulent</th>\n",
       "      <th>gender</th>\n",
       "      <th>DateOfBirth</th>\n",
       "      <th>State</th>\n",
       "      <th>Contact</th>\n",
       "      <th>Segment</th>\n",
       "      <th>Report_flag</th>\n",
       "    </tr>\n",
       "  </thead>\n",
       "  <tbody>\n",
       "    <tr>\n",
       "      <th>0</th>\n",
       "      <td>154557</td>\n",
       "      <td>2018-04-10</td>\n",
       "      <td>69348631</td>\n",
       "      <td>Driver error</td>\n",
       "      <td>Auto</td>\n",
       "      <td>No</td>\n",
       "      <td>Injury only</td>\n",
       "      <td>12442.125121</td>\n",
       "      <td>1.0</td>\n",
       "      <td>Yes</td>\n",
       "      <td>Female</td>\n",
       "      <td>1978-05-23</td>\n",
       "      <td>DE</td>\n",
       "      <td>962-879-1238</td>\n",
       "      <td>Platinum</td>\n",
       "      <td>0</td>\n",
       "    </tr>\n",
       "    <tr>\n",
       "      <th>1</th>\n",
       "      <td>263204</td>\n",
       "      <td>2018-04-04</td>\n",
       "      <td>40953049</td>\n",
       "      <td>Other causes</td>\n",
       "      <td>Auto</td>\n",
       "      <td>No</td>\n",
       "      <td>Material and injury</td>\n",
       "      <td>39192.000000</td>\n",
       "      <td>1.0</td>\n",
       "      <td>Yes</td>\n",
       "      <td>Male</td>\n",
       "      <td>1972-12-20</td>\n",
       "      <td>TX</td>\n",
       "      <td>173-892-6314</td>\n",
       "      <td>Silver</td>\n",
       "      <td>0</td>\n",
       "    </tr>\n",
       "    <tr>\n",
       "      <th>2</th>\n",
       "      <td>287476</td>\n",
       "      <td>2017-10-17</td>\n",
       "      <td>45780237</td>\n",
       "      <td>Natural causes</td>\n",
       "      <td>Auto</td>\n",
       "      <td>Unknown</td>\n",
       "      <td>Material only</td>\n",
       "      <td>1621.500000</td>\n",
       "      <td>2.0</td>\n",
       "      <td>Yes</td>\n",
       "      <td>Male</td>\n",
       "      <td>1988-07-28</td>\n",
       "      <td>FL</td>\n",
       "      <td>364-598-1549</td>\n",
       "      <td>Silver</td>\n",
       "      <td>0</td>\n",
       "    </tr>\n",
       "    <tr>\n",
       "      <th>3</th>\n",
       "      <td>441097</td>\n",
       "      <td>2018-03-21</td>\n",
       "      <td>89833962</td>\n",
       "      <td>Other causes</td>\n",
       "      <td>Auto</td>\n",
       "      <td>Yes</td>\n",
       "      <td>Material and injury</td>\n",
       "      <td>37040.000000</td>\n",
       "      <td>1.0</td>\n",
       "      <td>No</td>\n",
       "      <td>Male</td>\n",
       "      <td>1971-08-19</td>\n",
       "      <td>CA</td>\n",
       "      <td>187-348-8375</td>\n",
       "      <td>Gold</td>\n",
       "      <td>1</td>\n",
       "    </tr>\n",
       "    <tr>\n",
       "      <th>4</th>\n",
       "      <td>524545</td>\n",
       "      <td>2018-07-27</td>\n",
       "      <td>35782742</td>\n",
       "      <td>Other driver error</td>\n",
       "      <td>Auto</td>\n",
       "      <td>No</td>\n",
       "      <td>Injury only</td>\n",
       "      <td>35250.000000</td>\n",
       "      <td>3.0</td>\n",
       "      <td>No</td>\n",
       "      <td>Female</td>\n",
       "      <td>1980-08-10</td>\n",
       "      <td>NC</td>\n",
       "      <td>798-862-5398</td>\n",
       "      <td>Gold</td>\n",
       "      <td>0</td>\n",
       "    </tr>\n",
       "    <tr>\n",
       "      <th>...</th>\n",
       "      <td>...</td>\n",
       "      <td>...</td>\n",
       "      <td>...</td>\n",
       "      <td>...</td>\n",
       "      <td>...</td>\n",
       "      <td>...</td>\n",
       "      <td>...</td>\n",
       "      <td>...</td>\n",
       "      <td>...</td>\n",
       "      <td>...</td>\n",
       "      <td>...</td>\n",
       "      <td>...</td>\n",
       "      <td>...</td>\n",
       "      <td>...</td>\n",
       "      <td>...</td>\n",
       "      <td>...</td>\n",
       "    </tr>\n",
       "    <tr>\n",
       "      <th>1073</th>\n",
       "      <td>99674324</td>\n",
       "      <td>2018-07-07</td>\n",
       "      <td>4549014</td>\n",
       "      <td>Other causes</td>\n",
       "      <td>Auto</td>\n",
       "      <td>No</td>\n",
       "      <td>Injury only</td>\n",
       "      <td>21480.000000</td>\n",
       "      <td>1.0</td>\n",
       "      <td>No</td>\n",
       "      <td>Male</td>\n",
       "      <td>1965-01-28</td>\n",
       "      <td>UT</td>\n",
       "      <td>517-562-4916</td>\n",
       "      <td>Silver</td>\n",
       "      <td>0</td>\n",
       "    </tr>\n",
       "    <tr>\n",
       "      <th>1074</th>\n",
       "      <td>99723844</td>\n",
       "      <td>2018-01-06</td>\n",
       "      <td>35453672</td>\n",
       "      <td>Natural causes</td>\n",
       "      <td>Auto</td>\n",
       "      <td>Yes</td>\n",
       "      <td>Material and injury</td>\n",
       "      <td>14360.000000</td>\n",
       "      <td>1.0</td>\n",
       "      <td>No</td>\n",
       "      <td>Female</td>\n",
       "      <td>1966-06-19</td>\n",
       "      <td>HI</td>\n",
       "      <td>457-752-1374</td>\n",
       "      <td>Gold</td>\n",
       "      <td>1</td>\n",
       "    </tr>\n",
       "    <tr>\n",
       "      <th>1075</th>\n",
       "      <td>99761663</td>\n",
       "      <td>2018-04-04</td>\n",
       "      <td>37305754</td>\n",
       "      <td>Natural causes</td>\n",
       "      <td>Auto</td>\n",
       "      <td>No</td>\n",
       "      <td>Material only</td>\n",
       "      <td>1242.000000</td>\n",
       "      <td>1.0</td>\n",
       "      <td>Yes</td>\n",
       "      <td>Female</td>\n",
       "      <td>1963-11-18</td>\n",
       "      <td>NC</td>\n",
       "      <td>643-246-4718</td>\n",
       "      <td>Silver</td>\n",
       "      <td>0</td>\n",
       "    </tr>\n",
       "    <tr>\n",
       "      <th>1076</th>\n",
       "      <td>99892000</td>\n",
       "      <td>2017-11-13</td>\n",
       "      <td>22960702</td>\n",
       "      <td>Driver error</td>\n",
       "      <td>Auto</td>\n",
       "      <td>No</td>\n",
       "      <td>Material only</td>\n",
       "      <td>2415.000000</td>\n",
       "      <td>2.0</td>\n",
       "      <td>Yes</td>\n",
       "      <td>Male</td>\n",
       "      <td>1995-06-08</td>\n",
       "      <td>OR</td>\n",
       "      <td>395-246-6172</td>\n",
       "      <td>Gold</td>\n",
       "      <td>0</td>\n",
       "    </tr>\n",
       "    <tr>\n",
       "      <th>1077</th>\n",
       "      <td>99961993</td>\n",
       "      <td>2018-10-23</td>\n",
       "      <td>47262068</td>\n",
       "      <td>Driver error</td>\n",
       "      <td>Home</td>\n",
       "      <td>No</td>\n",
       "      <td>Material only</td>\n",
       "      <td>2310.000000</td>\n",
       "      <td>1.0</td>\n",
       "      <td>No</td>\n",
       "      <td>Male</td>\n",
       "      <td>1995-06-10</td>\n",
       "      <td>AL</td>\n",
       "      <td>234-943-2876</td>\n",
       "      <td>Platinum</td>\n",
       "      <td>0</td>\n",
       "    </tr>\n",
       "  </tbody>\n",
       "</table>\n",
       "<p>1078 rows × 16 columns</p>\n",
       "</div>"
      ],
      "text/plain": [
       "      customer_id claim_date  claim_id      incident_cause claim_area  \\\n",
       "0          154557 2018-04-10  69348631        Driver error       Auto   \n",
       "1          263204 2018-04-04  40953049        Other causes       Auto   \n",
       "2          287476 2017-10-17  45780237      Natural causes       Auto   \n",
       "3          441097 2018-03-21  89833962        Other causes       Auto   \n",
       "4          524545 2018-07-27  35782742  Other driver error       Auto   \n",
       "...           ...        ...       ...                 ...        ...   \n",
       "1073     99674324 2018-07-07   4549014        Other causes       Auto   \n",
       "1074     99723844 2018-01-06  35453672      Natural causes       Auto   \n",
       "1075     99761663 2018-04-04  37305754      Natural causes       Auto   \n",
       "1076     99892000 2017-11-13  22960702        Driver error       Auto   \n",
       "1077     99961993 2018-10-23  47262068        Driver error       Home   \n",
       "\n",
       "     police_report           claim_type  claim_amount  total_policy_claims  \\\n",
       "0               No          Injury only  12442.125121                  1.0   \n",
       "1               No  Material and injury  39192.000000                  1.0   \n",
       "2          Unknown        Material only   1621.500000                  2.0   \n",
       "3              Yes  Material and injury  37040.000000                  1.0   \n",
       "4               No          Injury only  35250.000000                  3.0   \n",
       "...            ...                  ...           ...                  ...   \n",
       "1073            No          Injury only  21480.000000                  1.0   \n",
       "1074           Yes  Material and injury  14360.000000                  1.0   \n",
       "1075            No        Material only   1242.000000                  1.0   \n",
       "1076            No        Material only   2415.000000                  2.0   \n",
       "1077            No        Material only   2310.000000                  1.0   \n",
       "\n",
       "     fraudulent  gender DateOfBirth State       Contact   Segment  Report_flag  \n",
       "0           Yes  Female  1978-05-23    DE  962-879-1238  Platinum            0  \n",
       "1           Yes    Male  1972-12-20    TX  173-892-6314    Silver            0  \n",
       "2           Yes    Male  1988-07-28    FL  364-598-1549    Silver            0  \n",
       "3            No    Male  1971-08-19    CA  187-348-8375      Gold            1  \n",
       "4            No  Female  1980-08-10    NC  798-862-5398      Gold            0  \n",
       "...         ...     ...         ...   ...           ...       ...          ...  \n",
       "1073         No    Male  1965-01-28    UT  517-562-4916    Silver            0  \n",
       "1074         No  Female  1966-06-19    HI  457-752-1374      Gold            1  \n",
       "1075        Yes  Female  1963-11-18    NC  643-246-4718    Silver            0  \n",
       "1076        Yes    Male  1995-06-08    OR  395-246-6172      Gold            0  \n",
       "1077         No    Male  1995-06-10    AL  234-943-2876  Platinum            0  \n",
       "\n",
       "[1078 rows x 16 columns]"
      ]
     },
     "execution_count": 49,
     "metadata": {},
     "output_type": "execute_result"
    }
   ],
   "source": [
    "Customer_claim_data"
   ]
  },
  {
   "cell_type": "code",
   "execution_count": null,
   "id": "82498eeb-0e06-4186-b345-77cafde95174",
   "metadata": {},
   "outputs": [],
   "source": [
    "# Thus we have generated a final data set called Customer_claim_data table.But it still requires outlier treatment."
   ]
  },
  {
   "cell_type": "markdown",
   "id": "527b03b8-375e-49cb-85b9-a3edf7479832",
   "metadata": {},
   "source": [
    "# Outlier treatment:"
   ]
  },
  {
   "cell_type": "code",
   "execution_count": 51,
   "id": "7b900d27-6b8a-4784-87d6-c713054069b4",
   "metadata": {},
   "outputs": [
    {
     "data": {
      "image/png": "[encoded data removed]",
      "text/plain": [
       "<Figure size 640x480 with 1 Axes>"
      ]
     },
     "metadata": {},
     "output_type": "display_data"
    },
    {
     "data": {
      "image/png": "[encoded data removed]",
      "text/plain": [
       "<Figure size 640x480 with 1 Axes>"
      ]
     },
     "metadata": {},
     "output_type": "display_data"
    },
    {
     "data": {
      "image/png": "[encoded data removed]",
      "text/plain": [
       "<Figure size 640x480 with 1 Axes>"
      ]
     },
     "metadata": {},
     "output_type": "display_data"
    },
    {
     "data": {
      "image/png": "[encoded data removed]",
      "text/plain": [
       "<Figure size 640x480 with 1 Axes>"
      ]
     },
     "metadata": {},
     "output_type": "display_data"
    },
    {
     "data": {
      "image/png": "[encoded data removed]",
      "text/plain": [
       "<Figure size 640x480 with 1 Axes>"
      ]
     },
     "metadata": {},
     "output_type": "display_data"
    },
    {
     "data": {
      "image/png": "[encoded data removed]",
      "text/plain": [
       "<Figure size 640x480 with 1 Axes>"
      ]
     },
     "metadata": {},
     "output_type": "display_data"
    },
    {
     "data": {
      "image/png": "[encoded data removed]",
      "text/plain": [
       "<Figure size 640x480 with 1 Axes>"
      ]
     },
     "metadata": {},
     "output_type": "display_data"
    },
    {
     "data": {
      "image/png": "[encoded data removed]",
      "text/plain": [
       "<Figure size 640x480 with 1 Axes>"
      ]
     },
     "metadata": {},
     "output_type": "display_data"
    },
    {
     "data": {
      "image/png": "[encoded data removed]",
      "text/plain": [
       "<Figure size 640x480 with 1 Axes>"
      ]
     },
     "metadata": {},
     "output_type": "display_data"
    },
    {
     "data": {
      "image/png": "[encoded data removed]",
      "text/plain": [
       "<Figure size 640x480 with 1 Axes>"
      ]
     },
     "metadata": {},
     "output_type": "display_data"
    },
    {
     "data": {
      "image/png": "[encoded data removed]",
      "text/plain": [
       "<Figure size 640x480 with 1 Axes>"
      ]
     },
     "metadata": {},
     "output_type": "display_data"
    },
    {
     "data": {
      "image/png": "[encoded data removed]",
      "text/plain": [
       "<Figure size 640x480 with 1 Axes>"
      ]
     },
     "metadata": {},
     "output_type": "display_data"
    },
    {
     "data": {
      "image/png": "[encoded data removed]",
      "text/plain": [
       "<Figure size 640x480 with 1 Axes>"
      ]
     },
     "metadata": {},
     "output_type": "display_data"
    },
    {
     "data": {
      "image/png": "[encoded data removed]",
      "text/plain": [
       "<Figure size 640x480 with 1 Axes>"
      ]
     },
     "metadata": {},
     "output_type": "display_data"
    },
    {
     "data": {
      "image/png": "[encoded data removed]",
      "text/plain": [
       "<Figure size 640x480 with 1 Axes>"
      ]
     },
     "metadata": {},
     "output_type": "display_data"
    },
    {
     "data": {
      "image/png": "[encoded data removed]",
      "text/plain": [
       "<Figure size 640x480 with 1 Axes>"
      ]
     },
     "metadata": {},
     "output_type": "display_data"
    }
   ],
   "source": [
    "for i in Customer_claim_data:\n",
    "    sns.boxplot(Customer_claim_data,x=Customer_claim_data[i])\n",
    "    plt.show()"
   ]
  },
  {
   "cell_type": "code",
   "execution_count": 52,
   "id": "7151deaf-d2ab-4e6f-bdec-bcd7821af6f7",
   "metadata": {},
   "outputs": [],
   "source": [
    "for i in Customer_claim_data:\n",
    "    if Customer_claim_data[i].dtypes in ('float64','int64'):\n",
    "        Q1= Customer_claim_data[i].quantile(0.25)\n",
    "        Q3 = Customer_claim_data[i].quantile(0.75)\n",
    "        IQR = Q3-Q1\n",
    "        upper_l = Q3 +(1.5*IQR)\n",
    "        lower_l = Q1 - (1.5*IQR)\n",
    "        Customer_claim_data[i]= Customer_claim_data[i].clip(lower=lower_l,upper =upper_l )\n",
    "        \n",
    "\n",
    " "
   ]
  },
  {
   "cell_type": "code",
   "execution_count": 55,
   "id": "32da1f55-173f-4b91-a9ec-03a5fd55b0be",
   "metadata": {},
   "outputs": [
    {
     "data": {
      "image/png": "[encoded data removed]",
      "text/plain": [
       "<Figure size 640x480 with 1 Axes>"
      ]
     },
     "metadata": {},
     "output_type": "display_data"
    },
    {
     "data": {
      "image/png": "[encoded data removed]",
      "text/plain": [
       "<Figure size 640x480 with 1 Axes>"
      ]
     },
     "metadata": {},
     "output_type": "display_data"
    },
    {
     "data": {
      "image/png": "[encoded data removed]",
      "text/plain": [
       "<Figure size 640x480 with 1 Axes>"
      ]
     },
     "metadata": {},
     "output_type": "display_data"
    },
    {
     "data": {
      "image/png": "[encoded data removed]",
      "text/plain": [
       "<Figure size 640x480 with 1 Axes>"
      ]
     },
     "metadata": {},
     "output_type": "display_data"
    },
    {
     "data": {
      "image/png": "[encoded data removed]",
      "text/plain": [
       "<Figure size 640x480 with 1 Axes>"
      ]
     },
     "metadata": {},
     "output_type": "display_data"
    },
    {
     "data": {
      "image/png": "[encoded data removed]",
      "text/plain": [
       "<Figure size 640x480 with 1 Axes>"
      ]
     },
     "metadata": {},
     "output_type": "display_data"
    },
    {
     "data": {
      "image/png": "[encoded data removed]",
      "text/plain": [
       "<Figure size 640x480 with 1 Axes>"
      ]
     },
     "metadata": {},
     "output_type": "display_data"
    },
    {
     "data": {
      "image/png": "[encoded data removed]",
      "text/plain": [
       "<Figure size 640x480 with 1 Axes>"
      ]
     },
     "metadata": {},
     "output_type": "display_data"
    },
    {
     "data": {
      "image/png": "[encoded data removed]",
      "text/plain": [
       "<Figure size 640x480 with 1 Axes>"
      ]
     },
     "metadata": {},
     "output_type": "display_data"
    },
    {
     "data": {
      "image/png": "[encoded data removed]",
      "text/plain": [
       "<Figure size 640x480 with 1 Axes>"
      ]
     },
     "metadata": {},
     "output_type": "display_data"
    },
    {
     "data": {
      "image/png": "[encoded data removed]",
      "text/plain": [
       "<Figure size 640x480 with 1 Axes>"
      ]
     },
     "metadata": {},
     "output_type": "display_data"
    },
    {
     "data": {
      "image/png": "[encoded data removed]",
      "text/plain": [
       "<Figure size 640x480 with 1 Axes>"
      ]
     },
     "metadata": {},
     "output_type": "display_data"
    },
    {
     "data": {
      "image/png": "[encoded data removed]",
      "text/plain": [
       "<Figure size 640x480 with 1 Axes>"
      ]
     },
     "metadata": {},
     "output_type": "display_data"
    },
    {
     "data": {
      "image/png": "[encoded data removed]",
      "text/plain": [
       "<Figure size 640x480 with 1 Axes>"
      ]
     },
     "metadata": {},
     "output_type": "display_data"
    },
    {
     "data": {
      "image/png": "[encoded data removed]",
      "text/plain": [
       "<Figure size 640x480 with 1 Axes>"
      ]
     },
     "metadata": {},
     "output_type": "display_data"
    },
    {
     "data": {
      "image/png": "[encoded data removed]",
      "text/plain": [
       "<Figure size 640x480 with 1 Axes>"
      ]
     },
     "metadata": {},
     "output_type": "display_data"
    }
   ],
   "source": [
    "for i in Customer_claim_data:\n",
    "    sns.boxplot(Customer_claim_data,x=Customer_claim_data[i])\n",
    "    plt.show()"
   ]
  },
  {
   "cell_type": "markdown",
   "id": "abeebd9d-0449-4608-8c44-7a5674564120",
   "metadata": {},
   "source": [
    "## The dataset has been cleaned , followed by outlier treatment . It is ready for further analysis."
   ]
  },
  {
   "cell_type": "markdown",
   "id": "42208190-3e1b-4534-a98a-50e83a434ba5",
   "metadata": {},
   "source": [
    "# 7. Calculate the age of customers in years, Based on the age categorize the  customers according to the below criteria"
   ]
  },
  {
   "cell_type": "code",
   "execution_count": null,
   "id": "47c729a2-1e97-4860-9cf1-17b701473e29",
   "metadata": {},
   "outputs": [],
   "source": [
    "Children  < 18   Youth  18-30  ; Adult :30-60   Senior  : > 60"
   ]
  },
  {
   "cell_type": "code",
   "execution_count": 57,
   "id": "2e10333f-da5c-4c57-b02f-b90b7837dd81",
   "metadata": {},
   "outputs": [],
   "source": [
    "Customer_claim_data['Age']= pd.Timestamp.today().year- Customer_claim_data.DateOfBirth.dt.year"
   ]
  },
  {
   "cell_type": "code",
   "execution_count": 59,
   "id": "7872e818-303c-4f1a-b34b-cfc137d3b3ba",
   "metadata": {},
   "outputs": [],
   "source": [
    "Customer_claim_data['Life_stage'] = np.where((Customer_claim_data.Age>=18) &(Customer_claim_data.Age<30),'Youth',np.where((Customer_claim_data.Age>=30) &(Customer_claim_data.Age<=60),'Adult','Senior'))"
   ]
  },
  {
   "cell_type": "code",
   "execution_count": 61,
   "id": "a73f1991-d45b-4b87-b953-1ca2666dabff",
   "metadata": {},
   "outputs": [
    {
     "data": {
      "text/html": [
       "<div>\n",
       "<style scoped>\n",
       "    .dataframe tbody tr th:only-of-type {\n",
       "        vertical-align: middle;\n",
       "    }\n",
       "\n",
       "    .dataframe tbody tr th {\n",
       "        vertical-align: top;\n",
       "    }\n",
       "\n",
       "    .dataframe thead th {\n",
       "        text-align: right;\n",
       "    }\n",
       "</style>\n",
       "<table border=\"1\" class=\"dataframe\">\n",
       "  <thead>\n",
       "    <tr style=\"text-align: right;\">\n",
       "      <th></th>\n",
       "      <th>customer_id</th>\n",
       "      <th>claim_date</th>\n",
       "      <th>claim_id</th>\n",
       "      <th>incident_cause</th>\n",
       "      <th>claim_area</th>\n",
       "      <th>police_report</th>\n",
       "      <th>claim_type</th>\n",
       "      <th>claim_amount</th>\n",
       "      <th>total_policy_claims</th>\n",
       "      <th>fraudulent</th>\n",
       "      <th>gender</th>\n",
       "      <th>DateOfBirth</th>\n",
       "      <th>State</th>\n",
       "      <th>Contact</th>\n",
       "      <th>Segment</th>\n",
       "      <th>Report_flag</th>\n",
       "      <th>Age</th>\n",
       "      <th>Life_stage</th>\n",
       "    </tr>\n",
       "  </thead>\n",
       "  <tbody>\n",
       "    <tr>\n",
       "      <th>0</th>\n",
       "      <td>154557</td>\n",
       "      <td>2018-04-10</td>\n",
       "      <td>69348631</td>\n",
       "      <td>Driver error</td>\n",
       "      <td>Auto</td>\n",
       "      <td>No</td>\n",
       "      <td>Injury only</td>\n",
       "      <td>12442.125121</td>\n",
       "      <td>1.0</td>\n",
       "      <td>Yes</td>\n",
       "      <td>Female</td>\n",
       "      <td>1978-05-23</td>\n",
       "      <td>DE</td>\n",
       "      <td>962-879-1238</td>\n",
       "      <td>Platinum</td>\n",
       "      <td>0</td>\n",
       "      <td>46</td>\n",
       "      <td>Adult</td>\n",
       "    </tr>\n",
       "    <tr>\n",
       "      <th>1</th>\n",
       "      <td>263204</td>\n",
       "      <td>2018-04-04</td>\n",
       "      <td>40953049</td>\n",
       "      <td>Other causes</td>\n",
       "      <td>Auto</td>\n",
       "      <td>No</td>\n",
       "      <td>Material and injury</td>\n",
       "      <td>39192.000000</td>\n",
       "      <td>1.0</td>\n",
       "      <td>Yes</td>\n",
       "      <td>Male</td>\n",
       "      <td>1972-12-20</td>\n",
       "      <td>TX</td>\n",
       "      <td>173-892-6314</td>\n",
       "      <td>Silver</td>\n",
       "      <td>0</td>\n",
       "      <td>52</td>\n",
       "      <td>Adult</td>\n",
       "    </tr>\n",
       "    <tr>\n",
       "      <th>2</th>\n",
       "      <td>287476</td>\n",
       "      <td>2017-10-17</td>\n",
       "      <td>45780237</td>\n",
       "      <td>Natural causes</td>\n",
       "      <td>Auto</td>\n",
       "      <td>Unknown</td>\n",
       "      <td>Material only</td>\n",
       "      <td>1621.500000</td>\n",
       "      <td>2.0</td>\n",
       "      <td>Yes</td>\n",
       "      <td>Male</td>\n",
       "      <td>1988-07-28</td>\n",
       "      <td>FL</td>\n",
       "      <td>364-598-1549</td>\n",
       "      <td>Silver</td>\n",
       "      <td>0</td>\n",
       "      <td>36</td>\n",
       "      <td>Adult</td>\n",
       "    </tr>\n",
       "    <tr>\n",
       "      <th>3</th>\n",
       "      <td>441097</td>\n",
       "      <td>2018-03-21</td>\n",
       "      <td>89833962</td>\n",
       "      <td>Other causes</td>\n",
       "      <td>Auto</td>\n",
       "      <td>Yes</td>\n",
       "      <td>Material and injury</td>\n",
       "      <td>37040.000000</td>\n",
       "      <td>1.0</td>\n",
       "      <td>No</td>\n",
       "      <td>Male</td>\n",
       "      <td>1971-08-19</td>\n",
       "      <td>CA</td>\n",
       "      <td>187-348-8375</td>\n",
       "      <td>Gold</td>\n",
       "      <td>1</td>\n",
       "      <td>53</td>\n",
       "      <td>Adult</td>\n",
       "    </tr>\n",
       "    <tr>\n",
       "      <th>4</th>\n",
       "      <td>524545</td>\n",
       "      <td>2018-07-27</td>\n",
       "      <td>35782742</td>\n",
       "      <td>Other driver error</td>\n",
       "      <td>Auto</td>\n",
       "      <td>No</td>\n",
       "      <td>Injury only</td>\n",
       "      <td>35250.000000</td>\n",
       "      <td>3.0</td>\n",
       "      <td>No</td>\n",
       "      <td>Female</td>\n",
       "      <td>1980-08-10</td>\n",
       "      <td>NC</td>\n",
       "      <td>798-862-5398</td>\n",
       "      <td>Gold</td>\n",
       "      <td>0</td>\n",
       "      <td>44</td>\n",
       "      <td>Adult</td>\n",
       "    </tr>\n",
       "    <tr>\n",
       "      <th>...</th>\n",
       "      <td>...</td>\n",
       "      <td>...</td>\n",
       "      <td>...</td>\n",
       "      <td>...</td>\n",
       "      <td>...</td>\n",
       "      <td>...</td>\n",
       "      <td>...</td>\n",
       "      <td>...</td>\n",
       "      <td>...</td>\n",
       "      <td>...</td>\n",
       "      <td>...</td>\n",
       "      <td>...</td>\n",
       "      <td>...</td>\n",
       "      <td>...</td>\n",
       "      <td>...</td>\n",
       "      <td>...</td>\n",
       "      <td>...</td>\n",
       "      <td>...</td>\n",
       "    </tr>\n",
       "    <tr>\n",
       "      <th>1073</th>\n",
       "      <td>99674324</td>\n",
       "      <td>2018-07-07</td>\n",
       "      <td>4549014</td>\n",
       "      <td>Other causes</td>\n",
       "      <td>Auto</td>\n",
       "      <td>No</td>\n",
       "      <td>Injury only</td>\n",
       "      <td>21480.000000</td>\n",
       "      <td>1.0</td>\n",
       "      <td>No</td>\n",
       "      <td>Male</td>\n",
       "      <td>1965-01-28</td>\n",
       "      <td>UT</td>\n",
       "      <td>517-562-4916</td>\n",
       "      <td>Silver</td>\n",
       "      <td>0</td>\n",
       "      <td>59</td>\n",
       "      <td>Adult</td>\n",
       "    </tr>\n",
       "    <tr>\n",
       "      <th>1074</th>\n",
       "      <td>99723844</td>\n",
       "      <td>2018-01-06</td>\n",
       "      <td>35453672</td>\n",
       "      <td>Natural causes</td>\n",
       "      <td>Auto</td>\n",
       "      <td>Yes</td>\n",
       "      <td>Material and injury</td>\n",
       "      <td>14360.000000</td>\n",
       "      <td>1.0</td>\n",
       "      <td>No</td>\n",
       "      <td>Female</td>\n",
       "      <td>1966-06-19</td>\n",
       "      <td>HI</td>\n",
       "      <td>457-752-1374</td>\n",
       "      <td>Gold</td>\n",
       "      <td>1</td>\n",
       "      <td>58</td>\n",
       "      <td>Adult</td>\n",
       "    </tr>\n",
       "    <tr>\n",
       "      <th>1075</th>\n",
       "      <td>99761663</td>\n",
       "      <td>2018-04-04</td>\n",
       "      <td>37305754</td>\n",
       "      <td>Natural causes</td>\n",
       "      <td>Auto</td>\n",
       "      <td>No</td>\n",
       "      <td>Material only</td>\n",
       "      <td>1242.000000</td>\n",
       "      <td>1.0</td>\n",
       "      <td>Yes</td>\n",
       "      <td>Female</td>\n",
       "      <td>1963-11-18</td>\n",
       "      <td>NC</td>\n",
       "      <td>643-246-4718</td>\n",
       "      <td>Silver</td>\n",
       "      <td>0</td>\n",
       "      <td>61</td>\n",
       "      <td>Senior</td>\n",
       "    </tr>\n",
       "    <tr>\n",
       "      <th>1076</th>\n",
       "      <td>99892000</td>\n",
       "      <td>2017-11-13</td>\n",
       "      <td>22960702</td>\n",
       "      <td>Driver error</td>\n",
       "      <td>Auto</td>\n",
       "      <td>No</td>\n",
       "      <td>Material only</td>\n",
       "      <td>2415.000000</td>\n",
       "      <td>2.0</td>\n",
       "      <td>Yes</td>\n",
       "      <td>Male</td>\n",
       "      <td>1995-06-08</td>\n",
       "      <td>OR</td>\n",
       "      <td>395-246-6172</td>\n",
       "      <td>Gold</td>\n",
       "      <td>0</td>\n",
       "      <td>29</td>\n",
       "      <td>Youth</td>\n",
       "    </tr>\n",
       "    <tr>\n",
       "      <th>1077</th>\n",
       "      <td>99961993</td>\n",
       "      <td>2018-10-23</td>\n",
       "      <td>47262068</td>\n",
       "      <td>Driver error</td>\n",
       "      <td>Home</td>\n",
       "      <td>No</td>\n",
       "      <td>Material only</td>\n",
       "      <td>2310.000000</td>\n",
       "      <td>1.0</td>\n",
       "      <td>No</td>\n",
       "      <td>Male</td>\n",
       "      <td>1995-06-10</td>\n",
       "      <td>AL</td>\n",
       "      <td>234-943-2876</td>\n",
       "      <td>Platinum</td>\n",
       "      <td>0</td>\n",
       "      <td>29</td>\n",
       "      <td>Youth</td>\n",
       "    </tr>\n",
       "  </tbody>\n",
       "</table>\n",
       "<p>1078 rows × 18 columns</p>\n",
       "</div>"
      ],
      "text/plain": [
       "      customer_id claim_date  claim_id      incident_cause claim_area  \\\n",
       "0          154557 2018-04-10  69348631        Driver error       Auto   \n",
       "1          263204 2018-04-04  40953049        Other causes       Auto   \n",
       "2          287476 2017-10-17  45780237      Natural causes       Auto   \n",
       "3          441097 2018-03-21  89833962        Other causes       Auto   \n",
       "4          524545 2018-07-27  35782742  Other driver error       Auto   \n",
       "...           ...        ...       ...                 ...        ...   \n",
       "1073     99674324 2018-07-07   4549014        Other causes       Auto   \n",
       "1074     99723844 2018-01-06  35453672      Natural causes       Auto   \n",
       "1075     99761663 2018-04-04  37305754      Natural causes       Auto   \n",
       "1076     99892000 2017-11-13  22960702        Driver error       Auto   \n",
       "1077     99961993 2018-10-23  47262068        Driver error       Home   \n",
       "\n",
       "     police_report           claim_type  claim_amount  total_policy_claims  \\\n",
       "0               No          Injury only  12442.125121                  1.0   \n",
       "1               No  Material and injury  39192.000000                  1.0   \n",
       "2          Unknown        Material only   1621.500000                  2.0   \n",
       "3              Yes  Material and injury  37040.000000                  1.0   \n",
       "4               No          Injury only  35250.000000                  3.0   \n",
       "...            ...                  ...           ...                  ...   \n",
       "1073            No          Injury only  21480.000000                  1.0   \n",
       "1074           Yes  Material and injury  14360.000000                  1.0   \n",
       "1075            No        Material only   1242.000000                  1.0   \n",
       "1076            No        Material only   2415.000000                  2.0   \n",
       "1077            No        Material only   2310.000000                  1.0   \n",
       "\n",
       "     fraudulent  gender DateOfBirth State       Contact   Segment  \\\n",
       "0           Yes  Female  1978-05-23    DE  962-879-1238  Platinum   \n",
       "1           Yes    Male  1972-12-20    TX  173-892-6314    Silver   \n",
       "2           Yes    Male  1988-07-28    FL  364-598-1549    Silver   \n",
       "3            No    Male  1971-08-19    CA  187-348-8375      Gold   \n",
       "4            No  Female  1980-08-10    NC  798-862-5398      Gold   \n",
       "...         ...     ...         ...   ...           ...       ...   \n",
       "1073         No    Male  1965-01-28    UT  517-562-4916    Silver   \n",
       "1074         No  Female  1966-06-19    HI  457-752-1374      Gold   \n",
       "1075        Yes  Female  1963-11-18    NC  643-246-4718    Silver   \n",
       "1076        Yes    Male  1995-06-08    OR  395-246-6172      Gold   \n",
       "1077         No    Male  1995-06-10    AL  234-943-2876  Platinum   \n",
       "\n",
       "      Report_flag  Age Life_stage  \n",
       "0               0   46      Adult  \n",
       "1               0   52      Adult  \n",
       "2               0   36      Adult  \n",
       "3               1   53      Adult  \n",
       "4               0   44      Adult  \n",
       "...           ...  ...        ...  \n",
       "1073            0   59      Adult  \n",
       "1074            1   58      Adult  \n",
       "1075            0   61     Senior  \n",
       "1076            0   29      Youth  \n",
       "1077            0   29      Youth  \n",
       "\n",
       "[1078 rows x 18 columns]"
      ]
     },
     "execution_count": 61,
     "metadata": {},
     "output_type": "execute_result"
    }
   ],
   "source": [
    "Customer_claim_data"
   ]
  },
  {
   "cell_type": "markdown",
   "id": "dea6e5b4-35c0-4b13-83c9-de1b6354d641",
   "metadata": {},
   "source": [
    "#  8 .What is the average amount claimed by the customers from various segments"
   ]
  },
  {
   "cell_type": "code",
   "execution_count": 361,
   "id": "81a1246a-4aba-4d31-b3e1-23169d2780a5",
   "metadata": {},
   "outputs": [
    {
     "data": {
      "text/html": [
       "<div>\n",
       "<style scoped>\n",
       "    .dataframe tbody tr th:only-of-type {\n",
       "        vertical-align: middle;\n",
       "    }\n",
       "\n",
       "    .dataframe tbody tr th {\n",
       "        vertical-align: top;\n",
       "    }\n",
       "\n",
       "    .dataframe thead th {\n",
       "        text-align: right;\n",
       "    }\n",
       "</style>\n",
       "<table border=\"1\" class=\"dataframe\">\n",
       "  <thead>\n",
       "    <tr style=\"text-align: right;\">\n",
       "      <th></th>\n",
       "      <th>Segment</th>\n",
       "      <th>claim_amount</th>\n",
       "    </tr>\n",
       "  </thead>\n",
       "  <tbody>\n",
       "    <tr>\n",
       "      <th>0</th>\n",
       "      <td>Gold</td>\n",
       "      <td>12842.865910</td>\n",
       "    </tr>\n",
       "    <tr>\n",
       "      <th>1</th>\n",
       "      <td>Platinum</td>\n",
       "      <td>12369.178329</td>\n",
       "    </tr>\n",
       "    <tr>\n",
       "      <th>2</th>\n",
       "      <td>Silver</td>\n",
       "      <td>12263.036137</td>\n",
       "    </tr>\n",
       "  </tbody>\n",
       "</table>\n",
       "</div>"
      ],
      "text/plain": [
       "    Segment  claim_amount\n",
       "0      Gold  12842.865910\n",
       "1  Platinum  12369.178329\n",
       "2    Silver  12263.036137"
      ]
     },
     "execution_count": 361,
     "metadata": {},
     "output_type": "execute_result"
    }
   ],
   "source": [
    "Customer_claim_data.pivot_table(index = 'Segment', values = 'claim_amount' ,aggfunc = 'mean').reset_index()"
   ]
  },
  {
   "cell_type": "code",
   "execution_count": null,
   "id": "31a05c02-9333-4eb8-8413-fc14d05c84a2",
   "metadata": {},
   "outputs": [],
   "source": [
    "# Customers from gold segment had the highest average claim amount , followed by Platinum and silver.\n"
   ]
  },
  {
   "cell_type": "markdown",
   "id": "61c04476-fcc2-47d0-869f-833ebe32cce0",
   "metadata": {},
   "source": [
    "#  9. What is the total claim amount based on incident cause for all the claims  that have been done at least 20 days prior to 1st of October, 2018"
   ]
  },
  {
   "cell_type": "code",
   "execution_count": 383,
   "id": "c3dfdd53-911f-4a83-af6d-9a3549bc3ebf",
   "metadata": {},
   "outputs": [
    {
     "data": {
      "text/html": [
       "<div>\n",
       "<style scoped>\n",
       "    .dataframe tbody tr th:only-of-type {\n",
       "        vertical-align: middle;\n",
       "    }\n",
       "\n",
       "    .dataframe tbody tr th {\n",
       "        vertical-align: top;\n",
       "    }\n",
       "\n",
       "    .dataframe thead th {\n",
       "        text-align: right;\n",
       "    }\n",
       "</style>\n",
       "<table border=\"1\" class=\"dataframe\">\n",
       "  <thead>\n",
       "    <tr style=\"text-align: right;\">\n",
       "      <th></th>\n",
       "      <th>incident_cause</th>\n",
       "      <th>claim_amount</th>\n",
       "    </tr>\n",
       "  </thead>\n",
       "  <tbody>\n",
       "    <tr>\n",
       "      <th>0</th>\n",
       "      <td>Crime</td>\n",
       "      <td>7.216406e+05</td>\n",
       "    </tr>\n",
       "    <tr>\n",
       "      <th>1</th>\n",
       "      <td>Driver error</td>\n",
       "      <td>3.315136e+06</td>\n",
       "    </tr>\n",
       "    <tr>\n",
       "      <th>2</th>\n",
       "      <td>Natural causes</td>\n",
       "      <td>1.312451e+06</td>\n",
       "    </tr>\n",
       "    <tr>\n",
       "      <th>3</th>\n",
       "      <td>Other causes</td>\n",
       "      <td>3.722019e+06</td>\n",
       "    </tr>\n",
       "    <tr>\n",
       "      <th>4</th>\n",
       "      <td>Other driver error</td>\n",
       "      <td>3.276762e+06</td>\n",
       "    </tr>\n",
       "  </tbody>\n",
       "</table>\n",
       "</div>"
      ],
      "text/plain": [
       "       incident_cause  claim_amount\n",
       "0               Crime  7.216406e+05\n",
       "1        Driver error  3.315136e+06\n",
       "2      Natural causes  1.312451e+06\n",
       "3        Other causes  3.722019e+06\n",
       "4  Other driver error  3.276762e+06"
      ]
     },
     "execution_count": 383,
     "metadata": {},
     "output_type": "execute_result"
    }
   ],
   "source": [
    "Customer_claim_data[Customer_claim_data.claim_date <=(pd.Timestamp(day = 1 , month = 10 , year = 2018 ) - pd.DateOffset(days = 20 ))].pivot_table(index = 'incident_cause', values = 'claim_amount', aggfunc= 'sum').reset_index()"
   ]
  },
  {
   "cell_type": "code",
   "execution_count": 377,
   "id": "59313bdf-5a39-4b83-aa14-d76925b8acf9",
   "metadata": {},
   "outputs": [
    {
     "data": {
      "text/plain": [
       "Timestamp('2018-09-11 00:00:00')"
      ]
     },
     "execution_count": 377,
     "metadata": {},
     "output_type": "execute_result"
    }
   ],
   "source": [
    "pd.Timestamp(day = 1 , month = 10 , year = 2018 ) - pd.DateOffset(days = 20 )"
   ]
  },
  {
   "cell_type": "markdown",
   "id": "e311f8c0-fc0a-49cf-8bcf-710c91730dc3",
   "metadata": {},
   "source": [
    "# 10. How many adults from TX, DE and AK claimed insurance for driver related issues and causes? \n"
   ]
  },
  {
   "cell_type": "code",
   "execution_count": 402,
   "id": "25d31f4a-b982-48d9-ba66-d1d67d14d51c",
   "metadata": {},
   "outputs": [
    {
     "data": {
      "text/html": [
       "<div>\n",
       "<style scoped>\n",
       "    .dataframe tbody tr th:only-of-type {\n",
       "        vertical-align: middle;\n",
       "    }\n",
       "\n",
       "    .dataframe tbody tr th {\n",
       "        vertical-align: top;\n",
       "    }\n",
       "\n",
       "    .dataframe thead th {\n",
       "        text-align: right;\n",
       "    }\n",
       "</style>\n",
       "<table border=\"1\" class=\"dataframe\">\n",
       "  <thead>\n",
       "    <tr style=\"text-align: right;\">\n",
       "      <th></th>\n",
       "      <th>customer_id</th>\n",
       "      <th>claim_date</th>\n",
       "      <th>claim_id</th>\n",
       "      <th>incident_cause</th>\n",
       "      <th>claim_area</th>\n",
       "      <th>police_report</th>\n",
       "      <th>claim_type</th>\n",
       "      <th>claim_amount</th>\n",
       "      <th>total_policy_claims</th>\n",
       "      <th>fraudulent</th>\n",
       "      <th>gender</th>\n",
       "      <th>DateOfBirth</th>\n",
       "      <th>State</th>\n",
       "      <th>Contact</th>\n",
       "      <th>Segment</th>\n",
       "      <th>Report_flag</th>\n",
       "      <th>Age</th>\n",
       "      <th>Life_stage</th>\n",
       "    </tr>\n",
       "  </thead>\n",
       "  <tbody>\n",
       "    <tr>\n",
       "      <th>0</th>\n",
       "      <td>154557</td>\n",
       "      <td>2018-04-10</td>\n",
       "      <td>69348631</td>\n",
       "      <td>Driver error</td>\n",
       "      <td>Auto</td>\n",
       "      <td>No</td>\n",
       "      <td>Injury only</td>\n",
       "      <td>12442.125121</td>\n",
       "      <td>1.0</td>\n",
       "      <td>Yes</td>\n",
       "      <td>Female</td>\n",
       "      <td>1978-05-23</td>\n",
       "      <td>DE</td>\n",
       "      <td>962-879-1238</td>\n",
       "      <td>Platinum</td>\n",
       "      <td>0</td>\n",
       "      <td>46</td>\n",
       "      <td>Adult</td>\n",
       "    </tr>\n",
       "    <tr>\n",
       "      <th>6</th>\n",
       "      <td>684748</td>\n",
       "      <td>2018-07-14</td>\n",
       "      <td>7238381</td>\n",
       "      <td>Other driver error</td>\n",
       "      <td>Auto</td>\n",
       "      <td>No</td>\n",
       "      <td>Material only</td>\n",
       "      <td>2920.000000</td>\n",
       "      <td>2.0</td>\n",
       "      <td>No</td>\n",
       "      <td>Male</td>\n",
       "      <td>1977-08-03</td>\n",
       "      <td>AK</td>\n",
       "      <td>613-385-2863</td>\n",
       "      <td>Gold</td>\n",
       "      <td>0</td>\n",
       "      <td>47</td>\n",
       "      <td>Adult</td>\n",
       "    </tr>\n",
       "    <tr>\n",
       "      <th>22</th>\n",
       "      <td>2632562</td>\n",
       "      <td>2018-05-14</td>\n",
       "      <td>4506676</td>\n",
       "      <td>Other driver error</td>\n",
       "      <td>Home</td>\n",
       "      <td>Unknown</td>\n",
       "      <td>Material only</td>\n",
       "      <td>1400.000000</td>\n",
       "      <td>1.0</td>\n",
       "      <td>No</td>\n",
       "      <td>Female</td>\n",
       "      <td>1985-12-14</td>\n",
       "      <td>AK</td>\n",
       "      <td>498-597-9658</td>\n",
       "      <td>Platinum</td>\n",
       "      <td>0</td>\n",
       "      <td>39</td>\n",
       "      <td>Adult</td>\n",
       "    </tr>\n",
       "    <tr>\n",
       "      <th>28</th>\n",
       "      <td>3159546</td>\n",
       "      <td>2017-04-25</td>\n",
       "      <td>26716331</td>\n",
       "      <td>Other driver error</td>\n",
       "      <td>Auto</td>\n",
       "      <td>No</td>\n",
       "      <td>Injury only</td>\n",
       "      <td>17590.000000</td>\n",
       "      <td>3.5</td>\n",
       "      <td>No</td>\n",
       "      <td>Male</td>\n",
       "      <td>1987-10-20</td>\n",
       "      <td>TX</td>\n",
       "      <td>586-129-9752</td>\n",
       "      <td>Platinum</td>\n",
       "      <td>0</td>\n",
       "      <td>37</td>\n",
       "      <td>Adult</td>\n",
       "    </tr>\n",
       "    <tr>\n",
       "      <th>40</th>\n",
       "      <td>4669941</td>\n",
       "      <td>2017-11-06</td>\n",
       "      <td>70068</td>\n",
       "      <td>Driver error</td>\n",
       "      <td>Auto</td>\n",
       "      <td>Unknown</td>\n",
       "      <td>Injury only</td>\n",
       "      <td>29900.000000</td>\n",
       "      <td>1.0</td>\n",
       "      <td>Yes</td>\n",
       "      <td>Male</td>\n",
       "      <td>1982-08-03</td>\n",
       "      <td>AK</td>\n",
       "      <td>761-462-3458</td>\n",
       "      <td>Platinum</td>\n",
       "      <td>0</td>\n",
       "      <td>42</td>\n",
       "      <td>Adult</td>\n",
       "    </tr>\n",
       "    <tr>\n",
       "      <th>90</th>\n",
       "      <td>9205013</td>\n",
       "      <td>2018-06-17</td>\n",
       "      <td>40283824</td>\n",
       "      <td>Driver error</td>\n",
       "      <td>Auto</td>\n",
       "      <td>Yes</td>\n",
       "      <td>Material and injury</td>\n",
       "      <td>23430.000000</td>\n",
       "      <td>1.0</td>\n",
       "      <td>No</td>\n",
       "      <td>Male</td>\n",
       "      <td>1963-12-11</td>\n",
       "      <td>DE</td>\n",
       "      <td>239-368-6759</td>\n",
       "      <td>Platinum</td>\n",
       "      <td>1</td>\n",
       "      <td>61</td>\n",
       "      <td>Senior</td>\n",
       "    </tr>\n",
       "    <tr>\n",
       "      <th>110</th>\n",
       "      <td>11321295</td>\n",
       "      <td>2017-02-03</td>\n",
       "      <td>31574986</td>\n",
       "      <td>Driver error</td>\n",
       "      <td>Auto</td>\n",
       "      <td>No</td>\n",
       "      <td>Material only</td>\n",
       "      <td>2460.000000</td>\n",
       "      <td>2.0</td>\n",
       "      <td>No</td>\n",
       "      <td>Male</td>\n",
       "      <td>1965-11-13</td>\n",
       "      <td>DE</td>\n",
       "      <td>429-596-2169</td>\n",
       "      <td>Platinum</td>\n",
       "      <td>0</td>\n",
       "      <td>59</td>\n",
       "      <td>Adult</td>\n",
       "    </tr>\n",
       "    <tr>\n",
       "      <th>132</th>\n",
       "      <td>13687085</td>\n",
       "      <td>2018-01-13</td>\n",
       "      <td>37688454</td>\n",
       "      <td>Driver error</td>\n",
       "      <td>Auto</td>\n",
       "      <td>Unknown</td>\n",
       "      <td>Injury only</td>\n",
       "      <td>16760.000000</td>\n",
       "      <td>1.0</td>\n",
       "      <td>No</td>\n",
       "      <td>Male</td>\n",
       "      <td>1997-11-18</td>\n",
       "      <td>DE</td>\n",
       "      <td>137-146-7356</td>\n",
       "      <td>Platinum</td>\n",
       "      <td>0</td>\n",
       "      <td>27</td>\n",
       "      <td>Youth</td>\n",
       "    </tr>\n",
       "    <tr>\n",
       "      <th>156</th>\n",
       "      <td>15820948</td>\n",
       "      <td>2017-09-27</td>\n",
       "      <td>53831641</td>\n",
       "      <td>Driver error</td>\n",
       "      <td>Auto</td>\n",
       "      <td>Yes</td>\n",
       "      <td>Material and injury</td>\n",
       "      <td>14570.000000</td>\n",
       "      <td>1.0</td>\n",
       "      <td>No</td>\n",
       "      <td>Male</td>\n",
       "      <td>1964-02-22</td>\n",
       "      <td>TX</td>\n",
       "      <td>583-641-3184</td>\n",
       "      <td>Silver</td>\n",
       "      <td>1</td>\n",
       "      <td>60</td>\n",
       "      <td>Adult</td>\n",
       "    </tr>\n",
       "    <tr>\n",
       "      <th>187</th>\n",
       "      <td>18282409</td>\n",
       "      <td>2017-08-11</td>\n",
       "      <td>94983900</td>\n",
       "      <td>Driver error</td>\n",
       "      <td>Auto</td>\n",
       "      <td>No</td>\n",
       "      <td>Injury only</td>\n",
       "      <td>31020.000000</td>\n",
       "      <td>2.0</td>\n",
       "      <td>No</td>\n",
       "      <td>Female</td>\n",
       "      <td>1973-09-29</td>\n",
       "      <td>AK</td>\n",
       "      <td>326-215-7361</td>\n",
       "      <td>Gold</td>\n",
       "      <td>0</td>\n",
       "      <td>51</td>\n",
       "      <td>Adult</td>\n",
       "    </tr>\n",
       "    <tr>\n",
       "      <th>203</th>\n",
       "      <td>19796899</td>\n",
       "      <td>2018-04-04</td>\n",
       "      <td>9124181</td>\n",
       "      <td>Other driver error</td>\n",
       "      <td>Auto</td>\n",
       "      <td>Yes</td>\n",
       "      <td>Material and injury</td>\n",
       "      <td>24667.500000</td>\n",
       "      <td>1.0</td>\n",
       "      <td>Yes</td>\n",
       "      <td>Female</td>\n",
       "      <td>1975-12-17</td>\n",
       "      <td>TX</td>\n",
       "      <td>725-873-8239</td>\n",
       "      <td>Gold</td>\n",
       "      <td>1</td>\n",
       "      <td>49</td>\n",
       "      <td>Adult</td>\n",
       "    </tr>\n",
       "    <tr>\n",
       "      <th>270</th>\n",
       "      <td>26489135</td>\n",
       "      <td>2017-07-01</td>\n",
       "      <td>70399158</td>\n",
       "      <td>Driver error</td>\n",
       "      <td>Auto</td>\n",
       "      <td>No</td>\n",
       "      <td>Material only</td>\n",
       "      <td>1110.000000</td>\n",
       "      <td>1.0</td>\n",
       "      <td>No</td>\n",
       "      <td>Male</td>\n",
       "      <td>1994-10-05</td>\n",
       "      <td>DE</td>\n",
       "      <td>654-456-1493</td>\n",
       "      <td>Platinum</td>\n",
       "      <td>0</td>\n",
       "      <td>30</td>\n",
       "      <td>Adult</td>\n",
       "    </tr>\n",
       "    <tr>\n",
       "      <th>304</th>\n",
       "      <td>29903212</td>\n",
       "      <td>2018-06-17</td>\n",
       "      <td>7136079</td>\n",
       "      <td>Driver error</td>\n",
       "      <td>Auto</td>\n",
       "      <td>No</td>\n",
       "      <td>Material only</td>\n",
       "      <td>2668.000000</td>\n",
       "      <td>2.0</td>\n",
       "      <td>Yes</td>\n",
       "      <td>Male</td>\n",
       "      <td>1989-12-16</td>\n",
       "      <td>DE</td>\n",
       "      <td>279-918-3268</td>\n",
       "      <td>Platinum</td>\n",
       "      <td>0</td>\n",
       "      <td>35</td>\n",
       "      <td>Adult</td>\n",
       "    </tr>\n",
       "    <tr>\n",
       "      <th>335</th>\n",
       "      <td>32464636</td>\n",
       "      <td>2017-10-31</td>\n",
       "      <td>99281527</td>\n",
       "      <td>Driver error</td>\n",
       "      <td>Auto</td>\n",
       "      <td>No</td>\n",
       "      <td>Material only</td>\n",
       "      <td>2323.000000</td>\n",
       "      <td>1.0</td>\n",
       "      <td>Yes</td>\n",
       "      <td>Female</td>\n",
       "      <td>1988-08-25</td>\n",
       "      <td>DE</td>\n",
       "      <td>862-247-1496</td>\n",
       "      <td>Gold</td>\n",
       "      <td>0</td>\n",
       "      <td>36</td>\n",
       "      <td>Adult</td>\n",
       "    </tr>\n",
       "    <tr>\n",
       "      <th>411</th>\n",
       "      <td>39959491</td>\n",
       "      <td>2018-09-06</td>\n",
       "      <td>54642809</td>\n",
       "      <td>Driver error</td>\n",
       "      <td>Auto</td>\n",
       "      <td>Unknown</td>\n",
       "      <td>Material only</td>\n",
       "      <td>2720.000000</td>\n",
       "      <td>1.0</td>\n",
       "      <td>No</td>\n",
       "      <td>Female</td>\n",
       "      <td>1995-04-07</td>\n",
       "      <td>DE</td>\n",
       "      <td>139-742-5417</td>\n",
       "      <td>Silver</td>\n",
       "      <td>0</td>\n",
       "      <td>29</td>\n",
       "      <td>Youth</td>\n",
       "    </tr>\n",
       "    <tr>\n",
       "      <th>437</th>\n",
       "      <td>42083451</td>\n",
       "      <td>2017-08-31</td>\n",
       "      <td>6365892</td>\n",
       "      <td>Driver error</td>\n",
       "      <td>Auto</td>\n",
       "      <td>No</td>\n",
       "      <td>Material only</td>\n",
       "      <td>2400.000000</td>\n",
       "      <td>1.0</td>\n",
       "      <td>No</td>\n",
       "      <td>Male</td>\n",
       "      <td>1967-11-23</td>\n",
       "      <td>AK</td>\n",
       "      <td>689-375-9463</td>\n",
       "      <td>Platinum</td>\n",
       "      <td>0</td>\n",
       "      <td>57</td>\n",
       "      <td>Adult</td>\n",
       "    </tr>\n",
       "    <tr>\n",
       "      <th>458</th>\n",
       "      <td>44050095</td>\n",
       "      <td>2017-03-22</td>\n",
       "      <td>17396013</td>\n",
       "      <td>Driver error</td>\n",
       "      <td>Auto</td>\n",
       "      <td>Unknown</td>\n",
       "      <td>Material and injury</td>\n",
       "      <td>20458.500000</td>\n",
       "      <td>1.0</td>\n",
       "      <td>Yes</td>\n",
       "      <td>Male</td>\n",
       "      <td>1977-06-04</td>\n",
       "      <td>DE</td>\n",
       "      <td>314-298-9257</td>\n",
       "      <td>Platinum</td>\n",
       "      <td>0</td>\n",
       "      <td>47</td>\n",
       "      <td>Adult</td>\n",
       "    </tr>\n",
       "    <tr>\n",
       "      <th>502</th>\n",
       "      <td>47415706</td>\n",
       "      <td>2017-08-04</td>\n",
       "      <td>77192370</td>\n",
       "      <td>Other driver error</td>\n",
       "      <td>Auto</td>\n",
       "      <td>Unknown</td>\n",
       "      <td>Material and injury</td>\n",
       "      <td>18457.500000</td>\n",
       "      <td>1.0</td>\n",
       "      <td>Yes</td>\n",
       "      <td>Female</td>\n",
       "      <td>1961-08-08</td>\n",
       "      <td>DE</td>\n",
       "      <td>179-574-5837</td>\n",
       "      <td>Gold</td>\n",
       "      <td>0</td>\n",
       "      <td>63</td>\n",
       "      <td>Senior</td>\n",
       "    </tr>\n",
       "    <tr>\n",
       "      <th>588</th>\n",
       "      <td>54094880</td>\n",
       "      <td>2017-02-17</td>\n",
       "      <td>34621474</td>\n",
       "      <td>Other driver error</td>\n",
       "      <td>Auto</td>\n",
       "      <td>No</td>\n",
       "      <td>Material only</td>\n",
       "      <td>1529.500000</td>\n",
       "      <td>1.0</td>\n",
       "      <td>Yes</td>\n",
       "      <td>Male</td>\n",
       "      <td>1984-06-01</td>\n",
       "      <td>DE</td>\n",
       "      <td>568-481-7418</td>\n",
       "      <td>Silver</td>\n",
       "      <td>0</td>\n",
       "      <td>40</td>\n",
       "      <td>Adult</td>\n",
       "    </tr>\n",
       "    <tr>\n",
       "      <th>659</th>\n",
       "      <td>61810954</td>\n",
       "      <td>2018-09-19</td>\n",
       "      <td>65335959</td>\n",
       "      <td>Other driver error</td>\n",
       "      <td>Auto</td>\n",
       "      <td>Unknown</td>\n",
       "      <td>Material and injury</td>\n",
       "      <td>36620.000000</td>\n",
       "      <td>1.0</td>\n",
       "      <td>No</td>\n",
       "      <td>Male</td>\n",
       "      <td>1969-05-18</td>\n",
       "      <td>TX</td>\n",
       "      <td>724-493-6179</td>\n",
       "      <td>Silver</td>\n",
       "      <td>0</td>\n",
       "      <td>55</td>\n",
       "      <td>Adult</td>\n",
       "    </tr>\n",
       "    <tr>\n",
       "      <th>661</th>\n",
       "      <td>62204138</td>\n",
       "      <td>2017-10-31</td>\n",
       "      <td>93028492</td>\n",
       "      <td>Driver error</td>\n",
       "      <td>Auto</td>\n",
       "      <td>Unknown</td>\n",
       "      <td>Material only</td>\n",
       "      <td>2691.000000</td>\n",
       "      <td>1.0</td>\n",
       "      <td>Yes</td>\n",
       "      <td>Female</td>\n",
       "      <td>1989-12-15</td>\n",
       "      <td>DE</td>\n",
       "      <td>471-934-4961</td>\n",
       "      <td>Platinum</td>\n",
       "      <td>0</td>\n",
       "      <td>35</td>\n",
       "      <td>Adult</td>\n",
       "    </tr>\n",
       "    <tr>\n",
       "      <th>697</th>\n",
       "      <td>65899365</td>\n",
       "      <td>2018-07-14</td>\n",
       "      <td>86096444</td>\n",
       "      <td>Driver error</td>\n",
       "      <td>Auto</td>\n",
       "      <td>No</td>\n",
       "      <td>Material and injury</td>\n",
       "      <td>34160.000000</td>\n",
       "      <td>1.0</td>\n",
       "      <td>No</td>\n",
       "      <td>Female</td>\n",
       "      <td>1973-07-25</td>\n",
       "      <td>TX</td>\n",
       "      <td>135-971-8567</td>\n",
       "      <td>Platinum</td>\n",
       "      <td>0</td>\n",
       "      <td>51</td>\n",
       "      <td>Adult</td>\n",
       "    </tr>\n",
       "    <tr>\n",
       "      <th>703</th>\n",
       "      <td>66433138</td>\n",
       "      <td>2017-02-23</td>\n",
       "      <td>22577147</td>\n",
       "      <td>Driver error</td>\n",
       "      <td>Auto</td>\n",
       "      <td>No</td>\n",
       "      <td>Material and injury</td>\n",
       "      <td>21447.500000</td>\n",
       "      <td>2.0</td>\n",
       "      <td>Yes</td>\n",
       "      <td>Male</td>\n",
       "      <td>1978-06-27</td>\n",
       "      <td>TX</td>\n",
       "      <td>752-617-3867</td>\n",
       "      <td>Gold</td>\n",
       "      <td>0</td>\n",
       "      <td>46</td>\n",
       "      <td>Adult</td>\n",
       "    </tr>\n",
       "    <tr>\n",
       "      <th>727</th>\n",
       "      <td>68772500</td>\n",
       "      <td>2018-08-30</td>\n",
       "      <td>21550521</td>\n",
       "      <td>Driver error</td>\n",
       "      <td>Auto</td>\n",
       "      <td>Unknown</td>\n",
       "      <td>Material only</td>\n",
       "      <td>2320.000000</td>\n",
       "      <td>1.0</td>\n",
       "      <td>No</td>\n",
       "      <td>Male</td>\n",
       "      <td>1989-11-10</td>\n",
       "      <td>TX</td>\n",
       "      <td>562-259-5432</td>\n",
       "      <td>Silver</td>\n",
       "      <td>0</td>\n",
       "      <td>35</td>\n",
       "      <td>Adult</td>\n",
       "    </tr>\n",
       "    <tr>\n",
       "      <th>796</th>\n",
       "      <td>74787956</td>\n",
       "      <td>2017-09-14</td>\n",
       "      <td>12612736</td>\n",
       "      <td>Driver error</td>\n",
       "      <td>Auto</td>\n",
       "      <td>Unknown</td>\n",
       "      <td>Material only</td>\n",
       "      <td>12442.125121</td>\n",
       "      <td>1.0</td>\n",
       "      <td>No</td>\n",
       "      <td>Male</td>\n",
       "      <td>1989-06-19</td>\n",
       "      <td>TX</td>\n",
       "      <td>679-514-5894</td>\n",
       "      <td>Gold</td>\n",
       "      <td>0</td>\n",
       "      <td>35</td>\n",
       "      <td>Adult</td>\n",
       "    </tr>\n",
       "    <tr>\n",
       "      <th>811</th>\n",
       "      <td>76314493</td>\n",
       "      <td>2017-09-14</td>\n",
       "      <td>49252712</td>\n",
       "      <td>Other driver error</td>\n",
       "      <td>Home</td>\n",
       "      <td>No</td>\n",
       "      <td>Material only</td>\n",
       "      <td>12442.125121</td>\n",
       "      <td>1.0</td>\n",
       "      <td>No</td>\n",
       "      <td>Female</td>\n",
       "      <td>1961-10-02</td>\n",
       "      <td>DE</td>\n",
       "      <td>389-764-4853</td>\n",
       "      <td>Silver</td>\n",
       "      <td>0</td>\n",
       "      <td>63</td>\n",
       "      <td>Senior</td>\n",
       "    </tr>\n",
       "    <tr>\n",
       "      <th>821</th>\n",
       "      <td>77006226</td>\n",
       "      <td>2018-02-15</td>\n",
       "      <td>21146312</td>\n",
       "      <td>Driver error</td>\n",
       "      <td>Auto</td>\n",
       "      <td>No</td>\n",
       "      <td>Material only</td>\n",
       "      <td>2930.000000</td>\n",
       "      <td>1.0</td>\n",
       "      <td>No</td>\n",
       "      <td>Female</td>\n",
       "      <td>1998-02-13</td>\n",
       "      <td>TX</td>\n",
       "      <td>641-295-5498</td>\n",
       "      <td>Platinum</td>\n",
       "      <td>0</td>\n",
       "      <td>26</td>\n",
       "      <td>Youth</td>\n",
       "    </tr>\n",
       "    <tr>\n",
       "      <th>826</th>\n",
       "      <td>77510822</td>\n",
       "      <td>2018-10-30</td>\n",
       "      <td>87329176</td>\n",
       "      <td>Other driver error</td>\n",
       "      <td>Auto</td>\n",
       "      <td>Unknown</td>\n",
       "      <td>Material only</td>\n",
       "      <td>12442.125121</td>\n",
       "      <td>2.0</td>\n",
       "      <td>No</td>\n",
       "      <td>Female</td>\n",
       "      <td>1986-03-18</td>\n",
       "      <td>AK</td>\n",
       "      <td>436-934-7156</td>\n",
       "      <td>Silver</td>\n",
       "      <td>0</td>\n",
       "      <td>38</td>\n",
       "      <td>Adult</td>\n",
       "    </tr>\n",
       "    <tr>\n",
       "      <th>876</th>\n",
       "      <td>82415154</td>\n",
       "      <td>2017-06-11</td>\n",
       "      <td>46572741</td>\n",
       "      <td>Other driver error</td>\n",
       "      <td>Auto</td>\n",
       "      <td>No</td>\n",
       "      <td>Material and injury</td>\n",
       "      <td>15240.000000</td>\n",
       "      <td>1.0</td>\n",
       "      <td>No</td>\n",
       "      <td>Female</td>\n",
       "      <td>1980-03-08</td>\n",
       "      <td>DE</td>\n",
       "      <td>578-942-1542</td>\n",
       "      <td>Platinum</td>\n",
       "      <td>0</td>\n",
       "      <td>44</td>\n",
       "      <td>Adult</td>\n",
       "    </tr>\n",
       "    <tr>\n",
       "      <th>897</th>\n",
       "      <td>84147585</td>\n",
       "      <td>2018-04-10</td>\n",
       "      <td>78221963</td>\n",
       "      <td>Driver error</td>\n",
       "      <td>Auto</td>\n",
       "      <td>Yes</td>\n",
       "      <td>Injury only</td>\n",
       "      <td>14430.000000</td>\n",
       "      <td>3.5</td>\n",
       "      <td>No</td>\n",
       "      <td>Male</td>\n",
       "      <td>1972-10-18</td>\n",
       "      <td>AK</td>\n",
       "      <td>743-569-4783</td>\n",
       "      <td>Gold</td>\n",
       "      <td>1</td>\n",
       "      <td>52</td>\n",
       "      <td>Adult</td>\n",
       "    </tr>\n",
       "    <tr>\n",
       "      <th>905</th>\n",
       "      <td>84750181</td>\n",
       "      <td>2017-03-09</td>\n",
       "      <td>34691767</td>\n",
       "      <td>Other driver error</td>\n",
       "      <td>Home</td>\n",
       "      <td>No</td>\n",
       "      <td>Material only</td>\n",
       "      <td>2370.000000</td>\n",
       "      <td>3.5</td>\n",
       "      <td>No</td>\n",
       "      <td>Female</td>\n",
       "      <td>1993-05-16</td>\n",
       "      <td>AK</td>\n",
       "      <td>419-431-6251</td>\n",
       "      <td>Platinum</td>\n",
       "      <td>0</td>\n",
       "      <td>31</td>\n",
       "      <td>Adult</td>\n",
       "    </tr>\n",
       "    <tr>\n",
       "      <th>909</th>\n",
       "      <td>85250389</td>\n",
       "      <td>2017-03-02</td>\n",
       "      <td>9129053</td>\n",
       "      <td>Other driver error</td>\n",
       "      <td>Auto</td>\n",
       "      <td>Unknown</td>\n",
       "      <td>Injury only</td>\n",
       "      <td>24380.000000</td>\n",
       "      <td>1.0</td>\n",
       "      <td>Yes</td>\n",
       "      <td>Female</td>\n",
       "      <td>1967-05-08</td>\n",
       "      <td>TX</td>\n",
       "      <td>827-367-5247</td>\n",
       "      <td>Platinum</td>\n",
       "      <td>0</td>\n",
       "      <td>57</td>\n",
       "      <td>Adult</td>\n",
       "    </tr>\n",
       "    <tr>\n",
       "      <th>1004</th>\n",
       "      <td>92752865</td>\n",
       "      <td>2017-04-25</td>\n",
       "      <td>82144259</td>\n",
       "      <td>Driver error</td>\n",
       "      <td>Auto</td>\n",
       "      <td>No</td>\n",
       "      <td>Injury only</td>\n",
       "      <td>12442.125121</td>\n",
       "      <td>1.0</td>\n",
       "      <td>No</td>\n",
       "      <td>Male</td>\n",
       "      <td>1986-01-30</td>\n",
       "      <td>AK</td>\n",
       "      <td>143-219-5498</td>\n",
       "      <td>Silver</td>\n",
       "      <td>0</td>\n",
       "      <td>38</td>\n",
       "      <td>Adult</td>\n",
       "    </tr>\n",
       "    <tr>\n",
       "      <th>1007</th>\n",
       "      <td>92971195</td>\n",
       "      <td>2018-09-26</td>\n",
       "      <td>92399694</td>\n",
       "      <td>Other driver error</td>\n",
       "      <td>Home</td>\n",
       "      <td>No</td>\n",
       "      <td>Material only</td>\n",
       "      <td>1140.000000</td>\n",
       "      <td>1.0</td>\n",
       "      <td>No</td>\n",
       "      <td>Male</td>\n",
       "      <td>1975-02-02</td>\n",
       "      <td>DE</td>\n",
       "      <td>892-173-4657</td>\n",
       "      <td>Gold</td>\n",
       "      <td>0</td>\n",
       "      <td>49</td>\n",
       "      <td>Adult</td>\n",
       "    </tr>\n",
       "    <tr>\n",
       "      <th>1023</th>\n",
       "      <td>94643289</td>\n",
       "      <td>2018-03-14</td>\n",
       "      <td>34596802</td>\n",
       "      <td>Driver error</td>\n",
       "      <td>Auto</td>\n",
       "      <td>No</td>\n",
       "      <td>Material and injury</td>\n",
       "      <td>45287.000000</td>\n",
       "      <td>1.0</td>\n",
       "      <td>Yes</td>\n",
       "      <td>Male</td>\n",
       "      <td>1998-04-24</td>\n",
       "      <td>AK</td>\n",
       "      <td>317-612-1425</td>\n",
       "      <td>Silver</td>\n",
       "      <td>0</td>\n",
       "      <td>26</td>\n",
       "      <td>Youth</td>\n",
       "    </tr>\n",
       "  </tbody>\n",
       "</table>\n",
       "</div>"
      ],
      "text/plain": [
       "      customer_id claim_date  claim_id      incident_cause claim_area  \\\n",
       "0          154557 2018-04-10  69348631        Driver error       Auto   \n",
       "6          684748 2018-07-14   7238381  Other driver error       Auto   \n",
       "22        2632562 2018-05-14   4506676  Other driver error       Home   \n",
       "28        3159546 2017-04-25  26716331  Other driver error       Auto   \n",
       "40        4669941 2017-11-06     70068        Driver error       Auto   \n",
       "90        9205013 2018-06-17  40283824        Driver error       Auto   \n",
       "110      11321295 2017-02-03  31574986        Driver error       Auto   \n",
       "132      13687085 2018-01-13  37688454        Driver error       Auto   \n",
       "156      15820948 2017-09-27  53831641        Driver error       Auto   \n",
       "187      18282409 2017-08-11  94983900        Driver error       Auto   \n",
       "203      19796899 2018-04-04   9124181  Other driver error       Auto   \n",
       "270      26489135 2017-07-01  70399158        Driver error       Auto   \n",
       "304      29903212 2018-06-17   7136079        Driver error       Auto   \n",
       "335      32464636 2017-10-31  99281527        Driver error       Auto   \n",
       "411      39959491 2018-09-06  54642809        Driver error       Auto   \n",
       "437      42083451 2017-08-31   6365892        Driver error       Auto   \n",
       "458      44050095 2017-03-22  17396013        Driver error       Auto   \n",
       "502      47415706 2017-08-04  77192370  Other driver error       Auto   \n",
       "588      54094880 2017-02-17  34621474  Other driver error       Auto   \n",
       "659      61810954 2018-09-19  65335959  Other driver error       Auto   \n",
       "661      62204138 2017-10-31  93028492        Driver error       Auto   \n",
       "697      65899365 2018-07-14  86096444        Driver error       Auto   \n",
       "703      66433138 2017-02-23  22577147        Driver error       Auto   \n",
       "727      68772500 2018-08-30  21550521        Driver error       Auto   \n",
       "796      74787956 2017-09-14  12612736        Driver error       Auto   \n",
       "811      76314493 2017-09-14  49252712  Other driver error       Home   \n",
       "821      77006226 2018-02-15  21146312        Driver error       Auto   \n",
       "826      77510822 2018-10-30  87329176  Other driver error       Auto   \n",
       "876      82415154 2017-06-11  46572741  Other driver error       Auto   \n",
       "897      84147585 2018-04-10  78221963        Driver error       Auto   \n",
       "905      84750181 2017-03-09  34691767  Other driver error       Home   \n",
       "909      85250389 2017-03-02   9129053  Other driver error       Auto   \n",
       "1004     92752865 2017-04-25  82144259        Driver error       Auto   \n",
       "1007     92971195 2018-09-26  92399694  Other driver error       Home   \n",
       "1023     94643289 2018-03-14  34596802        Driver error       Auto   \n",
       "\n",
       "     police_report           claim_type  claim_amount  total_policy_claims  \\\n",
       "0               No          Injury only  12442.125121                  1.0   \n",
       "6               No        Material only   2920.000000                  2.0   \n",
       "22         Unknown        Material only   1400.000000                  1.0   \n",
       "28              No          Injury only  17590.000000                  3.5   \n",
       "40         Unknown          Injury only  29900.000000                  1.0   \n",
       "90             Yes  Material and injury  23430.000000                  1.0   \n",
       "110             No        Material only   2460.000000                  2.0   \n",
       "132        Unknown          Injury only  16760.000000                  1.0   \n",
       "156            Yes  Material and injury  14570.000000                  1.0   \n",
       "187             No          Injury only  31020.000000                  2.0   \n",
       "203            Yes  Material and injury  24667.500000                  1.0   \n",
       "270             No        Material only   1110.000000                  1.0   \n",
       "304             No        Material only   2668.000000                  2.0   \n",
       "335             No        Material only   2323.000000                  1.0   \n",
       "411        Unknown        Material only   2720.000000                  1.0   \n",
       "437             No        Material only   2400.000000                  1.0   \n",
       "458        Unknown  Material and injury  20458.500000                  1.0   \n",
       "502        Unknown  Material and injury  18457.500000                  1.0   \n",
       "588             No        Material only   1529.500000                  1.0   \n",
       "659        Unknown  Material and injury  36620.000000                  1.0   \n",
       "661        Unknown        Material only   2691.000000                  1.0   \n",
       "697             No  Material and injury  34160.000000                  1.0   \n",
       "703             No  Material and injury  21447.500000                  2.0   \n",
       "727        Unknown        Material only   2320.000000                  1.0   \n",
       "796        Unknown        Material only  12442.125121                  1.0   \n",
       "811             No        Material only  12442.125121                  1.0   \n",
       "821             No        Material only   2930.000000                  1.0   \n",
       "826        Unknown        Material only  12442.125121                  2.0   \n",
       "876             No  Material and injury  15240.000000                  1.0   \n",
       "897            Yes          Injury only  14430.000000                  3.5   \n",
       "905             No        Material only   2370.000000                  3.5   \n",
       "909        Unknown          Injury only  24380.000000                  1.0   \n",
       "1004            No          Injury only  12442.125121                  1.0   \n",
       "1007            No        Material only   1140.000000                  1.0   \n",
       "1023            No  Material and injury  45287.000000                  1.0   \n",
       "\n",
       "     fraudulent  gender DateOfBirth State       Contact   Segment  \\\n",
       "0           Yes  Female  1978-05-23    DE  962-879-1238  Platinum   \n",
       "6            No    Male  1977-08-03    AK  613-385-2863      Gold   \n",
       "22           No  Female  1985-12-14    AK  498-597-9658  Platinum   \n",
       "28           No    Male  1987-10-20    TX  586-129-9752  Platinum   \n",
       "40          Yes    Male  1982-08-03    AK  761-462-3458  Platinum   \n",
       "90           No    Male  1963-12-11    DE  239-368-6759  Platinum   \n",
       "110          No    Male  1965-11-13    DE  429-596-2169  Platinum   \n",
       "132          No    Male  1997-11-18    DE  137-146-7356  Platinum   \n",
       "156          No    Male  1964-02-22    TX  583-641-3184    Silver   \n",
       "187          No  Female  1973-09-29    AK  326-215-7361      Gold   \n",
       "203         Yes  Female  1975-12-17    TX  725-873-8239      Gold   \n",
       "270          No    Male  1994-10-05    DE  654-456-1493  Platinum   \n",
       "304         Yes    Male  1989-12-16    DE  279-918-3268  Platinum   \n",
       "335         Yes  Female  1988-08-25    DE  862-247-1496      Gold   \n",
       "411          No  Female  1995-04-07    DE  139-742-5417    Silver   \n",
       "437          No    Male  1967-11-23    AK  689-375-9463  Platinum   \n",
       "458         Yes    Male  1977-06-04    DE  314-298-9257  Platinum   \n",
       "502         Yes  Female  1961-08-08    DE  179-574-5837      Gold   \n",
       "588         Yes    Male  1984-06-01    DE  568-481-7418    Silver   \n",
       "659          No    Male  1969-05-18    TX  724-493-6179    Silver   \n",
       "661         Yes  Female  1989-12-15    DE  471-934-4961  Platinum   \n",
       "697          No  Female  1973-07-25    TX  135-971-8567  Platinum   \n",
       "703         Yes    Male  1978-06-27    TX  752-617-3867      Gold   \n",
       "727          No    Male  1989-11-10    TX  562-259-5432    Silver   \n",
       "796          No    Male  1989-06-19    TX  679-514-5894      Gold   \n",
       "811          No  Female  1961-10-02    DE  389-764-4853    Silver   \n",
       "821          No  Female  1998-02-13    TX  641-295-5498  Platinum   \n",
       "826          No  Female  1986-03-18    AK  436-934-7156    Silver   \n",
       "876          No  Female  1980-03-08    DE  578-942-1542  Platinum   \n",
       "897          No    Male  1972-10-18    AK  743-569-4783      Gold   \n",
       "905          No  Female  1993-05-16    AK  419-431-6251  Platinum   \n",
       "909         Yes  Female  1967-05-08    TX  827-367-5247  Platinum   \n",
       "1004         No    Male  1986-01-30    AK  143-219-5498    Silver   \n",
       "1007         No    Male  1975-02-02    DE  892-173-4657      Gold   \n",
       "1023        Yes    Male  1998-04-24    AK  317-612-1425    Silver   \n",
       "\n",
       "      Report_flag  Age Life_stage  \n",
       "0               0   46      Adult  \n",
       "6               0   47      Adult  \n",
       "22              0   39      Adult  \n",
       "28              0   37      Adult  \n",
       "40              0   42      Adult  \n",
       "90              1   61     Senior  \n",
       "110             0   59      Adult  \n",
       "132             0   27      Youth  \n",
       "156             1   60      Adult  \n",
       "187             0   51      Adult  \n",
       "203             1   49      Adult  \n",
       "270             0   30      Adult  \n",
       "304             0   35      Adult  \n",
       "335             0   36      Adult  \n",
       "411             0   29      Youth  \n",
       "437             0   57      Adult  \n",
       "458             0   47      Adult  \n",
       "502             0   63     Senior  \n",
       "588             0   40      Adult  \n",
       "659             0   55      Adult  \n",
       "661             0   35      Adult  \n",
       "697             0   51      Adult  \n",
       "703             0   46      Adult  \n",
       "727             0   35      Adult  \n",
       "796             0   35      Adult  \n",
       "811             0   63     Senior  \n",
       "821             0   26      Youth  \n",
       "826             0   38      Adult  \n",
       "876             0   44      Adult  \n",
       "897             1   52      Adult  \n",
       "905             0   31      Adult  \n",
       "909             0   57      Adult  \n",
       "1004            0   38      Adult  \n",
       "1007            0   49      Adult  \n",
       "1023            0   26      Youth  "
      ]
     },
     "execution_count": 402,
     "metadata": {},
     "output_type": "execute_result"
    }
   ],
   "source": [
    "Customer_claim_data[((Customer_claim_data.State == 'TX') | (Customer_claim_data.State=='DE') | (Customer_claim_data.State == 'AK')) & (Customer_claim_data.incident_cause.str.contains(pat = 'Driver|driver'))]"
   ]
  },
  {
   "cell_type": "code",
   "execution_count": 404,
   "id": "ddbf1c38-4325-4318-8e41-f2f0ff51c3ef",
   "metadata": {},
   "outputs": [
    {
     "data": {
      "text/plain": [
       "35"
      ]
     },
     "execution_count": 404,
     "metadata": {},
     "output_type": "execute_result"
    }
   ],
   "source": [
    "len(Customer_claim_data[((Customer_claim_data.State == 'TX') | (Customer_claim_data.State=='DE') | (Customer_claim_data.State == 'AK')) & (Customer_claim_data.incident_cause.str.contains(pat = 'Driver|driver'))])"
   ]
  },
  {
   "cell_type": "code",
   "execution_count": null,
   "id": "ab5ca19f-db14-429c-b2ac-91c11f4b9bf6",
   "metadata": {},
   "outputs": [],
   "source": [
    "# Around 35 adults from TX, DE and AK claimed insurance for driver related issues and causes."
   ]
  },
  {
   "cell_type": "markdown",
   "id": "640a6068-16e7-47a9-a917-4cfbbb8c7bcf",
   "metadata": {},
   "source": [
    "# 11.  Draw a pie chart between the aggregated value of claim amount based on gender and segment. Represent the claim amount as a percentage on  the pie chart. "
   ]
  },
  {
   "cell_type": "code",
   "execution_count": 73,
   "id": "325308be-cfbe-4fbb-bca2-da505af4f310",
   "metadata": {},
   "outputs": [
    {
     "data": {
      "text/plain": [
       "array([<Axes: ylabel='claim_amount'>], dtype=object)"
      ]
     },
     "execution_count": 73,
     "metadata": {},
     "output_type": "execute_result"
    },
    {
     "data": {
      "image/png": "[encoded data removed]",
      "text/plain": [
       "<Figure size 640x480 with 1 Axes>"
      ]
     },
     "metadata": {},
     "output_type": "display_data"
    }
   ],
   "source": [
    "Customer_claim_data[['claim_amount','gender','Segment']].groupby(by=['gender','Segment'] ).sum().plot(kind = 'pie', subplots = True)"
   ]
  },
  {
   "cell_type": "markdown",
   "id": "98cf3431-8ac1-4421-a94b-0d2c49a90e91",
   "metadata": {},
   "source": [
    "# 12. Among males and females, which gender had claimed the most for any type of driver related issues? E.g. This metric can be compared using a bar chart"
   ]
  },
  {
   "cell_type": "code",
   "execution_count": 57,
   "id": "c5d288b0-9cc1-4fae-bde2-cb04f360c25f",
   "metadata": {},
   "outputs": [],
   "source": [
    "Gender_agg= Customer_claim_data[Customer_claim_data.incident_cause.str.contains(pat = 'Driver|driver')].pivot_table(index = 'gender', values = 'claim_amount', aggfunc = 'sum') "
   ]
  },
  {
   "cell_type": "code",
   "execution_count": 80,
   "id": "e9a1a5e3-8d05-4917-bac1-d96eee28e16a",
   "metadata": {},
   "outputs": [
    {
     "data": {
      "text/html": [
       "<div>\n",
       "<style scoped>\n",
       "    .dataframe tbody tr th:only-of-type {\n",
       "        vertical-align: middle;\n",
       "    }\n",
       "\n",
       "    .dataframe tbody tr th {\n",
       "        vertical-align: top;\n",
       "    }\n",
       "\n",
       "    .dataframe thead th {\n",
       "        text-align: right;\n",
       "    }\n",
       "</style>\n",
       "<table border=\"1\" class=\"dataframe\">\n",
       "  <thead>\n",
       "    <tr style=\"text-align: right;\">\n",
       "      <th></th>\n",
       "      <th>claim_amount</th>\n",
       "    </tr>\n",
       "    <tr>\n",
       "      <th>gender</th>\n",
       "      <th></th>\n",
       "    </tr>\n",
       "  </thead>\n",
       "  <tbody>\n",
       "    <tr>\n",
       "      <th>Female</th>\n",
       "      <td>3.135943e+06</td>\n",
       "    </tr>\n",
       "    <tr>\n",
       "      <th>Male</th>\n",
       "      <td>3.974399e+06</td>\n",
       "    </tr>\n",
       "  </tbody>\n",
       "</table>\n",
       "</div>"
      ],
      "text/plain": [
       "        claim_amount\n",
       "gender              \n",
       "Female  3.135943e+06\n",
       "Male    3.974399e+06"
      ]
     },
     "execution_count": 80,
     "metadata": {},
     "output_type": "execute_result"
    }
   ],
   "source": [
    "Gender_agg"
   ]
  },
  {
   "cell_type": "code",
   "execution_count": 77,
   "id": "4dbb5fb2-3d42-4d33-830c-c035a3b4a3b4",
   "metadata": {},
   "outputs": [
    {
     "data": {
      "text/plain": [
       "array([<Axes: ylabel='claim_amount'>], dtype=object)"
      ]
     },
     "execution_count": 77,
     "metadata": {},
     "output_type": "execute_result"
    },
    {
     "data": {
      "image/png": "[encoded data removed]",
      "text/plain": [
       "<Figure size 640x480 with 1 Axes>"
      ]
     },
     "metadata": {},
     "output_type": "display_data"
    }
   ],
   "source": [
    "Gender_agg.plot(kind ='pie',subplots=True)"
   ]
  },
  {
   "cell_type": "code",
   "execution_count": null,
   "id": "63f2ce46-e163-4ec2-a28a-f202fce5caf0",
   "metadata": {},
   "outputs": [],
   "source": [
    "# Out of both the gender , male customers had claimed the most for any type of driver related issues"
   ]
  },
  {
   "cell_type": "markdown",
   "id": "4bc9ae44-d457-48c5-97ae-146ec27d9a22",
   "metadata": {},
   "source": [
    "# 13.  Which age group had the maximum fraudulent policy claims? Visualize it on a bar chart"
   ]
  },
  {
   "cell_type": "code",
   "execution_count": 122,
   "id": "0be86e0b-5df6-4cf4-9dc2-84ee63a54067",
   "metadata": {},
   "outputs": [],
   "source": [
    "Customer_claim_data.rename(columns ={'Life_stage':'Age_group'},inplace = True)"
   ]
  },
  {
   "cell_type": "code",
   "execution_count": 124,
   "id": "c3cd5417-be5a-4ad1-93e1-8b40ac06e48f",
   "metadata": {},
   "outputs": [],
   "source": [
    "Fraudulent_agg = Customer_claim_data[Customer_claim_data.fraudulent=='Yes'].pivot_table(index='Age_group', values ='fraudulent' , aggfunc ='count')"
   ]
  },
  {
   "cell_type": "code",
   "execution_count": 126,
   "id": "919c7451-9cc0-4e3d-b953-36737970308d",
   "metadata": {},
   "outputs": [
    {
     "data": {
      "text/html": [
       "<div>\n",
       "<style scoped>\n",
       "    .dataframe tbody tr th:only-of-type {\n",
       "        vertical-align: middle;\n",
       "    }\n",
       "\n",
       "    .dataframe tbody tr th {\n",
       "        vertical-align: top;\n",
       "    }\n",
       "\n",
       "    .dataframe thead th {\n",
       "        text-align: right;\n",
       "    }\n",
       "</style>\n",
       "<table border=\"1\" class=\"dataframe\">\n",
       "  <thead>\n",
       "    <tr style=\"text-align: right;\">\n",
       "      <th></th>\n",
       "      <th>fraudulent</th>\n",
       "    </tr>\n",
       "    <tr>\n",
       "      <th>Age_group</th>\n",
       "      <th></th>\n",
       "    </tr>\n",
       "  </thead>\n",
       "  <tbody>\n",
       "    <tr>\n",
       "      <th>Adult</th>\n",
       "      <td>194</td>\n",
       "    </tr>\n",
       "    <tr>\n",
       "      <th>Senior</th>\n",
       "      <td>26</td>\n",
       "    </tr>\n",
       "    <tr>\n",
       "      <th>Youth</th>\n",
       "      <td>25</td>\n",
       "    </tr>\n",
       "  </tbody>\n",
       "</table>\n",
       "</div>"
      ],
      "text/plain": [
       "           fraudulent\n",
       "Age_group            \n",
       "Adult             194\n",
       "Senior             26\n",
       "Youth              25"
      ]
     },
     "execution_count": 126,
     "metadata": {},
     "output_type": "execute_result"
    }
   ],
   "source": [
    "Fraudulent_agg"
   ]
  },
  {
   "cell_type": "code",
   "execution_count": 98,
   "id": "16311f9b-5add-4a08-bd2a-d0140ba01276",
   "metadata": {},
   "outputs": [
    {
     "data": {
      "text/plain": [
       "<Axes: xlabel='Age_group'>"
      ]
     },
     "execution_count": 98,
     "metadata": {},
     "output_type": "execute_result"
    },
    {
     "data": {
      "image/png": "[encoded data removed]",
      "text/plain": [
       "<Figure size 640x480 with 1 Axes>"
      ]
     },
     "metadata": {},
     "output_type": "display_data"
    }
   ],
   "source": [
    "Fraudulent_agg.plot(kind ='bar'  )"
   ]
  },
  {
   "cell_type": "code",
   "execution_count": null,
   "id": "e99fdc81-7375-48ed-97ee-bd5bf5daaeca",
   "metadata": {},
   "outputs": [],
   "source": [
    "# 'Adult'age group had the maximum fraudulent policy claims."
   ]
  },
  {
   "cell_type": "markdown",
   "id": "fdb1a6ab-09f1-4c3c-a089-278a433bf0b3",
   "metadata": {},
   "source": [
    "# 14. Visualize the monthly trend of the total amount that has been claimed by the customers. Ensure that on the “month” axis, the month is in a chronological order not alphabetical order.   "
   ]
  },
  {
   "cell_type": "code",
   "execution_count": 55,
   "id": "7a00640d-3b6e-447e-b0c9-e9c5df63da2e",
   "metadata": {},
   "outputs": [],
   "source": [
    "Customer_claim_data['claim_Month']=Customer_claim_data.claim_date.dt.strftime('%B')\n",
    "Customer_claim_data['claim_Month_no.']=Customer_claim_data.claim_date.dt.month"
   ]
  },
  {
   "cell_type": "code",
   "execution_count": 67,
   "id": "7125ef5c-13f8-4a9a-94cc-89c00e5c7058",
   "metadata": {},
   "outputs": [],
   "source": [
    "Month_agg = Customer_claim_data.pivot_table(index = ['claim_Month','claim_Month_no.'], values = 'claim_amount',aggfunc= 'sum').reset_index().sort_values(by= 'claim_Month_no.')"
   ]
  },
  {
   "cell_type": "code",
   "execution_count": 69,
   "id": "9b8b496c-fffd-42cf-b20c-0405aca1a534",
   "metadata": {},
   "outputs": [
    {
     "data": {
      "text/html": [
       "<div>\n",
       "<style scoped>\n",
       "    .dataframe tbody tr th:only-of-type {\n",
       "        vertical-align: middle;\n",
       "    }\n",
       "\n",
       "    .dataframe tbody tr th {\n",
       "        vertical-align: top;\n",
       "    }\n",
       "\n",
       "    .dataframe thead th {\n",
       "        text-align: right;\n",
       "    }\n",
       "</style>\n",
       "<table border=\"1\" class=\"dataframe\">\n",
       "  <thead>\n",
       "    <tr style=\"text-align: right;\">\n",
       "      <th></th>\n",
       "      <th>claim_Month</th>\n",
       "      <th>claim_Month_no.</th>\n",
       "      <th>claim_amount</th>\n",
       "    </tr>\n",
       "  </thead>\n",
       "  <tbody>\n",
       "    <tr>\n",
       "      <th>4</th>\n",
       "      <td>January</td>\n",
       "      <td>1</td>\n",
       "      <td>1.326753e+06</td>\n",
       "    </tr>\n",
       "    <tr>\n",
       "      <th>3</th>\n",
       "      <td>February</td>\n",
       "      <td>2</td>\n",
       "      <td>1.164304e+06</td>\n",
       "    </tr>\n",
       "    <tr>\n",
       "      <th>7</th>\n",
       "      <td>March</td>\n",
       "      <td>3</td>\n",
       "      <td>1.319952e+06</td>\n",
       "    </tr>\n",
       "    <tr>\n",
       "      <th>0</th>\n",
       "      <td>April</td>\n",
       "      <td>4</td>\n",
       "      <td>1.292395e+06</td>\n",
       "    </tr>\n",
       "    <tr>\n",
       "      <th>8</th>\n",
       "      <td>May</td>\n",
       "      <td>5</td>\n",
       "      <td>1.113985e+06</td>\n",
       "    </tr>\n",
       "    <tr>\n",
       "      <th>6</th>\n",
       "      <td>June</td>\n",
       "      <td>6</td>\n",
       "      <td>1.278673e+06</td>\n",
       "    </tr>\n",
       "    <tr>\n",
       "      <th>5</th>\n",
       "      <td>July</td>\n",
       "      <td>7</td>\n",
       "      <td>1.378780e+06</td>\n",
       "    </tr>\n",
       "    <tr>\n",
       "      <th>1</th>\n",
       "      <td>August</td>\n",
       "      <td>8</td>\n",
       "      <td>9.111184e+05</td>\n",
       "    </tr>\n",
       "    <tr>\n",
       "      <th>11</th>\n",
       "      <td>September</td>\n",
       "      <td>9</td>\n",
       "      <td>9.826043e+05</td>\n",
       "    </tr>\n",
       "    <tr>\n",
       "      <th>10</th>\n",
       "      <td>October</td>\n",
       "      <td>10</td>\n",
       "      <td>1.409162e+06</td>\n",
       "    </tr>\n",
       "    <tr>\n",
       "      <th>9</th>\n",
       "      <td>November</td>\n",
       "      <td>11</td>\n",
       "      <td>6.010683e+05</td>\n",
       "    </tr>\n",
       "    <tr>\n",
       "      <th>2</th>\n",
       "      <td>December</td>\n",
       "      <td>12</td>\n",
       "      <td>6.941931e+05</td>\n",
       "    </tr>\n",
       "  </tbody>\n",
       "</table>\n",
       "</div>"
      ],
      "text/plain": [
       "   claim_Month  claim_Month_no.  claim_amount\n",
       "4      January                1  1.326753e+06\n",
       "3     February                2  1.164304e+06\n",
       "7        March                3  1.319952e+06\n",
       "0        April                4  1.292395e+06\n",
       "8          May                5  1.113985e+06\n",
       "6         June                6  1.278673e+06\n",
       "5         July                7  1.378780e+06\n",
       "1       August                8  9.111184e+05\n",
       "11   September                9  9.826043e+05\n",
       "10     October               10  1.409162e+06\n",
       "9     November               11  6.010683e+05\n",
       "2     December               12  6.941931e+05"
      ]
     },
     "execution_count": 69,
     "metadata": {},
     "output_type": "execute_result"
    }
   ],
   "source": [
    "Month_agg"
   ]
  },
  {
   "cell_type": "code",
   "execution_count": 142,
   "id": "6e383143-198b-49b6-a459-05be0b0b1d05",
   "metadata": {},
   "outputs": [
    {
     "data": {
      "text/plain": [
       "<Axes: xlabel='claim_Month'>"
      ]
     },
     "execution_count": 142,
     "metadata": {},
     "output_type": "execute_result"
    },
    {
     "data": {
      "image/png": "[encoded data removed]",
      "text/plain": [
       "<Figure size 640x480 with 1 Axes>"
      ]
     },
     "metadata": {},
     "output_type": "display_data"
    }
   ],
   "source": [
    "Month_agg.plot(kind ='bar', y='claim_amount', x= 'claim_Month')"
   ]
  },
  {
   "cell_type": "code",
   "execution_count": null,
   "id": "08cba8f9-57ab-49f3-b70d-9f4eb02e8272",
   "metadata": {},
   "outputs": [],
   "source": [
    "The total claim amount fluctuates across the 12 months , with the highest claimed amount in October followed by July."
   ]
  },
  {
   "cell_type": "markdown",
   "id": "3aa20823-cf13-40be-a709-1c9f6a1dbc05",
   "metadata": {},
   "source": [
    "# 15. What is the average claim amount for gender and age categories and suitably represent the above using a facetted bar chart, one facet that represents fraudulent claims and the other for non-fraudulent claims NOT DONE !!!"
   ]
  },
  {
   "cell_type": "code",
   "execution_count": null,
   "id": "71c18321-25b4-49e3-acc9-1f9d69f330b5",
   "metadata": {},
   "outputs": [],
   "source": [
    "# Creating a facet that represent fradulent claims based on gender and age group"
   ]
  },
  {
   "cell_type": "code",
   "execution_count": 128,
   "id": "984bf1e9-46f6-46b3-ab12-254b80efa117",
   "metadata": {},
   "outputs": [],
   "source": [
    "Customer_claim_data_fraud = Customer_claim_data[Customer_claim_data.fraudulent=='Yes'].pivot_table(index = ['gender','Age_group'], values = 'claim_amount' ) "
   ]
  },
  {
   "cell_type": "code",
   "execution_count": 130,
   "id": "2106cd70-758c-4309-ac35-3ce840f7bbef",
   "metadata": {},
   "outputs": [
    {
     "data": {
      "text/html": [
       "<div>\n",
       "<style scoped>\n",
       "    .dataframe tbody tr th:only-of-type {\n",
       "        vertical-align: middle;\n",
       "    }\n",
       "\n",
       "    .dataframe tbody tr th {\n",
       "        vertical-align: top;\n",
       "    }\n",
       "\n",
       "    .dataframe thead th {\n",
       "        text-align: right;\n",
       "    }\n",
       "</style>\n",
       "<table border=\"1\" class=\"dataframe\">\n",
       "  <thead>\n",
       "    <tr style=\"text-align: right;\">\n",
       "      <th></th>\n",
       "      <th></th>\n",
       "      <th>claim_amount</th>\n",
       "    </tr>\n",
       "    <tr>\n",
       "      <th>gender</th>\n",
       "      <th>Age_group</th>\n",
       "      <th></th>\n",
       "    </tr>\n",
       "  </thead>\n",
       "  <tbody>\n",
       "    <tr>\n",
       "      <th rowspan=\"3\" valign=\"top\">Female</th>\n",
       "      <th>Adult</th>\n",
       "      <td>12759.420223</td>\n",
       "    </tr>\n",
       "    <tr>\n",
       "      <th>Senior</th>\n",
       "      <td>3332.294118</td>\n",
       "    </tr>\n",
       "    <tr>\n",
       "      <th>Youth</th>\n",
       "      <td>9676.303589</td>\n",
       "    </tr>\n",
       "    <tr>\n",
       "      <th rowspan=\"3\" valign=\"top\">Male</th>\n",
       "      <th>Adult</th>\n",
       "      <td>15017.682507</td>\n",
       "    </tr>\n",
       "    <tr>\n",
       "      <th>Senior</th>\n",
       "      <td>19463.111111</td>\n",
       "    </tr>\n",
       "    <tr>\n",
       "      <th>Youth</th>\n",
       "      <td>9699.647738</td>\n",
       "    </tr>\n",
       "  </tbody>\n",
       "</table>\n",
       "</div>"
      ],
      "text/plain": [
       "                  claim_amount\n",
       "gender Age_group              \n",
       "Female Adult      12759.420223\n",
       "       Senior      3332.294118\n",
       "       Youth       9676.303589\n",
       "Male   Adult      15017.682507\n",
       "       Senior     19463.111111\n",
       "       Youth       9699.647738"
      ]
     },
     "execution_count": 130,
     "metadata": {},
     "output_type": "execute_result"
    }
   ],
   "source": [
    "Customer_claim_data_fraud"
   ]
  },
  {
   "cell_type": "code",
   "execution_count": 134,
   "id": "66872268-906e-476a-95e9-5075e54a2092",
   "metadata": {},
   "outputs": [
    {
     "data": {
      "text/plain": [
       "<seaborn.axisgrid.FacetGrid at 0x26457e96c00>"
      ]
     },
     "execution_count": 134,
     "metadata": {},
     "output_type": "execute_result"
    },
    {
     "data": {
      "text/plain": [
       "<Figure size 3000x3000 with 0 Axes>"
      ]
     },
     "metadata": {},
     "output_type": "display_data"
    },
    {
     "data": {
      "image/png": "[encoded data removed]",
      "text/plain": [
       "<Figure size 600.25x500 with 1 Axes>"
      ]
     },
     "metadata": {},
     "output_type": "display_data"
    }
   ],
   "source": [
    "plt.figure(figsize = (30,30))\n",
    "sns.catplot(data = Customer_claim_data_fraud, kind = 'bar' , x = 'Age_group', y ='claim_amount', hue = 'gender' )\n"
   ]
  },
  {
   "cell_type": "code",
   "execution_count": null,
   "id": "e394a5f6-4adc-4ee9-b364-740ffe6b1213",
   "metadata": {},
   "outputs": [],
   "source": [
    "# As observed in the above graph in senior age group males tend to apply for fraud claims more as compared to females and the same in case of Adult age group."
   ]
  },
  {
   "cell_type": "code",
   "execution_count": null,
   "id": "740ba2c4-1b37-4a66-9341-50c45dbb069a",
   "metadata": {},
   "outputs": [],
   "source": [
    "# Creating a facet that represent non- fradulent claims based on gender and age group"
   ]
  },
  {
   "cell_type": "code",
   "execution_count": 136,
   "id": "4d9689dc-646c-42d5-b47d-630b70cb015e",
   "metadata": {},
   "outputs": [],
   "source": [
    "Customer_claim_data_non_fraud = Customer_claim_data[Customer_claim_data.fraudulent=='No'].pivot_table(index = ['gender','Age_group'], values = 'claim_amount' ) "
   ]
  },
  {
   "cell_type": "code",
   "execution_count": 140,
   "id": "b51cf325-9d8f-4c4d-b4f5-765c099396ad",
   "metadata": {},
   "outputs": [
    {
     "data": {
      "text/plain": [
       "<seaborn.axisgrid.FacetGrid at 0x2645776ad80>"
      ]
     },
     "execution_count": 140,
     "metadata": {},
     "output_type": "execute_result"
    },
    {
     "data": {
      "image/png": "[encoded data removed]",
      "text/plain": [
       "<Figure size 600.25x500 with 1 Axes>"
      ]
     },
     "metadata": {},
     "output_type": "display_data"
    }
   ],
   "source": [
    "sns.catplot(data = Customer_claim_data_non_fraud , kind = 'bar', x = 'Age_group', y = 'claim_amount', hue ='gender' )"
   ]
  },
  {
   "cell_type": "code",
   "execution_count": null,
   "id": "549d29fd-6e5a-4800-9b1b-f278e412443f",
   "metadata": {},
   "outputs": [],
   "source": [
    "# Based on the above graph in the Youth age group males go for non-fraud claims more than female. "
   ]
  },
  {
   "cell_type": "markdown",
   "id": "2b1bd2f7-f823-4cc3-af8e-d6ab74ba4e5b",
   "metadata": {},
   "source": [
    "# STATISTICAL TESTS :\n"
   ]
  },
  {
   "cell_type": "markdown",
   "id": "96149324-999a-4868-95d0-6b28be9c9021",
   "metadata": {},
   "source": [
    "## 16. Is there any similarity in the amount claimed by males and females?"
   ]
  },
  {
   "cell_type": "code",
   "execution_count": null,
   "id": "9f416633-c919-49ea-a5d6-ee32aff03400",
   "metadata": {},
   "outputs": [],
   "source": [
    "# The hypothesis test we're conducting to compare the average amount claimed by males and females\n",
    "# is called a two-sample t-test (also known as an independent t-test).It is used to determine if there are statistically \n",
    "# significant differences between the means of two independent groups (in this case, the amount claimed by males and females)."
   ]
  },
  {
   "cell_type": "code",
   "execution_count": null,
   "id": "081bc202-55e1-464a-bd49-4c78fb850b12",
   "metadata": {},
   "outputs": [],
   "source": [
    "Ho (Null Hypothesis) : amount claimed by males and females are equal\n",
    "Ha (Alternate Hypothesis) : amount claimed by males and females are not equal\n",
    "\n",
    "Based on industry standards we set the following parameters :\n",
    "\n",
    "confidence level = 95 % \n",
    "Significance level = 5%\n",
    "p critical= 0.05\n",
    "\n",
    "\n",
    "In the given scenario our sample is claim amount and since we have the sample mean and standard deviation we would use T-test \n"
   ]
  },
  {
   "cell_type": "code",
   "execution_count": 57,
   "id": "97979f8a-d0ce-4fba-b911-ae54f6ef1290",
   "metadata": {},
   "outputs": [],
   "source": [
    "Female= Customer_claim_data[Customer_claim_data.gender =='Female']['claim_amount']\n",
    "Male= Customer_claim_data[Customer_claim_data.gender =='Male']['claim_amount']"
   ]
  },
  {
   "cell_type": "code",
   "execution_count": 59,
   "id": "0998b4c2-1a0b-4430-a5b2-195e429f6702",
   "metadata": {},
   "outputs": [
    {
     "data": {
      "text/plain": [
       "TtestResult(statistic=-0.9617536430640763, pvalue=0.3363894432719138, df=1076.0)"
      ]
     },
     "execution_count": 59,
     "metadata": {},
     "output_type": "execute_result"
    }
   ],
   "source": [
    "#Conducting t test :\n",
    "\n",
    "T = stats.ttest_ind(Female,Male)\n",
    "T"
   ]
  },
  {
   "cell_type": "code",
   "execution_count": 61,
   "id": "ae74ca70-252e-4d9f-97c2-0dde82131340",
   "metadata": {},
   "outputs": [
    {
     "data": {
      "text/plain": [
       "True"
      ]
     },
     "execution_count": 61,
     "metadata": {},
     "output_type": "execute_result"
    }
   ],
   "source": [
    "T[1] >0.05"
   ]
  },
  {
   "cell_type": "code",
   "execution_count": null,
   "id": "10852ab7-d5f7-4615-abcf-373d87faca45",
   "metadata": {},
   "outputs": [],
   "source": [
    "# Since the p value obtained is greater than the p critical that was set we fail to reject the null hypothesis(Ho).\n",
    "# Thus the amount claimed by male and female are similar."
   ]
  },
  {
   "cell_type": "markdown",
   "id": "d352b1f9-8e27-43ed-9821-d6a859a550b1",
   "metadata": {},
   "source": [
    "## 17.  Is there any relationship between age category and segment"
   ]
  },
  {
   "cell_type": "code",
   "execution_count": null,
   "id": "222d2f0a-286a-4d30-965f-c9ffde3511f0",
   "metadata": {},
   "outputs": [],
   "source": [
    "# To determine if there is a  relationship between age category and segment , we will use the Chi-Square Test of Independence.\n",
    "# This test is appropriate for categorical variables, such as age category and segment .\n",
    "# The Chi-Square Test of Independence assesses whether two categorical variables are independent or if there is a significant association between them."
   ]
  },
  {
   "cell_type": "code",
   "execution_count": null,
   "id": "1dff1287-b108-47cc-841c-3da44fff5846",
   "metadata": {},
   "outputs": [],
   "source": [
    "# Before going ahead with the test we need to create a contigency table.\n",
    "# CONTIGENCY TABLE: a table that shows the frequency counts of each combination of categories"
   ]
  },
  {
   "cell_type": "code",
   "execution_count": 145,
   "id": "4782b651-a304-4489-a837-474c066b5b68",
   "metadata": {},
   "outputs": [],
   "source": [
    "CONTIGENCY_TABLE = pd.crosstab(Customer_claim_data.Age_group, Customer_claim_data.Segment)"
   ]
  },
  {
   "cell_type": "code",
   "execution_count": 147,
   "id": "ad315262-16d1-4069-940d-a909f354433f",
   "metadata": {},
   "outputs": [
    {
     "data": {
      "text/html": [
       "<div>\n",
       "<style scoped>\n",
       "    .dataframe tbody tr th:only-of-type {\n",
       "        vertical-align: middle;\n",
       "    }\n",
       "\n",
       "    .dataframe tbody tr th {\n",
       "        vertical-align: top;\n",
       "    }\n",
       "\n",
       "    .dataframe thead th {\n",
       "        text-align: right;\n",
       "    }\n",
       "</style>\n",
       "<table border=\"1\" class=\"dataframe\">\n",
       "  <thead>\n",
       "    <tr style=\"text-align: right;\">\n",
       "      <th>Segment</th>\n",
       "      <th>Gold</th>\n",
       "      <th>Platinum</th>\n",
       "      <th>Silver</th>\n",
       "    </tr>\n",
       "    <tr>\n",
       "      <th>Age_group</th>\n",
       "      <th></th>\n",
       "      <th></th>\n",
       "      <th></th>\n",
       "    </tr>\n",
       "  </thead>\n",
       "  <tbody>\n",
       "    <tr>\n",
       "      <th>Adult</th>\n",
       "      <td>285</td>\n",
       "      <td>283</td>\n",
       "      <td>267</td>\n",
       "    </tr>\n",
       "    <tr>\n",
       "      <th>Senior</th>\n",
       "      <td>38</td>\n",
       "      <td>34</td>\n",
       "      <td>30</td>\n",
       "    </tr>\n",
       "    <tr>\n",
       "      <th>Youth</th>\n",
       "      <td>48</td>\n",
       "      <td>44</td>\n",
       "      <td>49</td>\n",
       "    </tr>\n",
       "  </tbody>\n",
       "</table>\n",
       "</div>"
      ],
      "text/plain": [
       "Segment    Gold  Platinum  Silver\n",
       "Age_group                        \n",
       "Adult       285       283     267\n",
       "Senior       38        34      30\n",
       "Youth        48        44      49"
      ]
     },
     "execution_count": 147,
     "metadata": {},
     "output_type": "execute_result"
    }
   ],
   "source": [
    "CONTIGENCY_TABLE"
   ]
  },
  {
   "cell_type": "code",
   "execution_count": null,
   "id": "7097bd09-9dbe-427e-935f-79d66e37f4e1",
   "metadata": {},
   "outputs": [],
   "source": [
    "# (Null Hypothesis) Ho: There is no relationship between Age group and segment\n",
    "# (Alternate Hypothesis) Ha: There is a relationship between Age group and segment\n",
    "\n",
    "# We set the parameters at :\n",
    "\n",
    "# confidence level = 95 % \n",
    "# significance level = 5%\n",
    "# p critical= 0.05\n",
    "\n",
    "# The sample is Age group and segment in Customer claim data \n"
   ]
  },
  {
   "cell_type": "code",
   "execution_count": 151,
   "id": "f41aff61-44cc-432e-977c-2d0e1b5952a3",
   "metadata": {},
   "outputs": [],
   "source": [
    "relation_test = stats.chi2_contingency(CONTIGENCY_TABLE)"
   ]
  },
  {
   "cell_type": "code",
   "execution_count": 155,
   "id": "1dfc14a9-0be5-4186-a834-7fcfb969c0f7",
   "metadata": {},
   "outputs": [],
   "source": [
    "relation_test_pvalue = relation_test[1]"
   ]
  },
  {
   "cell_type": "code",
   "execution_count": 157,
   "id": "9d39b8a2-02e2-45a8-9c16-043a17a7e0e0",
   "metadata": {},
   "outputs": [
    {
     "data": {
      "text/plain": [
       "True"
      ]
     },
     "execution_count": 157,
     "metadata": {},
     "output_type": "execute_result"
    }
   ],
   "source": [
    "relation_test_pvalue >0.05"
   ]
  },
  {
   "cell_type": "code",
   "execution_count": null,
   "id": "945b1e8a-d7d8-4769-92d7-bf1e94ed0d80",
   "metadata": {},
   "outputs": [],
   "source": [
    "# As P value is greater than P critical so we were unable to reject the null hypothesis and therefore we can say with 95% confidence that\n",
    "# there is no significant relationship between Age_group and segment."
   ]
  },
  {
   "cell_type": "markdown",
   "id": "8d7dc45d-3ad2-4532-8326-15a93450ae86",
   "metadata": {},
   "source": [
    "## 18.  The current year has shown a significant rise in claim amounts as compared to 2016-17 fiscal average which was $10,000."
   ]
  },
  {
   "cell_type": "code",
   "execution_count": null,
   "id": "909b1112-87f9-4de0-b49a-4df363cb6a07",
   "metadata": {},
   "outputs": [],
   "source": [
    "# The goal is to determine whether the sample mean of the \"claim amount\" is significantly different from a hypothesized 2016-17 fiscal average which was $10,000.\n",
    "#The one-sample t-test is ideal for this because it allows you to compare the sample mean to a target value ($10,000 in this case) \n",
    "# and see if the observed mean is statistically significantly different."
   ]
  },
  {
   "cell_type": "code",
   "execution_count": null,
   "id": "d70eb99a-7be6-455d-bcb4-86288bc0908f",
   "metadata": {},
   "outputs": [],
   "source": [
    "# (Null Hypothesis) Ho: The average claim amount of current year is equal to 2016-17 fiscal average which was $10,000\n",
    "# (Alternate Hypothesis) Ha: The average claim amount of current year is greater than 2016-17 fiscal average which was $10,000\n",
    "\n",
    "# We set out parameters at :\n",
    "\n",
    "# confidence level = 95 % \n",
    "# significance level = 5%\n",
    "# p critical= 0.05"
   ]
  },
  {
   "cell_type": "code",
   "execution_count": 180,
   "id": "adf102f6-61e7-4f95-abd0-40f36693ba5f",
   "metadata": {},
   "outputs": [
    {
     "data": {
      "text/plain": [
       "claim_date\n",
       "2017    593\n",
       "2018    485\n",
       "Name: count, dtype: int64"
      ]
     },
     "execution_count": 180,
     "metadata": {},
     "output_type": "execute_result"
    }
   ],
   "source": [
    "Customer_claim_data.claim_date.dt.year.value_counts()"
   ]
  },
  {
   "cell_type": "code",
   "execution_count": null,
   "id": "935110a5-b5d0-41dc-ab63-513a26cc09ac",
   "metadata": {},
   "outputs": [],
   "source": [
    "# The provided dataset contains data on the current fiscal year 2017-2018"
   ]
  },
  {
   "cell_type": "code",
   "execution_count": 186,
   "id": "ccb965a1-436d-41b7-82a0-b970fbf46783",
   "metadata": {},
   "outputs": [],
   "source": [
    "claim_amount_test = stats.ttest_1samp(Customer_claim_data.claim_amount,10000)"
   ]
  },
  {
   "cell_type": "code",
   "execution_count": 188,
   "id": "7d4abd24-71f2-43ea-b4e4-2edd2407b9a1",
   "metadata": {},
   "outputs": [],
   "source": [
    "claim_amount_test_pvalue= claim_amount_test[1]"
   ]
  },
  {
   "cell_type": "code",
   "execution_count": 192,
   "id": "e5b01a6c-aea8-47f3-9767-7d39d8059be2",
   "metadata": {},
   "outputs": [
    {
     "data": {
      "text/plain": [
       "False"
      ]
     },
     "execution_count": 192,
     "metadata": {},
     "output_type": "execute_result"
    }
   ],
   "source": [
    "claim_amount_test_pvalue> 0.05 "
   ]
  },
  {
   "cell_type": "code",
   "execution_count": 196,
   "id": "a5c40a3f-f3e2-4223-bb56-a7f91046e29d",
   "metadata": {},
   "outputs": [],
   "source": [
    "# As P value is less than P critical so we reject null hypothesis and therefore we can say with 95% confidence \n",
    "# that the average claim amount of current year is greater than 2016-17 fiscal average which was $10,000."
   ]
  },
  {
   "cell_type": "markdown",
   "id": "4f58bb6c-f541-4080-89f9-eaf9a2da68c9",
   "metadata": {},
   "source": [
    "## 19.  Is there any difference between age groups and insurance claims?"
   ]
  },
  {
   "cell_type": "code",
   "execution_count": null,
   "id": "07c7569d-04dc-4159-8a4d-11c0616d5ac1",
   "metadata": {},
   "outputs": [],
   "source": [
    "#To analyze whether certain age groups have a different insurance claims, we would typically want to determine if there is a statistically\n",
    "# significant difference in insurance claims across different age groups and thus we can use ANNOVA test.\n",
    "# ANOVA is designed to compare the means of three or more groups. \n",
    " "
   ]
  },
  {
   "cell_type": "code",
   "execution_count": null,
   "id": "847abf50-596e-4a35-af86-5ec197adde2d",
   "metadata": {},
   "outputs": [],
   "source": [
    "# (Null Hypothesis) Ho: There is no difference in the insurance claims across different groups\n",
    "# (Alternate Hypothesis) Ha: At least one group has difference in the insurance claims compared to the others.\n",
    "\n",
    "# We set out parameters at :\n",
    "\n",
    "# confidence level = 95 % \n",
    "# significance level = 5%\n",
    "# p critical= 0.05"
   ]
  },
  {
   "cell_type": "code",
   "execution_count": 210,
   "id": "1540a787-e9ca-4507-9ab0-ef7d22537757",
   "metadata": {},
   "outputs": [
    {
     "data": {
      "text/plain": [
       "array(['Adult', 'Youth', 'Senior'], dtype=object)"
      ]
     },
     "execution_count": 210,
     "metadata": {},
     "output_type": "execute_result"
    }
   ],
   "source": [
    "Customer_claim_data.Age_group.unique()"
   ]
  },
  {
   "cell_type": "code",
   "execution_count": 214,
   "id": "2bb4db12-dfec-410e-80f3-46f549ca3e60",
   "metadata": {},
   "outputs": [],
   "source": [
    "Adult_Data = Customer_claim_data [Customer_claim_data.Age_group=='Adult']['claim_amount']\n",
    "Youth_Data = Customer_claim_data [Customer_claim_data.Age_group=='Youth']['claim_amount']\n",
    "Senior_Data = Customer_claim_data [Customer_claim_data.Age_group=='Senior']['claim_amount']"
   ]
  },
  {
   "cell_type": "code",
   "execution_count": 216,
   "id": "463c7235-5682-4938-83da-76b3a1254d00",
   "metadata": {},
   "outputs": [
    {
     "data": {
      "text/plain": [
       "F_onewayResult(statistic=0.7329129169210278, pvalue=0.48074721588568947)"
      ]
     },
     "execution_count": 216,
     "metadata": {},
     "output_type": "execute_result"
    }
   ],
   "source": [
    "ANNOVA_test = stats.f_oneway(Adult_Data,Youth_Data,Senior_Data)\n",
    "ANNOVA_test\n"
   ]
  },
  {
   "cell_type": "code",
   "execution_count": 218,
   "id": "cb55e8ca-153e-4d99-9869-b11d874362be",
   "metadata": {},
   "outputs": [],
   "source": [
    "ANNOVA_test_pvalue = ANNOVA_test [1]"
   ]
  },
  {
   "cell_type": "code",
   "execution_count": 220,
   "id": "720cefcb-c4c6-4eda-beea-8dca5b83aebd",
   "metadata": {},
   "outputs": [
    {
     "data": {
      "text/plain": [
       "True"
      ]
     },
     "execution_count": 220,
     "metadata": {},
     "output_type": "execute_result"
    }
   ],
   "source": [
    "ANNOVA_test_pvalue >0.05"
   ]
  },
  {
   "cell_type": "code",
   "execution_count": null,
   "id": "c3a25f5b-b4f0-4c5f-8e3c-ec2dba21f304",
   "metadata": {},
   "outputs": [],
   "source": [
    "# As P value is greater than P critical so we fail to reject the null hypothesis and therefore we can say with 95% confidence that\n",
    "# there is no difference in the insurance claims across different groups."
   ]
  },
  {
   "cell_type": "markdown",
   "id": "d1f0e371-9fed-4ba2-aa4e-7186d4fd9573",
   "metadata": {},
   "source": [
    " ## 20. Is there any relationship between total number of policy claims and the claimed amount?"
   ]
  },
  {
   "cell_type": "code",
   "execution_count": null,
   "id": "d9cef4e8-392a-4ec4-9e78-9be658399e39",
   "metadata": {},
   "outputs": [],
   "source": [
    "# To assess the relationship between the total number of policy claims and the claimed amount, we would typically use a correlation test,\n",
    "# specifically Pearson's correlation test , if both variables are continuous and normally distributed."
   ]
  },
  {
   "cell_type": "code",
   "execution_count": null,
   "id": "898d61d7-d0a7-4671-acf0-03cdf20b034e",
   "metadata": {},
   "outputs": [],
   "source": [
    "# (Null Hypothesis) Ho: There is no relationship between total number of policy claims and the claimed amount.\n",
    "# (Alternate Hypothesis) Ha: There is a  relationship between total number of policy claims and the claimed amount.\n",
    "\n",
    "# We set out parameters at :\n",
    "\n",
    "# confidence level = 95 % \n",
    "# significance level = 5%\n",
    "# p critical= 0.05"
   ]
  },
  {
   "cell_type": "code",
   "execution_count": 201,
   "id": "1b2889cd-ccb2-4081-8ef1-5ca60d2b1ce5",
   "metadata": {},
   "outputs": [],
   "source": [
    "Correlation_test = stats.pearsonr(Customer_claim_data.claim_amount,Customer_claim_data.total_policy_claims)"
   ]
  },
  {
   "cell_type": "code",
   "execution_count": 205,
   "id": "8bcc69fb-c286-4c16-9792-b467ff2cce81",
   "metadata": {},
   "outputs": [],
   "source": [
    "Correlation_test_pvalue = Correlation_test[1]"
   ]
  },
  {
   "cell_type": "code",
   "execution_count": 207,
   "id": "1e7cca99-8440-4279-92a4-74db40d6a218",
   "metadata": {},
   "outputs": [
    {
     "data": {
      "text/plain": [
       "True"
      ]
     },
     "execution_count": 207,
     "metadata": {},
     "output_type": "execute_result"
    }
   ],
   "source": [
    "Correlation_test_pvalue >0.05"
   ]
  },
  {
   "cell_type": "code",
   "execution_count": null,
   "id": "50166fa3-2652-4daf-888f-bb8e0aa9975f",
   "metadata": {},
   "outputs": [],
   "source": [
    "# As P value is greater than P critical so we fail to reject the null hypothesis and therefore we can say with 95% confidence that\n",
    "# there is no relationship between total number of policy claims and the claimed amount."
   ]
  }
 ],
 "metadata": {
  "kernelspec": {
   "display_name": "Python 3 (ipykernel)",
   "language": "python",
   "name": "python3"
  },
  "language_info": {
   "codemirror_mode": {
    "name": "ipython",
    "version": 3
   },
   "file_extension": ".py",
   "mimetype": "text/x-python",
   "name": "python",
   "nbconvert_exporter": "python",
   "pygments_lexer": "ipython3",
   "version": "3.12.4"
  }
 },
 "nbformat": 4,
 "nbformat_minor": 5
}
